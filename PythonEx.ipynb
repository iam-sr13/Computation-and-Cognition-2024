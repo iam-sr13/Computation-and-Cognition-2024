{
  "nbformat": 4,
  "nbformat_minor": 0,
  "metadata": {
    "colab": {
      "provenance": []
    },
    "kernelspec": {
      "name": "python3",
      "display_name": "Python 3"
    },
    "language_info": {
      "name": "python"
    }
  },
  "cells": [
    {
      "cell_type": "markdown",
      "source": [
        "# Problem solving in Python"
      ],
      "metadata": {
        "id": "4oejO_FFLkW4"
      }
    },
    {
      "cell_type": "markdown",
      "source": [
        "Q0. find sum of elements in list\n",
        "\n",
        "e.g. q = [1, 2, 3]\n",
        "sol = 6"
      ],
      "metadata": {
        "id": "JFBSOI5rbnmY"
      }
    },
    {
      "cell_type": "code",
      "source": [
        "q= [4,7,5]\n",
        "s= 0\n",
        "for i in q:\n",
        "  s=s + i\n",
        "print(s)\n",
        "\n",
        "for i in range(len(q)):\n",
        "  s=s + q[i]\n",
        "print(s)"
      ],
      "metadata": {
        "colab": {
          "base_uri": "https://localhost:8080/"
        },
        "id": "OWZsIaVFez3p",
        "outputId": "a06e93e7-15f4-47dc-e102-f9c1a4addd46"
      },
      "execution_count": null,
      "outputs": [
        {
          "output_type": "stream",
          "name": "stdout",
          "text": [
            "6\n"
          ]
        }
      ]
    },
    {
      "cell_type": "code",
      "source": [
        "s=\"krishna\"\n",
        "print(s[-1])\n"
      ],
      "metadata": {
        "colab": {
          "base_uri": "https://localhost:8080/"
        },
        "id": "C3nLDYhAgiE4",
        "outputId": "102f29d7-2f65-4a8d-b93d-3180abb87203"
      },
      "execution_count": null,
      "outputs": [
        {
          "output_type": "stream",
          "name": "stdout",
          "text": [
            "a\n"
          ]
        }
      ]
    },
    {
      "cell_type": "markdown",
      "source": [
        "Q1. Swap Two Elements in a List\n",
        "\n",
        "e.g. [1 , 2 , 3 , 4]\n",
        "swap 1st and 3rd\n",
        "\n",
        "sol = [3, 2, 1, 4]         "
      ],
      "metadata": {
        "id": "7iPKGRvFSk3y"
      }
    },
    {
      "cell_type": "code",
      "source": [
        "a = ['1','2','3','4']\n",
        "x = a[0]\n",
        "a[0] = a[2]\n",
        "a[2] = x\n",
        "print (a)"
      ],
      "metadata": {
        "colab": {
          "base_uri": "https://localhost:8080/"
        },
        "id": "Ci-JasQqoIOy",
        "outputId": "02f06d87-cd1f-4069-b6b6-f3cdfaaec094"
      },
      "execution_count": null,
      "outputs": [
        {
          "output_type": "stream",
          "name": "stdout",
          "text": [
            "[4, '2', '3', 1]\n"
          ]
        }
      ]
    },
    {
      "cell_type": "code",
      "source": [
        "a = 5\n",
        "b =3\n",
        "c = a\n",
        "a = b\n",
        "b = c\n",
        "\n",
        "a=a+b\n",
        "b=a-b\n",
        "a=a-b\n"
      ],
      "metadata": {
        "id": "PhhZWBjVo0IS"
      },
      "execution_count": null,
      "outputs": []
    },
    {
      "cell_type": "markdown",
      "source": [
        "Q2. Find sum of individual digits of a given number\n",
        "\n",
        "e.g. num = 26\n",
        "\n",
        "sum = 8"
      ],
      "metadata": {
        "id": "McptN6nZQkMh"
      }
    },
    {
      "cell_type": "code",
      "source": [
        "a = 26\n",
        "b = a//10\n",
        "c=a%10\n",
        "print(b,c,b+c)"
      ],
      "metadata": {
        "colab": {
          "base_uri": "https://localhost:8080/"
        },
        "id": "nXToyDFvtuKK",
        "outputId": "396db57c-2985-4bc0-fc3a-c093647a9a7b"
      },
      "execution_count": null,
      "outputs": [
        {
          "output_type": "stream",
          "name": "stdout",
          "text": [
            "2 6 8\n"
          ]
        }
      ]
    },
    {
      "cell_type": "markdown",
      "source": [
        "Q3. Find Sum of individual digits of the numbers in the given List\n",
        "\n",
        "e.g. q = [13, 24, 33]\n",
        "\n",
        "solution = [4, 6, 6]"
      ],
      "metadata": {
        "id": "x31H-eCPLpmq"
      }
    },
    {
      "cell_type": "markdown",
      "source": [
        "Q4. Given two numbers, write a Python code to find the Maximum of these two numbers."
      ],
      "metadata": {
        "id": "hbZCwHP-V0MT"
      }
    },
    {
      "cell_type": "markdown",
      "source": [
        "Q5. Given three numbers, write a Python code to find the Maximum of these three numbers."
      ],
      "metadata": {
        "id": "qGyEGxq9V1ri"
      }
    },
    {
      "cell_type": "markdown",
      "source": [
        "Q6. Find Largest Number in a List Without using built-in functions"
      ],
      "metadata": {
        "id": "OYYCRsuccQvK"
      }
    },
    {
      "cell_type": "markdown",
      "source": [
        "Q7. Given 3 numbers sort them\n",
        "\n",
        "e.g. list = [3,1,2]\n",
        "sorted = [1,2,3]"
      ],
      "metadata": {
        "id": "2z5z3JbjWMHR"
      }
    },
    {
      "cell_type": "markdown",
      "source": [
        "q8. find second largest number in a list"
      ],
      "metadata": {
        "id": "K4wYYbROalZo"
      }
    },
    {
      "cell_type": "markdown",
      "source": [
        "q9. Reverse a list"
      ],
      "metadata": {
        "id": "7SC9UoeHWMRy"
      }
    },
    {
      "cell_type": "markdown",
      "source": [
        "q10. Intersection of two lists\n",
        "\n",
        "Input :\n",
        "lst1 = [15, 9, 10, 56, 23, 78, 5, 4, 9]\n",
        "lst2 = [9, 4, 5, 36, 47, 26, 10, 45, 87]\n",
        "Output :\n",
        "[9, 10, 4, 5]\n",
        "\n",
        "Input :\n",
        "lst1 = [4, 9, 1, 17, 11, 26, 28, 54, 69]\n",
        "lst2 = [9, 9, 74, 21, 45, 11, 63, 28, 26]\n",
        "Output :\n",
        "[9, 11, 26, 28]"
      ],
      "metadata": {
        "id": "aHgxG4ODWMZ6"
      }
    },
    {
      "cell_type": "markdown",
      "source": [
        "q11. Check whether the string is Symmetrical or Palindrome\n",
        "\n",
        "A string is said to be symmetrical if both the halves of the string are the same and a string is said to be a palindrome string if one half of the string is the reverse of the other half or if a string appears same when read forward or backward.\n",
        "\n",
        "e.g. \"malayalam\", \"noon\", \"level\", \"Racecar\", \"radar\", \"rotator\",\n",
        "\n",
        "\"khokho\"\n",
        "\n",
        "\"amama\""
      ],
      "metadata": {
        "id": "jnxrKwQUmbb0"
      }
    },
    {
      "cell_type": "markdown",
      "source": [
        "q12. Check if two lists are identical"
      ],
      "metadata": {
        "id": "0lBVm0o0EVmu"
      }
    },
    {
      "cell_type": "markdown",
      "source": [
        "q.13 Reverse Words in a Given String in Python"
      ],
      "metadata": {
        "id": "EZpyszH1EXHx"
      }
    },
    {
      "cell_type": "markdown",
      "source": [
        "q14. Simple Diamond Pattern in Python"
      ],
      "metadata": {
        "id": "baIldUBEKr6f"
      }
    },
    {
      "cell_type": "markdown",
      "source": [
        "q15. print Pascal’s Triangle\n",
        "\n",
        "Input: N = 5\n",
        "\n",
        "Output:\n",
        "\n",
        "      1\n",
        "\n",
        "     1 1\n",
        "\n",
        "    1 2 1\n",
        "    \n",
        "  1 3 3 1\n",
        "\n",
        "  1 4 6 4 1"
      ],
      "metadata": {
        "id": "zkIVo3zYapn4"
      }
    },
    {
      "cell_type": "markdown",
      "source": [
        "          0C0\n",
        "       1C0   1C1\n",
        "    2C0   2C1   2C2\n",
        " 3C0   3C1   3C2    3C3"
      ],
      "metadata": {
        "id": "NYs4LFT8b_Rw"
      }
    },
    {
      "cell_type": "markdown",
      "source": [
        "Using nCr formula i.e. n!/(n-r)!r!"
      ],
      "metadata": {
        "id": "XNSIkbdOblyF"
      }
    }
  ]
}
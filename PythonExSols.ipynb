{
  "nbformat": 4,
  "nbformat_minor": 0,
  "metadata": {
    "colab": {
      "provenance": []
    },
    "kernelspec": {
      "name": "python3",
      "display_name": "Python 3"
    },
    "language_info": {
      "name": "python"
    }
  },
  "cells": [
    {
      "cell_type": "code",
      "execution_count": null,
      "metadata": {
        "id": "b808fIvqdlAB"
      },
      "outputs": [],
      "source": []
    },
    {
      "cell_type": "markdown",
      "source": [
        "# Solutions for Practice Exercises in Python"
      ],
      "metadata": {
        "id": "xPD0_FaPJ-n6"
      }
    },
    {
      "cell_type": "markdown",
      "source": [
        "Q0. find sum of elements in list"
      ],
      "metadata": {
        "id": "DW5Jk-YUby6b"
      }
    },
    {
      "cell_type": "code",
      "source": [
        "# Python program to find sum of elements in list\n",
        "\n",
        "total = 0\n",
        "\n",
        "# creating a list\n",
        "list1 = [11, 5, 17, 18, 23]\n",
        "\n",
        "# Iterate each element in list\n",
        "# and add them in variable total\n",
        "for ele in range(0, len(list1)):\n",
        "    total = total + list1[ele]\n",
        "\n",
        "# printing total value\n",
        "print(\"Sum of all elements in given list: \", total)"
      ],
      "metadata": {
        "id": "jG9rWYuXb075"
      },
      "execution_count": null,
      "outputs": []
    },
    {
      "cell_type": "markdown",
      "source": [
        "Q1. Swap Two Elements in a List"
      ],
      "metadata": {
        "id": "1M48l2NzTYqK"
      }
    },
    {
      "cell_type": "code",
      "source": [
        "# Python3 program to swap elements\n",
        "# at given positions\n",
        "\n",
        "# Swap function\n",
        "def swapPositions(list, pos1, pos2):\n",
        "\n",
        "    tvar = list[pos1]\n",
        "\n",
        "    list[pos1] = list[pos2]\n",
        "\n",
        "    list[pos2] = tvar\n",
        "\n",
        "    return list\n",
        "\n",
        "# Driver function\n",
        "List = [23, 65, 19, 90]\n",
        "pos1, pos2  = 1, 3\n",
        "\n",
        "print(swapPositions(List, pos1-1, pos2-1))"
      ],
      "metadata": {
        "colab": {
          "base_uri": "https://localhost:8080/"
        },
        "id": "dpg63d--TY1z",
        "outputId": "3531a650-d575-42ec-b8c6-428da4c470d1"
      },
      "execution_count": null,
      "outputs": [
        {
          "output_type": "stream",
          "name": "stdout",
          "text": [
            "[19, 65, 23, 90]\n"
          ]
        }
      ]
    },
    {
      "cell_type": "code",
      "source": [
        "# Python3 program to swap elements\n",
        "# at given positions\n",
        "\n",
        "# Swap function\n",
        "def swapPositions(list, pos1, pos2):\n",
        "\n",
        "    # popping both the elements from list\n",
        "    first_ele = list.pop(pos1)\n",
        "    second_ele = list.pop(pos2-1)\n",
        "\n",
        "    # inserting in each others positions\n",
        "    list.insert(pos1, second_ele)\n",
        "    list.insert(pos2, first_ele)\n",
        "\n",
        "    return list\n",
        "\n",
        "# Driver function\n",
        "List = [23, 65, 19, 90]\n",
        "pos1, pos2  = 1, 3\n",
        "\n",
        "print(swapPositions(List, pos1-1, pos2-1))"
      ],
      "metadata": {
        "colab": {
          "base_uri": "https://localhost:8080/"
        },
        "id": "5qKSn7NrUPnS",
        "outputId": "0cca49b2-1ecf-4e22-f79a-a8ec8159e4fe"
      },
      "execution_count": null,
      "outputs": [
        {
          "output_type": "stream",
          "name": "stdout",
          "text": [
            "[19, 65, 23, 90]\n"
          ]
        }
      ]
    },
    {
      "cell_type": "markdown",
      "source": [
        "Q2. Find sum of individual digits of a given number\n"
      ],
      "metadata": {
        "id": "WcrQAETlNHqU"
      }
    },
    {
      "cell_type": "code",
      "source": [
        "# Python 3 program to\n",
        "# compute sum of digits in\n",
        "# number.\n",
        "\n",
        "# Function to get sum of digits\n",
        "def getSum(n):\n",
        "\n",
        "    sum = 0\n",
        "    while (n != 0):\n",
        "\n",
        "        sum = sum + (n % 10)\n",
        "        n = n//10\n",
        "\n",
        "    return sum\n",
        "\n",
        "n = 12345\n",
        "print(getSum(n))"
      ],
      "metadata": {
        "colab": {
          "base_uri": "https://localhost:8080/"
        },
        "id": "dezQWF4NQ4Gh",
        "outputId": "9263290b-593e-4279-f86f-2b0997a54b3b"
      },
      "execution_count": null,
      "outputs": [
        {
          "output_type": "stream",
          "name": "stdout",
          "text": [
            "15\n"
          ]
        }
      ]
    },
    {
      "cell_type": "code",
      "source": [
        "# Python program to\n",
        "# compute sum of digits in\n",
        "# number.\n",
        "\n",
        "# Function to get sum of digits\n",
        "def getSum(n):\n",
        "\n",
        "    sum = 0\n",
        "    for digit in str(n):\n",
        "      sum += int(digit)\n",
        "    return sum\n",
        "\n",
        "n = 12345\n",
        "print(getSum(n))"
      ],
      "metadata": {
        "colab": {
          "base_uri": "https://localhost:8080/"
        },
        "id": "td5daN6UUb1x",
        "outputId": "9f8f495c-b290-46f7-b66a-3fda7d0b8a7f"
      },
      "execution_count": null,
      "outputs": [
        {
          "output_type": "stream",
          "name": "stdout",
          "text": [
            "15\n"
          ]
        }
      ]
    },
    {
      "cell_type": "markdown",
      "source": [
        "Q3. Find Sum of individual digits of the numbers in the given List\n",
        "\n",
        "---\n",
        "\n"
      ],
      "metadata": {
        "id": "VKoMEW37LYpi"
      }
    },
    {
      "cell_type": "code",
      "execution_count": null,
      "metadata": {
        "colab": {
          "base_uri": "https://localhost:8080/"
        },
        "id": "M_3494m_J5Oq",
        "outputId": "ccf2aaf0-0ac6-449a-ede0-733fec5f96b4"
      },
      "outputs": [
        {
          "output_type": "stream",
          "name": "stdout",
          "text": [
            "The original list is : [12, 67, 98, 34]\n",
            "List Integer Summation : [3, 13, 17, 7]\n"
          ]
        }
      ],
      "source": [
        "# Python3 code to demonstrate\n",
        "# Sum of number digits in List\n",
        "# using loop + str()\n",
        "\n",
        "# Initializing list\n",
        "test_list = [12, 67, 98, 34]\n",
        "\n",
        "# printing original list\n",
        "print(\"The original list is : \" + str(test_list))\n",
        "\n",
        "# Sum of number digits in List\n",
        "# using loop + str()\n",
        "res = []\n",
        "for ele in test_list:\n",
        "    sum = 0\n",
        "    for digit in str(ele):\n",
        "        sum += int(digit)\n",
        "    res.append(sum)\n",
        "\n",
        "# printing result\n",
        "print (\"List Integer Summation : \" + str(res))"
      ]
    },
    {
      "cell_type": "markdown",
      "source": [
        "Q4. Given two numbers, write a Python code to find the Maximum of these two numbers."
      ],
      "metadata": {
        "id": "nUKfT-iKVYIa"
      }
    },
    {
      "cell_type": "markdown",
      "source": [],
      "metadata": {
        "id": "Cz0lPhx-WXuM"
      }
    },
    {
      "cell_type": "code",
      "source": [
        "# Python program to find the\n",
        "# maximum of two numbers\n",
        "\n",
        "\n",
        "def maximum(a, b):\n",
        "\n",
        "    if a >= b:\n",
        "        return a\n",
        "    else:\n",
        "        return b\n",
        "\n",
        "# Driver code\n",
        "a = 2\n",
        "b = 4\n",
        "print(maximum(a, b))"
      ],
      "metadata": {
        "id": "ssmt38iIVdS6"
      },
      "execution_count": null,
      "outputs": []
    },
    {
      "cell_type": "markdown",
      "source": [
        "Q5. Given 3 numbers, write a Python code to find the Maximum of these 3 numbers."
      ],
      "metadata": {
        "id": "MzS5X5XPMjno"
      }
    },
    {
      "cell_type": "code",
      "source": [
        "# Python program to find the largest\n",
        "# number among the three numbers\n",
        "\n",
        "def maximum(a, b, c):\n",
        "\n",
        "    if (a >= b) and (a >= c):\n",
        "        largest = a\n",
        "\n",
        "    elif (b >= a) and (b >= c):\n",
        "        largest = b\n",
        "    else:\n",
        "        largest = c\n",
        "\n",
        "    return largest\n",
        "\n",
        "\n",
        "# Driven code\n",
        "a = 10\n",
        "b = 14\n",
        "c = 12\n",
        "print(maximum(a, b, c))"
      ],
      "metadata": {
        "id": "gOtBUWANWsOp",
        "outputId": "bea603ca-337e-4f26-e68d-be92c1a7bf3e",
        "colab": {
          "base_uri": "https://localhost:8080/"
        }
      },
      "execution_count": null,
      "outputs": [
        {
          "output_type": "stream",
          "name": "stdout",
          "text": [
            "14\n"
          ]
        }
      ]
    },
    {
      "cell_type": "markdown",
      "source": [
        "q6. Find Largest Number in a List Without using built-in functions"
      ],
      "metadata": {
        "id": "edwj2qm1cYOi"
      }
    },
    {
      "cell_type": "code",
      "source": [
        "# Python program to find largest\n",
        "# number in a list\n",
        "\n",
        "\n",
        "def myMax(list1):\n",
        "\n",
        "    # Assume first number in list is largest\n",
        "    # initially and assign it to variable \"max\"\n",
        "    max = list1[0]\n",
        "# Now traverse through the list and compare\n",
        "    # each number with \"max\" value. Whichever is\n",
        "    # largest assign that value to \"max'.\n",
        "    for x in list1:\n",
        "        if x > max:\n",
        "            max = x\n",
        "\n",
        "    # after complete traversing the list\n",
        "    # return the \"max\" value\n",
        "    return max\n",
        "\n",
        "\n",
        "# Driver code\n",
        "list1 = [10, 20, 4, 45, 99]\n",
        "print(\"Largest element is:\", myMax(list1))"
      ],
      "metadata": {
        "id": "uh_1cInHcZ6b"
      },
      "execution_count": null,
      "outputs": []
    },
    {
      "cell_type": "markdown",
      "source": [
        "Q7. Given 3 numbers sort them"
      ],
      "metadata": {
        "id": "_3Zm6eA9YSa6"
      }
    },
    {
      "cell_type": "code",
      "source": [
        "# Python3 program to sort an array of size 3\n",
        "def sort3(arr):\n",
        "\n",
        "    # Insert arr[1]\n",
        "    if (arr[1] < arr[0]):\n",
        "        tvar1 = arr[0]\n",
        "        arr[0] = arr[1]\n",
        "        arr[1] = tvar1\n",
        "\n",
        "    # Insert arr[2]\n",
        "    if (arr[2] < arr[1]):\n",
        "        tvar2 = arr[1]\n",
        "        arr[1] = arr[2]\n",
        "        arr[2] = tvar2\n",
        "\n",
        "        if (arr[1] < arr[0]):\n",
        "            tvar3 = arr[0]\n",
        "            arr[0] = arr[1]\n",
        "            arr[1] = tvar3\n",
        "\n",
        "# Driver code\n",
        "a = [10, 12, 5]\n",
        "\n",
        "sort3(a)\n",
        "\n",
        "for i in range(3):\n",
        "    print(a[i],end=\" \")\n"
      ],
      "metadata": {
        "id": "GQzicZUrWvjR",
        "colab": {
          "base_uri": "https://localhost:8080/"
        },
        "outputId": "feef53bf-aafb-4eb4-9da0-3082bb96a0a7"
      },
      "execution_count": null,
      "outputs": [
        {
          "output_type": "stream",
          "name": "stdout",
          "text": [
            "5 10 12 "
          ]
        }
      ]
    },
    {
      "cell_type": "markdown",
      "source": [
        "q8. find second largest number in a list"
      ],
      "metadata": {
        "id": "KI0YBP43abDx"
      }
    },
    {
      "cell_type": "code",
      "source": [
        "# Python program to find second largest\n",
        "# number in a list\n",
        "\n",
        "# list of numbers - length of\n",
        "# list should be at least 2\n",
        "list1 = [10, 20, 4, 45, 99]\n",
        "\n",
        "mx = max(list1[0], list1[1])\n",
        "secondmax = min(list1[0], list1[1])\n",
        "n = len(list1)\n",
        "for i in range(2,n):\n",
        "    if list1[i] > mx:\n",
        "        secondmax = mx\n",
        "        mx = list1[i]\n",
        "    elif list1[i] > secondmax and \\\n",
        "        mx != list1[i]:\n",
        "        secondmax = list1[i]\n",
        "    elif mx == secondmax and \\\n",
        "        secondmax != list1[i]:\n",
        "          secondmax = list1[i]\n",
        "\n",
        "print(\"Second highest number is : \",\\\n",
        "      str(secondmax))"
      ],
      "metadata": {
        "id": "4OF5S6m5abUw"
      },
      "execution_count": null,
      "outputs": []
    },
    {
      "cell_type": "code",
      "source": [
        "def findLargest(arr):\n",
        "    secondLargest = 0\n",
        "    largest = min(arr)\n",
        "\n",
        "    for i in range(len(arr)):\n",
        "        if arr[i] > largest:\n",
        "            secondLargest = largest\n",
        "            largest = arr[i]\n",
        "        else:\n",
        "            secondLargest = max(secondLargest, arr[i])\n",
        "\n",
        "    # Returning second largest element\n",
        "    return secondLargest\n",
        "\n",
        "\n",
        "# Calling above method over this array set\n",
        "print(findLargest([10, 20, 4, 45, 99]))"
      ],
      "metadata": {
        "id": "NTTLJIezauuC"
      },
      "execution_count": null,
      "outputs": []
    },
    {
      "cell_type": "markdown",
      "source": [
        "q9. Reverse a list"
      ],
      "metadata": {
        "id": "00L_zK_JXytd"
      }
    },
    {
      "cell_type": "code",
      "source": [
        "# Reversing a list using slicing technique\n",
        "def Reverse(lst):\n",
        "   new_lst = lst[::-1]\n",
        "   return new_lst\n",
        "\n",
        "\n",
        "lst = [10, 11, 12, 13, 14, 15]\n",
        "print(Reverse(lst))"
      ],
      "metadata": {
        "id": "mR3-J2nCZc7E"
      },
      "execution_count": null,
      "outputs": []
    },
    {
      "cell_type": "code",
      "source": [
        "#Python program to reverse an array\n",
        "def list_reverse(arr,size):\n",
        "\n",
        "    #if only one element present, then return the array\n",
        "    if(size==1):\n",
        "        return arr\n",
        "\n",
        "    #if only two elements present, then swap both the numbers.\n",
        "    elif(size==2):\n",
        "        arr[0],arr[1],=arr[1],arr[0]\n",
        "        return arr\n",
        "\n",
        "    #if more than two elements presents, then swap first and last numbers.\n",
        "    else:\n",
        "        i=0\n",
        "        while(i<size//2):\n",
        "\n",
        "    #swap present and preceding numbers at time and jump to second element after swap\n",
        "            arr[i],arr[size-i-1]=arr[size-i-1],arr[i]\n",
        "\n",
        "    #skip if present and preceding numbers indexes are same\n",
        "            if((i!=i+1 and size-i-1 != size-i-2) and (i!=size-i-2 and size-i-1!=i+1)):\n",
        "                arr[i+1],arr[size-i-2]=arr[size-i-2],arr[i+1]\n",
        "            i+=2\n",
        "        return arr\n",
        "\n",
        "arr=[1,2,3,4,5]\n",
        "size=5\n",
        "print('Original list: ',arr)\n",
        "print(\"Reversed list: \",list_reverse(arr,size))"
      ],
      "metadata": {
        "id": "ADJBzuEWaDeB"
      },
      "execution_count": null,
      "outputs": []
    },
    {
      "cell_type": "markdown",
      "source": [
        "q10. intersection of 2 lists"
      ],
      "metadata": {
        "id": "cdriMz5EaG0Z"
      }
    },
    {
      "cell_type": "code",
      "source": [
        "# Python program to illustrate the intersection\n",
        "# of two lists in most simple way\n",
        "def intersection(lst1, lst2):\n",
        "    lst3 = [value for value in lst1 if value in lst2]\n",
        "    return lst3\n",
        "\n",
        "# Driver Code\n",
        "lst1 = [4, 9, 1, 17, 11, 26, 28, 54, 69]\n",
        "lst2 = [9, 9, 74, 21, 45, 11, 63, 28, 26]\n",
        "print(intersection(lst1, lst2))"
      ],
      "metadata": {
        "colab": {
          "base_uri": "https://localhost:8080/"
        },
        "id": "cYYGlloceofQ",
        "outputId": "7349bbaf-3c2f-4cdb-ab17-3c33cd1bcd59"
      },
      "execution_count": null,
      "outputs": [
        {
          "output_type": "stream",
          "name": "stdout",
          "text": [
            "[9, 11, 26, 28]\n"
          ]
        }
      ]
    },
    {
      "cell_type": "markdown",
      "source": [
        "q11. program to check whether the string is Symmetrical or Palindrome\n",
        "\n",
        "---\n",
        "\n"
      ],
      "metadata": {
        "id": "yJctSNm1epgJ"
      }
    },
    {
      "cell_type": "code",
      "source": [
        "# Python program to demonstrate\n",
        "# symmetry and palindrome of the\n",
        "# string\n",
        "\n",
        "\n",
        "# Function to check whether the\n",
        "# string is palindrome or not\n",
        "def palindrome(a):\n",
        "\n",
        "    # finding the mid, start\n",
        "    # and last index of the string\n",
        "    mid = (len(a)-1)//2     #you can remove the -1 or you add <= sign in line 21\n",
        "    start = 0                #so that you can compare the middle elements also.\n",
        "    last = len(a)-1\n",
        "    flag = 0\n",
        "\n",
        "    # A loop till the mid of the\n",
        "    # string\n",
        "    while(start <= mid):\n",
        "\n",
        "        # comparing letters from right\n",
        "        # from the letters from left\n",
        "        if (a[start]== a[last]):\n",
        "\n",
        "            start += 1\n",
        "            last -= 1\n",
        "\n",
        "        else:\n",
        "            flag = 1\n",
        "            break;\n",
        "\n",
        "    # Checking the flag variable to\n",
        "    # check if the string is palindrome\n",
        "    # or not\n",
        "    if flag == 0:\n",
        "        print(\"The entered string \"+a+\" is palindrome\")\n",
        "    else:\n",
        "        print(\"The entered string \"+a+\" is not palindrome\")\n",
        "\n",
        "# Function to check whether the\n",
        "# string is symmetrical or not\n",
        "def symmetry(a):\n",
        "\n",
        "    n = len(a)\n",
        "    flag = 0\n",
        "\n",
        "    # Check if the string's length\n",
        "    # is odd or even\n",
        "    if n%2:\n",
        "        mid = n//2 +1\n",
        "    else:\n",
        "        mid = n//2\n",
        "\n",
        "    start1 = 0\n",
        "    start2 = mid\n",
        "\n",
        "    while(start1 < mid and start2 < n):\n",
        "\n",
        "        if (a[start1]== a[start2]):\n",
        "            start1 = start1 + 1\n",
        "            start2 = start2 + 1\n",
        "        else:\n",
        "            flag = 1\n",
        "            break\n",
        "\n",
        "    # Checking the flag variable to\n",
        "    # check if the string is symmetrical\n",
        "    # or not\n",
        "    if flag == 0:\n",
        "        print(\"The entered string \"+a+\" is symmetrical\")\n",
        "    else:\n",
        "        print(\"The entered string \"+a+\" is not symmetrical\")\n",
        "\n",
        "# Driver code\n",
        "string = 'amama'\n",
        "palindrome(string)\n",
        "symmetry(string)"
      ],
      "metadata": {
        "colab": {
          "base_uri": "https://localhost:8080/"
        },
        "id": "Sc0ZOlKXnM__",
        "outputId": "2732b991-bc0c-4301-fa87-64e54ef8c172"
      },
      "execution_count": null,
      "outputs": [
        {
          "output_type": "stream",
          "name": "stdout",
          "text": [
            "The entered string is palindrome\n",
            "The entered string is not symmetrical\n"
          ]
        }
      ]
    },
    {
      "cell_type": "markdown",
      "source": [
        "q12. Check if two lists are identical"
      ],
      "metadata": {
        "id": "CUdtdYN1ESGR"
      }
    },
    {
      "cell_type": "code",
      "source": [
        "# Python 3 code to demonstrate\n",
        "# check if list are identical\n",
        "# using sort() + == operator\n",
        "\n",
        "# initializing lists\n",
        "test_list1 = [1, 2, 4, 3, 5]\n",
        "test_list2 = [1, 2, 4, 3, 5]\n",
        "\n",
        "# printing lists\n",
        "print(\"The first list is : \" + str(test_list1))\n",
        "print(\"The second list is : \" + str(test_list2))\n",
        "\n",
        "# sorting both the lists\n",
        "test_list1.sort()\n",
        "test_list2.sort()\n",
        "\n",
        "# using == to check if\n",
        "# lists are equal\n",
        "if test_list1 == test_list2:\n",
        "    print(\"The lists are identical\")\n",
        "else:\n",
        "    print(\"The lists are not identical\")"
      ],
      "metadata": {
        "colab": {
          "base_uri": "https://localhost:8080/"
        },
        "id": "5zLZN8Qwnn7S",
        "outputId": "55753acd-2742-46fd-94a4-ae5f1a5a59c8"
      },
      "execution_count": null,
      "outputs": [
        {
          "output_type": "stream",
          "name": "stdout",
          "text": [
            "The first list is : [1, 2, 4, 3, 5]\n",
            "The second list is : [1, 2, 4, 3, 5]\n",
            "The lists are identical\n"
          ]
        }
      ]
    },
    {
      "cell_type": "markdown",
      "source": [
        "q.13 Reverse Words in a Given String in Python\n",
        "\n",
        "\n"
      ],
      "metadata": {
        "id": "eImGf15EEZPH"
      }
    },
    {
      "cell_type": "code",
      "source": [
        "# Python code\n",
        "# To reverse words in a given string\n",
        "\n",
        "# input string\n",
        "string = \"geeks quiz practice code\"\n",
        "# reversing words in a given string\n",
        "s = string.split()[::-1]\n",
        "l = []\n",
        "for i in s:\n",
        "    # appending reversed words to l\n",
        "    l.append(i)\n",
        "# printing reverse words\n",
        "print(\" \".join(l))"
      ],
      "metadata": {
        "id": "b731ZOkZEZu3"
      },
      "execution_count": null,
      "outputs": []
    },
    {
      "cell_type": "code",
      "source": [
        "# initializing string\n",
        "string = \"geeks quiz practice code\"\n",
        "\n",
        "# creating an empty stack\n",
        "stack = []\n",
        "\n",
        "# pushing words onto the stack\n",
        "for word in string.split():\n",
        "    stack.append(word)\n",
        "\n",
        "# creating an empty list to store the reversed words\n",
        "reversed_words = []\n",
        "\n",
        "# popping words off the stack and appending them to the list\n",
        "while stack:\n",
        "    reversed_words.append(stack.pop())\n",
        "\n",
        "# joining the reversed words with a space\n",
        "reversed_string = \" \".join(reversed_words)\n",
        "\n",
        "# printing the reversed string\n",
        "print(reversed_string)"
      ],
      "metadata": {
        "id": "grezvsk5KM5q"
      },
      "execution_count": null,
      "outputs": []
    },
    {
      "cell_type": "markdown",
      "source": [
        "q14. Simple Diamond Pattern in Python"
      ],
      "metadata": {
        "id": "gvUvKRgNKmdx"
      }
    },
    {
      "cell_type": "code",
      "source": [
        "# define the size (no. of columns)\n",
        "# must be odd to draw proper diamond shape\n",
        "size = 8\n",
        "\n",
        "# initialize the spaces\n",
        "spaces = size\n",
        "\n",
        "# loops for iterations to create worksheet\n",
        "for i in range(size//2+2):\n",
        "    for j in range(size):\n",
        "\n",
        "        # condition to left space\n",
        "        # condition to right space\n",
        "        # condition for making diamond\n",
        "        # else print *\n",
        "        if j < i-1:\n",
        "            print(' ', end=\" \")\n",
        "        elif j > spaces:\n",
        "            print(' ', end=\" \")\n",
        "        elif (i == 0 and j == 0) | (i == 0 and j == size-1):\n",
        "            print(' ', end=\" \")\n",
        "        else:\n",
        "            print('*', end=\" \")\n",
        "\n",
        "    # increase space area by decreasing spaces\n",
        "    spaces -= 1\n",
        "\n",
        "    # for line change\n",
        "    print()"
      ],
      "metadata": {
        "id": "i_sJYA_-aLIQ"
      },
      "execution_count": null,
      "outputs": []
    },
    {
      "cell_type": "markdown",
      "source": [
        "q15. print Pascal’s Triangle"
      ],
      "metadata": {
        "id": "la-raaJZKxGo"
      }
    },
    {
      "cell_type": "code",
      "source": [
        "# Print Pascal's Triangle in Python\n",
        "from math import factorial\n",
        "\n",
        "# input n\n",
        "n = 5\n",
        "for i in range(n):\n",
        "    for j in range(n-i+1):\n",
        "\n",
        "        # for left spacing\n",
        "        print(end=\" \")\n",
        "\n",
        "    for j in range(i+1):\n",
        "\n",
        "        # nCr = n!/((n-r)!*r!)\n",
        "        print(factorial(i)//(factorial(j)*factorial(i-j)), end=\" \")\n",
        "\n",
        "    # for new line\n",
        "    print()"
      ],
      "metadata": {
        "id": "ZZUg6JnjbD9X"
      },
      "execution_count": null,
      "outputs": []
    },
    {
      "cell_type": "code",
      "source": [
        "# Print Pascal's Triangle in Python\n",
        "\n",
        "# input n\n",
        "n = 5\n",
        "\n",
        "# iterarte upto n\n",
        "for i in range(n):\n",
        "    # adjust space\n",
        "    print(' '*(n-i), end='')\n",
        "\n",
        "    # compute power of 11\n",
        "    print(' '.join(map(str, str(11**i))))"
      ],
      "metadata": {
        "id": "S6nIlna3bvCP"
      },
      "execution_count": null,
      "outputs": []
    },
    {
      "cell_type": "markdown",
      "source": [
        "# Reference:\n",
        "\n",
        "[1] https://www.geeksforgeeks.org/python-exercises-practice-questions-and-solutions/"
      ],
      "metadata": {
        "id": "stmm350gKxOf"
      }
    },
    {
      "cell_type": "code",
      "source": [],
      "metadata": {
        "id": "YR3GGEQwK2GH"
      },
      "execution_count": null,
      "outputs": []
    }
  ]
}
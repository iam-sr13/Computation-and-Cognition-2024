{
  "cells": [
    {
      "cell_type": "markdown",
      "metadata": {
        "id": "aEJ9bMDqGp5u"
      },
      "source": [
        "# Intro to Python for Cognitive Science Undergrads"
      ]
    },
    {
      "cell_type": "markdown",
      "metadata": {
        "id": "2WUo8uEtGp5w"
      },
      "source": [
        "```{warning}\n",
        "This document by itself is by no means a complete introduction to programming or Python.  Instead I'm trying to give you the best coverage of things you will encounter in this class!!\n",
        "```"
      ]
    },
    {
      "cell_type": "markdown",
      "metadata": {
        "id": "x9Cj7X0GGp5w"
      },
      "source": [
        "## What is Python?"
      ]
    },
    {
      "cell_type": "markdown",
      "metadata": {
        "id": "Tc1Vm6KVGp5w"
      },
      "source": [
        "Python is a popular programming language that is often considered easy to learn, flexible, and (importantly) free to use on most computers.  Python is used extensively in science and in industry.  One reason is that Python has a very strong set of add-on libraries that let you use it for all kinds of tasks including data analysis, statistical modeling, developing applications for the web, running experiments, programming video games, making desktop apps, and programming robots.  \n",
        "\n",
        "<div style=\"text-align: center\"><img src=\"./images/python.png\" width=\"300\"></div>\n",
        "\n",
        "You can learn more about the language on [python.org](https://www.python.org/)."
      ]
    },
    {
      "cell_type": "markdown",
      "metadata": {
        "id": "twPni9AbGp5w"
      },
      "source": [
        "This chapters gives you an overview of most the language features in Python you can expect to encounter in this course.  Bookmark this chapter for an easy reminder of the most important use cases, but also when you are starting out it can make sense to step through these elements one by one.  \n",
        "\n",
        "> This chapter will be distributed to your JupyterHub compute instance.  You are encouraged to run each Jupyter cell one by one trying to read and understand the output.  I also encourage you to try changing cell and playing with slightly different inputs.  There's no way to permenantly break anything and you can learn a lot by trying variations of things as well as making mistakes!\n",
        "\n",
        "The chapter is divided into different subsections reviewing a basic feature of Python including:\n",
        "\n",
        "\n",
        "- [Comments](#comments)\n",
        "- [Calling Functions](#calling-functions)\n",
        "- [Using Python as a calculator](#using-python-as-a-calculator)\n",
        "- [Variables](#variables)\n",
        "- [Messing with text (i.e., strings)](#messing-with-text-i-e-strings)\n",
        "- [Collections](#collections)\n",
        "    - [Lists](#lists)\n",
        "    - [Dictionaries](#dictionaries)\n",
        "    - [Sets](#sets)\n",
        "- [Flow Control](#flow-control)\n",
        "    - [Testing if things are true](#testing-if-things-are-true)\n",
        "    - [Conditionals (i.e., if-then-else)](#conditionals-if-then-else)\n",
        "    - [For loops](#for-loops)\n",
        "- [Writing New Functions](#writing-new-functions)\n",
        "- [Importing additional functionality via libraries](#importing-additional-functionality)\n",
        "- [Dealing with error messages](#dealing-with-error-messages)\n"
      ]
    },
    {
      "cell_type": "markdown",
      "metadata": {
        "id": "6YtNTvBbGp5w"
      },
      "source": [
        "## Comments"
      ]
    },
    {
      "cell_type": "markdown",
      "metadata": {
        "id": "De0JK1cVGp5x"
      },
      "source": [
        "Comments in Python start with the hash character, `#`, and extend to the end of the physical line. A comment may appear at the start of a line or following whitespace or code, but not within a string literal. A hash character within a string literal is just a hash character. Since comments are to clarify code and are not interpreted by Python, they may be omitted when typing in examples.\n",
        "\n",
        "Some examples:"
      ]
    },
    {
      "cell_type": "code",
      "execution_count": null,
      "metadata": {
        "id": "0i80xQztGp5x",
        "outputId": "25d75a67-6c09-4f02-e63f-274c8229b0d7"
      },
      "outputs": [
        {
          "name": "stdout",
          "output_type": "stream",
          "text": [
            "# This is not a comment because it's inside quotes.\n"
          ]
        }
      ],
      "source": [
        "# this is the first comment\n",
        "spam = 1  # and this is the second comment\n",
        "          # ... and now a third!\n",
        "text = \"# This is not a comment because it's inside quotes.\"\n",
        "print(text)"
      ]
    },
    {
      "cell_type": "markdown",
      "metadata": {
        "id": "OP03rUAiGp5x"
      },
      "source": [
        "## Calling functions"
      ]
    },
    {
      "cell_type": "markdown",
      "metadata": {
        "id": "uLreRRepGp5x"
      },
      "source": [
        "A **function** in Python is a piece of code, often made up of several instructions, which runs when it is referenced or \"called\". Functions are also called **methods** or **procedures**. Python provides many default functions (like `print()` referenced in the last section) but also gives you freedom to create your own custom functions, something we'll discuss more later.\n",
        "\n",
        "Functions have a couple of key elements:\n",
        "- A **name** which is how you specify the function you want to use\n",
        "- The name is followed by a open and close parentheses `()`\n",
        "- optionally, a function can include one or more arguments or parameters which are placed inside the parentheses\n",
        "\n",
        "Here is a little schematic of how it looks:\n",
        "\n",
        "<div style=\"text-align: center\"><img src=\"./images/function-call.png\" width=\"400\"></div>"
      ]
    },
    {
      "cell_type": "markdown",
      "metadata": {
        "id": "8f_bF782Gp5y"
      },
      "source": [
        "We already say one function, which you will use a lot, called `print()`.  The `print()` function lets you print out the value of whatever you provide as arguments or parameters.  For example:"
      ]
    },
    {
      "cell_type": "code",
      "execution_count": null,
      "metadata": {
        "id": "xJ_6xHKJGp5y",
        "outputId": "48e86ae5-7343-42ac-91f8-7e5a220baa71"
      },
      "outputs": [
        {
          "name": "stdout",
          "output_type": "stream",
          "text": [
            "1\n"
          ]
        }
      ],
      "source": [
        "a=1\n",
        "print(a)"
      ]
    },
    {
      "cell_type": "markdown",
      "metadata": {
        "id": "OQzI5i0LGp5y"
      },
      "source": [
        "This code defines a variable (see below) named and then prints the value of a.  Notice how in Jupyter the color of the word print is special (usually green).  The `print()` function is itself a set of lower-level commands that determine how to print things out.  \n",
        "\n",
        "Here's another example built-in function called `abs()` that computes the absolute value of a number:"
      ]
    },
    {
      "cell_type": "code",
      "execution_count": null,
      "metadata": {
        "id": "_G82VQ2dGp5y",
        "outputId": "96299f7f-cd8a-4079-cc4e-e8facdad2a91"
      },
      "outputs": [
        {
          "data": {
            "text/plain": [
              "2"
            ]
          },
          "execution_count": 6,
          "metadata": {},
          "output_type": "execute_result"
        }
      ],
      "source": [
        "abs(2)"
      ]
    },
    {
      "cell_type": "code",
      "execution_count": null,
      "metadata": {
        "id": "tJkKAHN_Gp5y",
        "outputId": "3a2a0288-b693-4640-aa37-1527d346cf9c"
      },
      "outputs": [
        {
          "data": {
            "text/plain": [
              "1"
            ]
          },
          "execution_count": 7,
          "metadata": {},
          "output_type": "execute_result"
        }
      ],
      "source": [
        "abs(-1)"
      ]
    },
    {
      "cell_type": "markdown",
      "metadata": {
        "id": "ae6mMNNqGp5y"
      },
      "source": [
        "Again notice the syntax here.  A name for the function, and then arguments as a matched parentheses `()`.  It is important that the parantheses are matched.  If you forget the closing parentheses, you'll get an error:"
      ]
    },
    {
      "cell_type": "code",
      "execution_count": null,
      "metadata": {
        "id": "DaOgomViGp5y",
        "outputId": "ca4120ba-0391-4b4c-8dcc-0a9afbba039f"
      },
      "outputs": [
        {
          "ename": "SyntaxError",
          "evalue": "unexpected EOF while parsing (<ipython-input-8-bc02591c6df4>, line 1)",
          "output_type": "error",
          "traceback": [
            "\u001b[0;36m  File \u001b[0;32m\"<ipython-input-8-bc02591c6df4>\"\u001b[0;36m, line \u001b[0;32m1\u001b[0m\n\u001b[0;31m    abs(1\u001b[0m\n\u001b[0m         ^\u001b[0m\n\u001b[0;31mSyntaxError\u001b[0m\u001b[0;31m:\u001b[0m unexpected EOF while parsing\n"
          ]
        }
      ],
      "source": [
        "abs(1"
      ]
    },
    {
      "cell_type": "code",
      "execution_count": null,
      "metadata": {
        "id": "xOrLlxTfGp5y",
        "outputId": "3fae360f-c5d1-4479-fb2a-1570ef3e736c"
      },
      "outputs": [
        {
          "ename": "SyntaxError",
          "evalue": "unexpected EOF while parsing (<ipython-input-9-bb8c754202f6>, line 1)",
          "output_type": "error",
          "traceback": [
            "\u001b[0;36m  File \u001b[0;32m\"<ipython-input-9-bb8c754202f6>\"\u001b[0;36m, line \u001b[0;32m1\u001b[0m\n\u001b[0;31m    abs(-1(\u001b[0m\n\u001b[0m           ^\u001b[0m\n\u001b[0;31mSyntaxError\u001b[0m\u001b[0;31m:\u001b[0m unexpected EOF while parsing\n"
          ]
        }
      ],
      "source": [
        "abs(-1("
      ]
    },
    {
      "cell_type": "markdown",
      "metadata": {
        "id": "FR2LVdccGp5z"
      },
      "source": [
        "You'll learn more about writing your own functions as well as importing other special, powerful function later.  However, first I just want you to be able to pick out when a function is being used and what that looks like in the code."
      ]
    },
    {
      "cell_type": "markdown",
      "metadata": {
        "id": "hC63miAmGp5z"
      },
      "source": [
        "## Using Python as a Calculator"
      ]
    },
    {
      "cell_type": "markdown",
      "metadata": {
        "id": "gk0Wp-miGp5z"
      },
      "source": [
        "<div style=\"text-align: center\"><img src=\"./images/calculator.png\" width=\"200\"></div>\n",
        "\n",
        "The Python interpreter can act as a simple calculator: type an expression at it outputs the value.\n",
        "\n",
        "Expression syntax is straightforward: the operators `+`, `-`, `*` and `/` work just like in most other programming languages (such as Pascal or C); parentheses (`()`) can be used for grouping and order or precedence. For example:"
      ]
    },
    {
      "cell_type": "code",
      "execution_count": null,
      "metadata": {
        "id": "ci0WYV66Gp5z",
        "outputId": "4ae35303-f9ba-4c81-b823-00c031c4a16c"
      },
      "outputs": [
        {
          "data": {
            "text/plain": [
              "4"
            ]
          },
          "execution_count": 7,
          "metadata": {},
          "output_type": "execute_result"
        }
      ],
      "source": [
        "2 + 2"
      ]
    },
    {
      "cell_type": "code",
      "execution_count": null,
      "metadata": {
        "id": "gVL49cqRGp5z",
        "outputId": "2dfdfc3c-0581-4f50-d1c6-650cbfa1c8ca"
      },
      "outputs": [
        {
          "data": {
            "text/plain": [
              "20"
            ]
          },
          "execution_count": 8,
          "metadata": {},
          "output_type": "execute_result"
        }
      ],
      "source": [
        "50 - 5*6"
      ]
    },
    {
      "cell_type": "markdown",
      "metadata": {
        "id": "OBaljxRbGp5z"
      },
      "source": [
        "You often have to use parentheses to enforce the order of operations."
      ]
    },
    {
      "cell_type": "code",
      "execution_count": null,
      "metadata": {
        "id": "K3qJ8bfbGp5z",
        "outputId": "daa2277c-1231-4faa-8fe9-31f3d6b2d4d1"
      },
      "outputs": [
        {
          "data": {
            "text/plain": [
              "5.0"
            ]
          },
          "execution_count": 9,
          "metadata": {},
          "output_type": "execute_result"
        }
      ],
      "source": [
        "(50 - 5*6) / 4"
      ]
    },
    {
      "cell_type": "markdown",
      "metadata": {
        "id": "vQm_62usGp5z"
      },
      "source": [
        "In most computer programming language, there are multiple \"types\" of numbers.  This is because the internals of the computer deal with numbers differently depending on whether or not they have decimals. Specifically, the two types of numbers are: Integers (`int`; numbers without decimcals) or Floating-point numbers (`float`; numbers with decimals).  You can check the type of a number using the `type()` function."
      ]
    },
    {
      "cell_type": "code",
      "execution_count": null,
      "metadata": {
        "id": "yerCyCcvGp5z"
      },
      "outputs": [],
      "source": []
    },
    {
      "cell_type": "code",
      "execution_count": null,
      "metadata": {
        "id": "g6hhe_8_Gp50",
        "outputId": "136d8e5f-653e-40ad-b990-e3d4dfa8453b"
      },
      "outputs": [
        {
          "data": {
            "text/plain": [
              "int"
            ]
          },
          "execution_count": 11,
          "metadata": {},
          "output_type": "execute_result"
        }
      ],
      "source": [
        "type(2)"
      ]
    },
    {
      "cell_type": "code",
      "execution_count": null,
      "metadata": {
        "id": "qf1XzNPJGp50",
        "outputId": "cd386910-bdae-40b5-8422-f544fbc640c9"
      },
      "outputs": [
        {
          "data": {
            "text/plain": [
              "float"
            ]
          },
          "execution_count": 12,
          "metadata": {},
          "output_type": "execute_result"
        }
      ],
      "source": [
        "type(2.0)"
      ]
    },
    {
      "cell_type": "code",
      "execution_count": null,
      "metadata": {
        "id": "ANZf9G1AGp50",
        "outputId": "4e1bbd7b-4936-4c8a-c2ec-5d27f8855c20"
      },
      "outputs": [
        {
          "data": {
            "text/plain": [
              "float"
            ]
          },
          "execution_count": 13,
          "metadata": {},
          "output_type": "execute_result"
        }
      ],
      "source": [
        "type(2.)"
      ]
    },
    {
      "cell_type": "code",
      "execution_count": null,
      "metadata": {
        "id": "_F6zGje9Gp50",
        "outputId": "c74778cf-ffe5-4d4a-b5a5-8a693e010f87"
      },
      "outputs": [
        {
          "data": {
            "text/plain": [
              "float"
            ]
          },
          "execution_count": 14,
          "metadata": {},
          "output_type": "execute_result"
        }
      ],
      "source": [
        "type(1.234)"
      ]
    },
    {
      "cell_type": "markdown",
      "metadata": {
        "id": "Sz32SWb2Gp50"
      },
      "source": [
        "Where it can sometimes get tricky is if you convert between types.  For instance dividing two numbers sometimes results in a fraction result which converts the numbers to a `float`"
      ]
    },
    {
      "cell_type": "code",
      "execution_count": null,
      "metadata": {
        "id": "k8EB_jEWGp50",
        "outputId": "267e705f-eb54-47d1-e6e4-7441aee2c348"
      },
      "outputs": [
        {
          "data": {
            "text/plain": [
              "1.6"
            ]
          },
          "execution_count": 15,
          "metadata": {},
          "output_type": "execute_result"
        }
      ],
      "source": [
        "8 / 5  # Division always returns a floating point number."
      ]
    },
    {
      "cell_type": "code",
      "execution_count": null,
      "metadata": {
        "id": "LgcfSnjPGp50",
        "outputId": "77b1e119-73a2-44d4-fc01-7c247581e81c"
      },
      "outputs": [
        {
          "data": {
            "text/plain": [
              "(int, int, float)"
            ]
          },
          "execution_count": 17,
          "metadata": {},
          "output_type": "execute_result"
        }
      ],
      "source": [
        "type(8), type(5), type(8/5)"
      ]
    },
    {
      "cell_type": "markdown",
      "metadata": {
        "id": "Eo0xaTg9Gp50"
      },
      "source": [
        " To do what is known as a floor division and get an integer result (discarding any fractional result), you can use the // operator; to calculate the remainder, you can use %:"
      ]
    },
    {
      "cell_type": "code",
      "execution_count": null,
      "metadata": {
        "id": "2n3vpx54Gp51",
        "outputId": "70850342-d4cc-4e89-dbd8-a7a4108c810c"
      },
      "outputs": [
        {
          "data": {
            "text/plain": [
              "5.666666666666667"
            ]
          },
          "execution_count": 18,
          "metadata": {},
          "output_type": "execute_result"
        }
      ],
      "source": [
        "17 / 3  # Classic division returns a float."
      ]
    },
    {
      "cell_type": "code",
      "execution_count": null,
      "metadata": {
        "id": "vYBnCLEOGp56",
        "outputId": "d1eaad65-4f15-4f24-8d03-61a1f3c45ae5"
      },
      "outputs": [
        {
          "data": {
            "text/plain": [
              "5"
            ]
          },
          "execution_count": 19,
          "metadata": {},
          "output_type": "execute_result"
        }
      ],
      "source": [
        "17 // 3  # Floor division discards the fractional part."
      ]
    },
    {
      "cell_type": "code",
      "execution_count": null,
      "metadata": {
        "id": "PtBpNZQLGp57",
        "outputId": "6878436c-565b-484c-abfb-159dd230617f"
      },
      "outputs": [
        {
          "data": {
            "text/plain": [
              "2"
            ]
          },
          "execution_count": 20,
          "metadata": {},
          "output_type": "execute_result"
        }
      ],
      "source": [
        "17 % 3  # The % operator returns the remainder of the division."
      ]
    },
    {
      "cell_type": "markdown",
      "metadata": {
        "id": "fNgQ-szaGp57"
      },
      "source": [
        "This last operation (%) is pretty common or useful.  For example, you can use it to cycle through a list of numbers:"
      ]
    },
    {
      "cell_type": "code",
      "execution_count": null,
      "metadata": {
        "id": "2R6u7LidGp57",
        "outputId": "ee437b6e-b54d-4078-c0e4-ddcc43d2bba8"
      },
      "outputs": [
        {
          "name": "stdout",
          "output_type": "stream",
          "text": [
            "0 0\n",
            "1 1\n",
            "2 2\n",
            "3 0\n",
            "4 1\n",
            "5 2\n",
            "6 0\n",
            "7 1\n",
            "8 2\n",
            "9 0\n",
            "10 1\n"
          ]
        }
      ],
      "source": [
        "numbers = [0,1,2,3,4,5,6,7,8,9,10]\n",
        "for i in numbers:\n",
        "    print(i, i%3)"
      ]
    },
    {
      "cell_type": "markdown",
      "metadata": {
        "id": "tW2Yl2G-Gp57"
      },
      "source": [
        "Although we haven't talked about for loops (coming below), the important thing to notice here is how we are stepping through the list of numbers between 0 and 10, but the second column of numbers is limited to between 0 and 2.  Thus if you `%` (mod) a integer, it can create a cycle of integers between a particular value.  Try changing the denominator to 5 instead of 3 and see what changes!"
      ]
    },
    {
      "cell_type": "markdown",
      "metadata": {
        "id": "QRHr7IS7Gp57"
      },
      "source": [
        "Other calculator type functions are `**` operator to calculate powers:"
      ]
    },
    {
      "cell_type": "code",
      "execution_count": null,
      "metadata": {
        "id": "kjUtp_YyGp57",
        "outputId": "6892ea5e-5a52-45a0-dfd2-bc2196192180"
      },
      "outputs": [
        {
          "data": {
            "text/plain": [
              "25"
            ]
          },
          "execution_count": 24,
          "metadata": {},
          "output_type": "execute_result"
        }
      ],
      "source": [
        "5 ** 2  # 5 squared"
      ]
    },
    {
      "cell_type": "code",
      "execution_count": null,
      "metadata": {
        "id": "5tXLM000Gp57",
        "outputId": "246625ce-7cd6-48b0-8942-57ea2971f67b"
      },
      "outputs": [
        {
          "data": {
            "text/plain": [
              "128"
            ]
          },
          "execution_count": 25,
          "metadata": {},
          "output_type": "execute_result"
        }
      ],
      "source": [
        "2 ** 7  # 2 to the power of 7"
      ]
    },
    {
      "cell_type": "markdown",
      "metadata": {
        "id": "OnrCw7bpGp58"
      },
      "source": [
        "In addition to `int` and `float`, Python supports other types of numbers, such as [`Decimal`](https://docs.python.org/3.5/library/decimal.html#decimal.Decimal) and [`Fraction`](https://docs.python.org/3.5/library/fractions.html#fractions.Fraction). Python also has built-in support for [complex numbers](https://docs.python.org/3.5/library/stdtypes.html#typesnumeric), and uses the `j` or `J` suffix to indicate the imaginary part (e.g. `3+5j`)."
      ]
    },
    {
      "cell_type": "markdown",
      "metadata": {
        "id": "4QhShMeBGp58"
      },
      "source": [
        "## Variables"
      ]
    },
    {
      "cell_type": "markdown",
      "metadata": {
        "id": "nK_eyLi_Gp58"
      },
      "source": [
        "One of the most important concepts in programming, and one feature that makes it really useful is the ability to create **variables** to refer to numbers.  Variables are named entities that refer to certain types of data inside the programming language.  We can assign values to a variable in order to save a result or use it later.  \n",
        "\n",
        "I like to think of variables as buckets.\n",
        "\n",
        "<div style=\"text-align: center\"><img src=\"./images/variable.png\" width=\"300\"></div>"
      ]
    },
    {
      "cell_type": "markdown",
      "metadata": {
        "id": "lYoRDHu5Gp58"
      },
      "source": [
        "We write the name of the variable on the outside of the bucket and put something in the bucket using assignment.\n",
        "\n",
        "Let's look at an example.  We can create a variable named `width` and `height`.  The equal sign (`=`) assigns a value to a variable:"
      ]
    },
    {
      "cell_type": "code",
      "execution_count": null,
      "metadata": {
        "id": "5fCr1tY8Gp58",
        "outputId": "361f92f0-4ac4-4769-ba3b-772c73be6031"
      },
      "outputs": [
        {
          "name": "stdout",
          "output_type": "stream",
          "text": [
            "area =  9000\n"
          ]
        }
      ],
      "source": [
        "width = 20\n",
        "height = 5 * 90\n",
        "area = width * height\n",
        "print(\"area = \", area)"
      ]
    },
    {
      "cell_type": "markdown",
      "metadata": {
        "id": "N3gkH808Gp58"
      },
      "source": [
        "Luckily in Python, the first time we assign something to a variable, it is created.  So by executing `width=20`, it created in the memory of the computer a variable names width that contained the `int` value 20.  Similarly, we created a variable called `height` which contains the value `5*90`.  Then we created a variable `area` which is the multiplication of `width` and `height`.  One nice feature of this is that the code is kind of \"readable\".  By giving names to the numbers we give them *meaning*.  We understand that this calculation computes the area of a rectangle and which dimensions refer to which parts of the rectangle."
      ]
    },
    {
      "cell_type": "markdown",
      "metadata": {
        "id": "PJ1Gn0n0Gp58"
      },
      "source": [
        "We can make up any name for variable, but there are a few simple rules.  The rules for the names of variables in Python are:\n",
        "- A variable name must start with a letter or the underscore character (e.g., `_width`)\n",
        "- A variable name cannot start with a number\n",
        "- A variable name can only contain alpha-numeric characters and underscores (A-z, 0-9, and _ )\n",
        "- Variable names are case-sensitive (`age`, `Age`, and `AGE` are three different variables)"
      ]
    },
    {
      "cell_type": "markdown",
      "metadata": {
        "id": "sbrbWikzGp58"
      },
      "source": [
        "Accessing the value of an undefined variable will cause an error.  For instance we have not yet defined `n`, so asking Jupyter to output its value here will not work:"
      ]
    },
    {
      "cell_type": "code",
      "execution_count": null,
      "metadata": {
        "id": "NcKitZyPGp58",
        "outputId": "ea6d7f3d-8bc7-45ce-fe30-34446daaa5c3"
      },
      "outputs": [
        {
          "ename": "NameError",
          "evalue": "name 'n' is not defined",
          "output_type": "error",
          "traceback": [
            "\u001b[0;31m---------------------------------------------------------------------------\u001b[0m",
            "\u001b[0;31mNameError\u001b[0m                                 Traceback (most recent call last)",
            "\u001b[0;32m<ipython-input-31-2d383632fd8e>\u001b[0m in \u001b[0;36m<module>\u001b[0;34m()\u001b[0m\n\u001b[0;32m----> 1\u001b[0;31m \u001b[0mn\u001b[0m  \u001b[0;31m# Try to access an undefined variable.\u001b[0m\u001b[0;34m\u001b[0m\u001b[0;34m\u001b[0m\u001b[0m\n\u001b[0m",
            "\u001b[0;31mNameError\u001b[0m: name 'n' is not defined"
          ]
        }
      ],
      "source": [
        "n  # Try to access an undefined variable."
      ]
    },
    {
      "cell_type": "markdown",
      "metadata": {
        "id": "EkFXD1G3Gp59"
      },
      "source": [
        "We can get a list of all the current named variables in our Jupyter kernel using this `%whos` command, which is a special feature of Jupyter and not part of Python core language:"
      ]
    },
    {
      "cell_type": "code",
      "execution_count": null,
      "metadata": {
        "id": "Hka_FGvgGp59",
        "outputId": "6ff61dde-7bc9-4266-a49f-1bb48344e49c"
      },
      "outputs": [
        {
          "name": "stdout",
          "output_type": "stream",
          "text": [
            "Variable   Type      Data/Info\n",
            "------------------------------\n",
            "area       int       9000\n",
            "autopep8   module    <module 'autopep8' from '<...>te-packages/autopep8.py'>\n",
            "height     int       450\n",
            "i          int       10\n",
            "json       module    <module 'json' from '/usr<...>hon3.7/json/__init__.py'>\n",
            "numbers    list      n=11\n",
            "spam       int       1\n",
            "text       str       # This is not a comment b<...>cause it's inside quotes.\n",
            "width      int       20\n"
          ]
        }
      ],
      "source": [
        "%whos"
      ]
    },
    {
      "cell_type": "markdown",
      "metadata": {
        "id": "RTlLM4d6Gp59"
      },
      "source": [
        "You might see a number of variables here in the list but it should include the variables `area`, `width`, and `height` which we defined at the start of this subsection.\n",
        "\n",
        "Variables can hold all types of information, not just single number as we will see.  In fact, when we get into data analysis, we will read in entire datasets into a variable, and our graphs, statistical tests, and results will all be placed into variables.  So it is good to understand the concept of variables and the rules for naming them.\n",
        "\n",
        "Variables can also be used temporarily to move things around.  For instance, let's define variables `x` and `y`."
      ]
    },
    {
      "cell_type": "code",
      "execution_count": null,
      "metadata": {
        "id": "3GSmMeTkGp59"
      },
      "outputs": [],
      "source": [
        "x = 2\n",
        "y = 7"
      ]
    },
    {
      "cell_type": "markdown",
      "metadata": {
        "id": "sQhauVDKGp59"
      },
      "source": [
        "We would like to swap the values, so that `x` has the value of `y` and `y` has the value of `x`.  To do this, we need to stay organized because if we just assign the value of y directly to x, it will overwrite it.  So instead we will create a third \"temporary\" variable to swap them:"
      ]
    },
    {
      "cell_type": "code",
      "execution_count": null,
      "metadata": {
        "id": "x1NdFooGGp59",
        "outputId": "a19acb74-26aa-48ef-e101-2e6481dd894a"
      },
      "outputs": [
        {
          "name": "stdout",
          "output_type": "stream",
          "text": [
            "x =  1\n",
            "y =  2\n"
          ]
        }
      ],
      "source": [
        "tmp = x\n",
        "x = y\n",
        "y = tmp\n",
        "print(\"x = \", x)\n",
        "print(\"y = \", y)"
      ]
    },
    {
      "cell_type": "markdown",
      "metadata": {
        "id": "-KgmzEGcGp59"
      },
      "source": [
        "To save space in Python, you can define multiple variables at once on the same line:"
      ]
    },
    {
      "cell_type": "code",
      "execution_count": null,
      "metadata": {
        "id": "2yPDBZadGp59",
        "outputId": "d5774fc3-eb9c-4f88-a744-6d2487a4f1e9"
      },
      "outputs": [
        {
          "name": "stdout",
          "output_type": "stream",
          "text": [
            "10 20\n"
          ]
        }
      ],
      "source": [
        "width, height = 10, 20\n",
        "print(\"width = \", width)\n",
        "print(\"height = \", height)"
      ]
    },
    {
      "cell_type": "markdown",
      "metadata": {
        "id": "lvaPDwnBGp59"
      },
      "source": [
        "This type of compact notation can even be used to more efficiently swap variables:"
      ]
    },
    {
      "cell_type": "code",
      "execution_count": null,
      "metadata": {
        "id": "-z4psEpaGp5-",
        "outputId": "191dddd8-3480-4509-c9f0-bfbc6eca9cba"
      },
      "outputs": [
        {
          "name": "stdout",
          "output_type": "stream",
          "text": [
            "x =  2\n",
            "y =  1\n"
          ]
        }
      ],
      "source": [
        "x, y = 1, 2\n",
        "x, y = y, x\n",
        "print(\"x = \", x)\n",
        "print(\"y = \", y)"
      ]
    },
    {
      "cell_type": "markdown",
      "metadata": {
        "id": "geeZwC9QGp5-"
      },
      "source": [
        "## Messing with text (i.e., strings)"
      ]
    },
    {
      "cell_type": "markdown",
      "metadata": {
        "id": "kaECZ4UbGp5-"
      },
      "source": [
        "<div style=\"text-align: center\"><img src=\"./images/strings.png\" width=\"400\"></div>\n",
        "\n",
        "Besides numbers, Python can also manipulate strings. Strings are small pieces of text that can be manipulated in Python.  Strings can be enclosed in single quotes (`'...'`) or double quotes (`\"...\"`) with the same result. Use `\\` to escape quotes, that is, to use a quote within the string itself:"
      ]
    },
    {
      "cell_type": "code",
      "execution_count": null,
      "metadata": {
        "id": "cC9F9seKGp5-",
        "outputId": "801f1e5d-3beb-4571-c20b-80b2dbe00b4a"
      },
      "outputs": [
        {
          "data": {
            "text/plain": [
              "'spam eggs'"
            ]
          },
          "execution_count": 46,
          "metadata": {},
          "output_type": "execute_result"
        }
      ],
      "source": [
        "'spam eggs'  # Single quotes."
      ]
    },
    {
      "cell_type": "code",
      "execution_count": null,
      "metadata": {
        "id": "wm8Kt8UHGp5-",
        "outputId": "42059d7f-bb32-45b6-c91f-71d0c8232f93"
      },
      "outputs": [
        {
          "data": {
            "text/plain": [
              "\"doesn't\""
            ]
          },
          "execution_count": 47,
          "metadata": {},
          "output_type": "execute_result"
        }
      ],
      "source": [
        "'doesn\\'t'  # Use \\' to escape the single quote..."
      ]
    },
    {
      "cell_type": "code",
      "execution_count": null,
      "metadata": {
        "id": "DAkXTq9nGp5-",
        "outputId": "3e013be5-3ad4-4008-bc88-86db30d1e3d9"
      },
      "outputs": [
        {
          "data": {
            "text/plain": [
              "\"doesn't\""
            ]
          },
          "execution_count": 48,
          "metadata": {},
          "output_type": "execute_result"
        }
      ],
      "source": [
        "\"doesn't\"  # ...or use double quotes instead."
      ]
    },
    {
      "cell_type": "markdown",
      "metadata": {
        "id": "m5tD_l-HGp5-"
      },
      "source": [
        "In the interactive interpreter and Jupyter notebooks, the output string is enclosed in quotes and special characters are escaped with backslashes. Although this output sometimes looks different from the input (the enclosing quotes could change), the two strings are equivalent. The string is enclosed in double quotes if the string contains a single quote and no double quotes; otherwise, it's enclosed in single quotes. The [`print()`](https://docs.python.org/3.6/library/functions.html#print) function produces a more readable output by omitting the enclosing quotes and by printing escaped and special characters:"
      ]
    },
    {
      "cell_type": "code",
      "execution_count": null,
      "metadata": {
        "id": "sIuWUdJhGp5_",
        "outputId": "dbbfdd36-6d76-4f52-ec44-a16d17822ce7"
      },
      "outputs": [
        {
          "data": {
            "text/plain": [
              "'\"Isn\\'t,\" she said.'"
            ]
          },
          "execution_count": 49,
          "metadata": {},
          "output_type": "execute_result"
        }
      ],
      "source": [
        "'\"Isn\\'t,\" she said.'"
      ]
    },
    {
      "cell_type": "code",
      "execution_count": null,
      "metadata": {
        "id": "MwUFc6YwGp5_",
        "outputId": "3a4f1f87-a605-46ae-80cf-1d00b3c3dca3"
      },
      "outputs": [
        {
          "name": "stdout",
          "output_type": "stream",
          "text": [
            "\"Isn't,\" she said.\n"
          ]
        }
      ],
      "source": [
        "print('\"Isn\\'t,\" she said.')"
      ]
    },
    {
      "cell_type": "code",
      "execution_count": null,
      "metadata": {
        "id": "Fvvmlr2qGp5_",
        "outputId": "6d332a45-47ad-4a61-e0d9-21885ab2f6be"
      },
      "outputs": [
        {
          "data": {
            "text/plain": [
              "'First line.\\nSecond line.'"
            ]
          },
          "execution_count": 51,
          "metadata": {},
          "output_type": "execute_result"
        }
      ],
      "source": [
        "s = 'First line.\\nSecond line.'  # \\n means newline.\n",
        "s  # Without print(), \\n is included in the output."
      ]
    },
    {
      "cell_type": "code",
      "execution_count": null,
      "metadata": {
        "id": "XadDFnEoGp5_",
        "outputId": "771ea733-d2e4-4ef9-f838-1ebea95eba04"
      },
      "outputs": [
        {
          "name": "stdout",
          "output_type": "stream",
          "text": [
            "First line.\n",
            "Second line.\n"
          ]
        }
      ],
      "source": [
        "print(s)  # With print(), \\n produces a new line."
      ]
    },
    {
      "cell_type": "markdown",
      "metadata": {
        "id": "ZiJ35qNJGp5_"
      },
      "source": [
        "String literals can span multiple lines and are delineated by triple-quotes: `\"\"\"...\"\"\"` or `'''...'''`. End of lines are automatically included in the string, but it's possible to prevent this by adding a `\\` at the end of the line. For example, without a `\\`, the following example includes an extra line at the beginning of the output:"
      ]
    },
    {
      "cell_type": "code",
      "execution_count": null,
      "metadata": {
        "id": "WJyCJwVCGp5_",
        "outputId": "c9a31001-5d83-4628-eec6-6098e1bff051"
      },
      "outputs": [
        {
          "name": "stdout",
          "output_type": "stream",
          "text": [
            "\n",
            "Usage: thingy [OPTIONS]\n",
            "     -h                        Display this usage message\n",
            "     -H hostname               Hostname to connect to\n",
            "\n"
          ]
        }
      ],
      "source": [
        "print(\"\"\"\n",
        "Usage: thingy [OPTIONS]\n",
        "     -h                        Display this usage message\n",
        "     -H hostname               Hostname to connect to\n",
        "\"\"\")"
      ]
    },
    {
      "cell_type": "markdown",
      "metadata": {
        "id": "9yR5BgvkGp5_"
      },
      "source": [
        "Strings can be *concatenated* (glued together) with the `+` operator, and repeated with `*`:"
      ]
    },
    {
      "cell_type": "code",
      "execution_count": null,
      "metadata": {
        "id": "N8e2HgjkGp5_",
        "outputId": "6b8ff166-a1ff-4954-e699-944ee4e1504e"
      },
      "outputs": [
        {
          "data": {
            "text/plain": [
              "'unununium'"
            ]
          },
          "execution_count": 55,
          "metadata": {},
          "output_type": "execute_result"
        }
      ],
      "source": [
        "# 3 times 'un', followed by 'ium'\n",
        "3 * 'un' + 'ium'"
      ]
    },
    {
      "cell_type": "markdown",
      "metadata": {
        "id": "sKnvj0ERGp5_"
      },
      "source": [
        "To concatenate variables, or a variable and a literal, use `+`:"
      ]
    },
    {
      "cell_type": "code",
      "execution_count": null,
      "metadata": {
        "id": "MBP7KQp6Gp6A",
        "outputId": "8d1f75fb-0db7-4f49-ce36-b2908750482d"
      },
      "outputs": [
        {
          "data": {
            "text/plain": [
              "'Python'"
            ]
          },
          "execution_count": 56,
          "metadata": {},
          "output_type": "execute_result"
        }
      ],
      "source": [
        "prefix = 'Py'\n",
        "prefix + 'thon'"
      ]
    },
    {
      "cell_type": "markdown",
      "metadata": {
        "id": "RgcNzYsVGp6A"
      },
      "source": [
        "Strings can be *indexed* (subscripted), with the first character having index 0. There is no separate character type; a character is simply a string of size one:"
      ]
    },
    {
      "cell_type": "code",
      "execution_count": null,
      "metadata": {
        "id": "IVFLpbY-Gp6A",
        "outputId": "24ffad38-3d2e-4b28-dae8-6507cf0a16ef"
      },
      "outputs": [
        {
          "data": {
            "text/plain": [
              "'P'"
            ]
          },
          "execution_count": 57,
          "metadata": {},
          "output_type": "execute_result"
        }
      ],
      "source": [
        "word = 'Python'\n",
        "word[0]  # Character in position 0."
      ]
    },
    {
      "cell_type": "code",
      "execution_count": null,
      "metadata": {
        "id": "YAFGN1poGp6A",
        "outputId": "f15c6bfd-b618-40ea-f3ec-107c5d3ecbba"
      },
      "outputs": [
        {
          "data": {
            "text/plain": [
              "'n'"
            ]
          },
          "execution_count": 58,
          "metadata": {},
          "output_type": "execute_result"
        }
      ],
      "source": [
        "word[5]  # Character in position 5."
      ]
    },
    {
      "cell_type": "markdown",
      "metadata": {
        "id": "oAaeDobeGp6A"
      },
      "source": [
        "Indices may also be negative numbers, which means to start counting from the end of the string. Note that because -0 is the same as 0, negative indices start from -1:"
      ]
    },
    {
      "cell_type": "code",
      "execution_count": null,
      "metadata": {
        "id": "6wWFWGHBGp6A",
        "outputId": "7072d254-2513-4ad9-c986-a60d39e892b5"
      },
      "outputs": [
        {
          "data": {
            "text/plain": [
              "'n'"
            ]
          },
          "execution_count": 59,
          "metadata": {},
          "output_type": "execute_result"
        }
      ],
      "source": [
        "word[-1]  # Last character."
      ]
    },
    {
      "cell_type": "code",
      "execution_count": null,
      "metadata": {
        "id": "di3HYD1BGp6A",
        "outputId": "a2405905-701a-4c65-bf3b-87ef5ba73d93"
      },
      "outputs": [
        {
          "data": {
            "text/plain": [
              "'o'"
            ]
          },
          "execution_count": 60,
          "metadata": {},
          "output_type": "execute_result"
        }
      ],
      "source": [
        "word[-2]  # Second-last character."
      ]
    },
    {
      "cell_type": "markdown",
      "metadata": {
        "id": "busyqkXSGp6A"
      },
      "source": [
        "In addition to indexing, which extracts individual characters, Python also supports *slicing*, which extracts a substring. To slide, you indicate a *range* in the format `start:end`, where the start position is included but the end position is excluded:"
      ]
    },
    {
      "cell_type": "code",
      "execution_count": null,
      "metadata": {
        "id": "8OKCA1d1Gp6A",
        "outputId": "0eb266d9-063a-41d5-c5b6-daead6c1581e"
      },
      "outputs": [
        {
          "data": {
            "text/plain": [
              "'Py'"
            ]
          },
          "execution_count": 61,
          "metadata": {},
          "output_type": "execute_result"
        }
      ],
      "source": [
        "word[0:2]  # Characters from position 0 (included) to 2 (excluded)."
      ]
    },
    {
      "cell_type": "markdown",
      "metadata": {
        "id": "iqimg1iDGp6B"
      },
      "source": [
        "If you omit either position, the default start position is 0 and the default end is the length of the string:"
      ]
    },
    {
      "cell_type": "code",
      "execution_count": null,
      "metadata": {
        "id": "v7wOAs_1Gp6B",
        "outputId": "2236ebda-5c11-4a2b-e13f-27c150258397"
      },
      "outputs": [
        {
          "data": {
            "text/plain": [
              "'Py'"
            ]
          },
          "execution_count": 62,
          "metadata": {},
          "output_type": "execute_result"
        }
      ],
      "source": [
        "word[:2]   # Character from the beginning to position 2 (excluded)."
      ]
    },
    {
      "cell_type": "code",
      "execution_count": null,
      "metadata": {
        "id": "gjL5LSWgGp6B",
        "outputId": "1656e49c-d656-49cf-a3d5-16c3b8bcac5d"
      },
      "outputs": [
        {
          "data": {
            "text/plain": [
              "'on'"
            ]
          },
          "execution_count": 63,
          "metadata": {},
          "output_type": "execute_result"
        }
      ],
      "source": [
        "word[4:]  # Characters from position 4 (included) to the end."
      ]
    },
    {
      "cell_type": "code",
      "execution_count": null,
      "metadata": {
        "id": "fsSpL2aXGp6B",
        "outputId": "0b47ac71-2843-4e90-f408-272b4985f79d"
      },
      "outputs": [
        {
          "data": {
            "text/plain": [
              "'on'"
            ]
          },
          "execution_count": 64,
          "metadata": {},
          "output_type": "execute_result"
        }
      ],
      "source": [
        "word[-2:] # Characters from the second-last (included) to the end."
      ]
    },
    {
      "cell_type": "markdown",
      "metadata": {
        "id": "xtHsmQZxGp6B"
      },
      "source": [
        "This characteristic means that `s[:i] + s[i:]` is always equal to `s`:"
      ]
    },
    {
      "cell_type": "code",
      "execution_count": null,
      "metadata": {
        "id": "wmeTQehqGp6B",
        "outputId": "1b43d3c3-e017-40b8-8277-496efa5a6c67"
      },
      "outputs": [
        {
          "data": {
            "text/plain": [
              "'Python'"
            ]
          },
          "execution_count": 66,
          "metadata": {},
          "output_type": "execute_result"
        }
      ],
      "source": [
        "word[:2] + word[2:]"
      ]
    },
    {
      "cell_type": "code",
      "execution_count": null,
      "metadata": {
        "id": "TdOq_c4CGp6B",
        "outputId": "8d41b31d-4962-4c76-e531-413d8645c3fa"
      },
      "outputs": [
        {
          "data": {
            "text/plain": [
              "'Python'"
            ]
          },
          "execution_count": 67,
          "metadata": {},
          "output_type": "execute_result"
        }
      ],
      "source": [
        "word[:4] + word[4:]"
      ]
    },
    {
      "cell_type": "markdown",
      "metadata": {
        "id": "-XyoPiY5Gp6B"
      },
      "source": [
        "One way to remember how slices work is to think of the indices as pointing between characters, with the left edge of the first character numbered 0. Then the right edge of the last character of a string of *n* characters has index *n*. For example:"
      ]
    },
    {
      "cell_type": "markdown",
      "metadata": {
        "id": "xbBrh8NkGp6B"
      },
      "source": [
        "<pre>\n",
        " +---+---+---+---+---+---+\n",
        " | P | y | t | h | o | n |\n",
        " +---+---+---+---+---+---+\n",
        " 0   1   2   3   4   5   6\n",
        "-6  -5  -4  -3  -2  -1\n",
        "</pre>"
      ]
    },
    {
      "cell_type": "markdown",
      "metadata": {
        "id": "V6wbLJR_Gp6B"
      },
      "source": [
        "The first row of numbers gives the position of the indices 0...6 in the string; the second row gives the corresponding negative indices. The slice from *i* to *j* consists of all characters between the edges labeled *i* and *j*, respectively.\n",
        "\n",
        "For non-negative indices, the length of a slice is the difference of the indices, if both are within bounds. For example, the length of `word[1:3]` is 2.\n",
        "\n",
        "Attempting to use an index that is too large results in an error:"
      ]
    },
    {
      "cell_type": "code",
      "execution_count": null,
      "metadata": {
        "id": "oNRljDLvGp6C",
        "outputId": "81bb32af-93be-48b5-980d-402976ba1de1"
      },
      "outputs": [
        {
          "ename": "IndexError",
          "evalue": "string index out of range",
          "output_type": "error",
          "traceback": [
            "\u001b[0;31m---------------------------------------------------------------------------\u001b[0m",
            "\u001b[0;31mIndexError\u001b[0m                                Traceback (most recent call last)",
            "\u001b[0;32m<ipython-input-68-e894f93573ea>\u001b[0m in \u001b[0;36m<module>\u001b[0;34m()\u001b[0m\n\u001b[0;32m----> 1\u001b[0;31m \u001b[0mword\u001b[0m\u001b[0;34m[\u001b[0m\u001b[0;36m42\u001b[0m\u001b[0;34m]\u001b[0m  \u001b[0;31m# The word only has 6 characters.\u001b[0m\u001b[0;34m\u001b[0m\u001b[0;34m\u001b[0m\u001b[0m\n\u001b[0m",
            "\u001b[0;31mIndexError\u001b[0m: string index out of range"
          ]
        }
      ],
      "source": [
        "word[42]  # The word only has 6 characters."
      ]
    },
    {
      "cell_type": "markdown",
      "metadata": {
        "id": "lE2IhZwuGp6E"
      },
      "source": [
        "Python strings are [immutable](https://docs.python.org/3.5/glossary.html#term-immutable), which means they cannot be changed. Therefore, assigning a value to an indexed position in a string results in an error:"
      ]
    },
    {
      "cell_type": "code",
      "execution_count": null,
      "metadata": {
        "id": "x_UICfpNGp6E",
        "outputId": "53f64ed4-00f6-437f-80fd-248a24051c5f"
      },
      "outputs": [
        {
          "ename": "TypeError",
          "evalue": "'str' object does not support item assignment",
          "output_type": "error",
          "traceback": [
            "\u001b[0;31m---------------------------------------------------------------------------\u001b[0m",
            "\u001b[0;31mTypeError\u001b[0m                                 Traceback (most recent call last)",
            "\u001b[0;32m<ipython-input-69-91a956888ca7>\u001b[0m in \u001b[0;36m<module>\u001b[0;34m()\u001b[0m\n\u001b[0;32m----> 1\u001b[0;31m \u001b[0mword\u001b[0m\u001b[0;34m[\u001b[0m\u001b[0;36m0\u001b[0m\u001b[0;34m]\u001b[0m \u001b[0;34m=\u001b[0m \u001b[0;34m'J'\u001b[0m\u001b[0;34m\u001b[0m\u001b[0;34m\u001b[0m\u001b[0m\n\u001b[0m",
            "\u001b[0;31mTypeError\u001b[0m: 'str' object does not support item assignment"
          ]
        }
      ],
      "source": [
        "word[0] = 'J'"
      ]
    },
    {
      "cell_type": "markdown",
      "metadata": {
        "id": "W0-SAryMGp6E"
      },
      "source": [
        "The built-in function [`len()`](https://docs.python.org/3.5/library/functions.html#len) returns the length of a string:"
      ]
    },
    {
      "cell_type": "code",
      "execution_count": null,
      "metadata": {
        "id": "cvq-3uk8Gp6F",
        "outputId": "235541b0-ec4e-4d54-c806-d5a4be16d6db"
      },
      "outputs": [
        {
          "data": {
            "text/plain": [
              "34"
            ]
          },
          "execution_count": 70,
          "metadata": {},
          "output_type": "execute_result"
        }
      ],
      "source": [
        "s = 'supercalifragilisticexpialidocious'\n",
        "len(s)"
      ]
    },
    {
      "cell_type": "markdown",
      "metadata": {
        "id": "5uMeur5zGp6F"
      },
      "source": [
        "A couple of other useful things for strings are changing to upper or lower case:"
      ]
    },
    {
      "cell_type": "code",
      "execution_count": null,
      "metadata": {
        "id": "bfzfvHHiGp6F",
        "outputId": "0c206e1b-b365-4ab3-a5dd-fc7b0ffe36b4"
      },
      "outputs": [
        {
          "data": {
            "text/plain": [
              "'PYTHON'"
            ]
          },
          "execution_count": 72,
          "metadata": {},
          "output_type": "execute_result"
        }
      ],
      "source": [
        "s = 'Python'\n",
        "s.upper()"
      ]
    },
    {
      "cell_type": "code",
      "execution_count": null,
      "metadata": {
        "id": "kKMgXypDGp6F",
        "outputId": "cf02c53d-7bdd-4f7a-b2d2-cf94f656bf09"
      },
      "outputs": [
        {
          "data": {
            "text/plain": [
              "'python'"
            ]
          },
          "execution_count": 73,
          "metadata": {},
          "output_type": "execute_result"
        }
      ],
      "source": [
        "s.lower()"
      ]
    },
    {
      "cell_type": "markdown",
      "metadata": {
        "id": "9y57pE5OGp6F"
      },
      "source": [
        "You can also test if a part of a string is inside a larger string (more on conditionals later):"
      ]
    },
    {
      "cell_type": "code",
      "execution_count": null,
      "metadata": {
        "id": "s6vxnmP-Gp6F",
        "outputId": "3ed2e35a-539c-408f-aa16-376310722dcc"
      },
      "outputs": [
        {
          "data": {
            "text/plain": [
              "True"
            ]
          },
          "execution_count": 74,
          "metadata": {},
          "output_type": "execute_result"
        }
      ],
      "source": [
        "'thon' in 'Python'"
      ]
    },
    {
      "cell_type": "code",
      "execution_count": null,
      "metadata": {
        "id": "HIYk0V7zGp6F",
        "outputId": "80cc9054-2c29-403d-caf6-c321b51963d7"
      },
      "outputs": [
        {
          "data": {
            "text/plain": [
              "False"
            ]
          },
          "execution_count": 75,
          "metadata": {},
          "output_type": "execute_result"
        }
      ],
      "source": [
        "'todd' in 'Python'"
      ]
    },
    {
      "cell_type": "markdown",
      "metadata": {
        "id": "AzMAeEzhGp6F"
      },
      "source": [
        "Reverse a string"
      ]
    },
    {
      "cell_type": "code",
      "execution_count": null,
      "metadata": {
        "id": "4Nbd8HsxGp6F",
        "outputId": "37e23df9-ce7e-4168-c10c-936f70f6887d"
      },
      "outputs": [
        {
          "data": {
            "text/plain": [
              "'nohtyP'"
            ]
          },
          "execution_count": 79,
          "metadata": {},
          "output_type": "execute_result"
        }
      ],
      "source": [
        "s[::-1]"
      ]
    },
    {
      "cell_type": "markdown",
      "metadata": {
        "id": "8HOv4VQNGp6G"
      },
      "source": [
        "Split a string into parts based on a particular character:"
      ]
    },
    {
      "cell_type": "code",
      "execution_count": null,
      "metadata": {
        "id": "l0Psk6bJGp6G",
        "outputId": "7fd8032c-5256-47fd-8741-7743dc4e3b3e"
      },
      "outputs": [
        {
          "data": {
            "text/plain": [
              "['milk', ' eggs', ' chocolate', ' ice cream', ' bananas', ' cereal', ' coffee']"
            ]
          },
          "execution_count": 80,
          "metadata": {},
          "output_type": "execute_result"
        }
      ],
      "source": [
        "s = 'milk, eggs, chocolate, ice cream, bananas, cereal, coffee'\n",
        "s.split(',')"
      ]
    },
    {
      "cell_type": "markdown",
      "metadata": {
        "id": "xCUR-epwGp6G"
      },
      "source": [
        "The above cut the string up into a smaller string each time it encountered a comma.  The results is a list... speaking of!"
      ]
    },
    {
      "cell_type": "markdown",
      "metadata": {
        "id": "lAkI4wmdGp6G"
      },
      "source": [
        "### Case examples"
      ]
    },
    {
      "cell_type": "markdown",
      "metadata": {
        "id": "A7uv4i6FGp6G"
      },
      "source": [
        "Ok so maybe you are thinking, why do I need to program with strings?  Well here are a couple of use cases where string as useful."
      ]
    },
    {
      "cell_type": "markdown",
      "metadata": {
        "id": "xJE5Fg2rGp6G"
      },
      "source": [
        "For example, if you want to load a file from the internet you often use a string to represent the file name.  This code snippet loads the welcome screen for the [psiturk](http://psiturk.org) package.  Notice how a string is used to represent the url (i.e., the thing starting 'https')."
      ]
    },
    {
      "cell_type": "code",
      "execution_count": null,
      "metadata": {
        "id": "gVuygx2yGp6G",
        "outputId": "dee424ae-8b7b-435a-df6d-2e3e2fc10a70"
      },
      "outputs": [
        {
          "name": "stdout",
          "output_type": "stream",
          "text": [
            "\n",
            "\n",
            "https://psiturk.org\n",
            " ______   ______     __     ______   __  __     ______     __  __    \n",
            "/\\  == \\ /\\  ___\\   /\\ \\   /\\__  _\\ /\\ \\/\\ \\   /\\  == \\   /\\ \\/ /    \n",
            "\\ \\  _-/ \\ \\___  \\  \\ \\ \\  \\/_/\\ \\/ \\ \\ \\_\\ \\  \\ \\  __<   \\ \\  _\"-.  \n",
            " \\ \\_\\    \\/\\_____\\  \\ \\_\\    \\ \\_\\  \\ \\_____\\  \\ \\_\\ \\_\\  \\ \\_\\ \\_\\ \n",
            "  \\/_/     \\/_____/   \\/_/     \\/_/   \\/_____/   \\/_/ /_/   \\/_/\\/_/ \n",
            "                                                                     \n",
            "             an open platform for science on Amazon Mechanical Turk\n",
            "             \t\t\t\t\t\t\t\t\t\n",
            "--------------------------------------------------------------------\n",
            "System status:\n",
            "\n",
            "Hi all, You need to be running psiTurk version >= 2.0.0 to use the \n",
            "Ad Server feature!  \n",
            "\n",
            "The latest stable version is 2.3.0.\n",
            "\n",
            "**ALERT**: Due to a recent Amazon API deprecation, you need to install psiturk version 2.3.0 or later.\n",
            "\n",
            "Check https://github.com/NYUCCL/psiTurk or https://psiturk.org for \n",
            "latest info.\n",
            "\n"
          ]
        }
      ],
      "source": [
        "import urllib.request\n",
        "import json\n",
        "\n",
        "for line in urllib.request.urlopen(\"https://api.psiturk.org/status_msg?version=2.3\"):\n",
        "    message = json.loads(line.decode('utf-8'))\n",
        "    print(message['status'])"
      ]
    },
    {
      "cell_type": "markdown",
      "metadata": {
        "id": "uBFx_p4RGp6G"
      },
      "source": [
        "## Collections"
      ]
    },
    {
      "cell_type": "markdown",
      "metadata": {
        "id": "bcaUMgckGp6G"
      },
      "source": [
        "Everything we have considered so far is mostly single elements (numbers, strings).  However, we often also need to deal with collections of numbers and things (actually a string is pretty much a collection of individual characters, but...).  There are three built-in types of collections that are useful to know about for this class: lists, dictionaries, and sets."
      ]
    },
    {
      "cell_type": "markdown",
      "metadata": {
        "id": "P_8hsRv9Gp6G"
      },
      "source": [
        "### Lists"
      ]
    },
    {
      "cell_type": "markdown",
      "metadata": {
        "id": "lqfO-A5qGp6G"
      },
      "source": [
        "<div style=\"text-align: center\"><img src=\"./images/lists.png\" width=\"350\"></div>\n",
        "\n",
        "Python knows a number of _compound_ data types, which are used to group together other values. The most versatile is the [*list*](https://docs.python.org/3.5/library/stdtypes.html#typesseq-list), which can be written as a sequence of comma-separated values (items) between square brackets. Lists might contain items of different types, but usually the items all have the same type."
      ]
    },
    {
      "cell_type": "markdown",
      "metadata": {
        "id": "j04KE1dqGp6H"
      },
      "source": [
        "Here is an empty list that contains nothing:"
      ]
    },
    {
      "cell_type": "code",
      "execution_count": null,
      "metadata": {
        "id": "mk6SOsuRGp6H",
        "outputId": "c58c9b1d-6d0d-4258-a2db-b5397faf00cd"
      },
      "outputs": [
        {
          "data": {
            "text/plain": [
              "[]"
            ]
          },
          "execution_count": 130,
          "metadata": {},
          "output_type": "execute_result"
        }
      ],
      "source": [
        "squares = []\n",
        "squares"
      ]
    },
    {
      "cell_type": "markdown",
      "metadata": {
        "id": "2YNSOm7WGp6H"
      },
      "source": [
        "Here is a list of numbers"
      ]
    },
    {
      "cell_type": "code",
      "execution_count": null,
      "metadata": {
        "id": "pNFtNga5Gp6H",
        "outputId": "88dc0f19-0a65-4fd2-c9e4-669594e6ca3d"
      },
      "outputs": [
        {
          "data": {
            "text/plain": [
              "[1, 4, 9, 16, 25]"
            ]
          },
          "execution_count": 85,
          "metadata": {},
          "output_type": "execute_result"
        }
      ],
      "source": [
        "squares = [1, 4, 9, 16, 25]\n",
        "squares"
      ]
    },
    {
      "cell_type": "markdown",
      "metadata": {
        "id": "FYx5ROszGp6H"
      },
      "source": [
        "and here are two lists of either all strings or a mixture of numbers and strings:"
      ]
    },
    {
      "cell_type": "code",
      "execution_count": null,
      "metadata": {
        "id": "_LapVFedGp6H",
        "outputId": "74abeb3f-b751-4535-bafd-701833330ded"
      },
      "outputs": [
        {
          "data": {
            "text/plain": [
              "['one', 'four', 'nine', 'sixteen', 'twentyfive']"
            ]
          },
          "execution_count": 120,
          "metadata": {},
          "output_type": "execute_result"
        }
      ],
      "source": [
        "squares_string = [\"one\", \"four\", \"nine\", \"sixteen\", \"twentyfive\"]\n",
        "squares_string"
      ]
    },
    {
      "cell_type": "code",
      "execution_count": null,
      "metadata": {
        "id": "mwB5OzbHGp6H",
        "outputId": "222da94e-9ba5-4af6-eaa5-9319e1a8726a"
      },
      "outputs": [
        {
          "data": {
            "text/plain": [
              "['one', 4, 9, 'sixteen', 25]"
            ]
          },
          "execution_count": 123,
          "metadata": {},
          "output_type": "execute_result"
        }
      ],
      "source": [
        "squares_mixed = [\"one\", 4, 9, \"sixteen\", 25]\n",
        "squares_mixed"
      ]
    },
    {
      "cell_type": "markdown",
      "metadata": {
        "id": "gWg-e799Gp6H"
      },
      "source": [
        "Like strings (and all other built-in [sequence](https://docs.python.org/3.5/glossary.html#term-sequence) types), lists can be indexed and sliced:"
      ]
    },
    {
      "cell_type": "code",
      "execution_count": null,
      "metadata": {
        "id": "m_SiPBVlGp6I",
        "outputId": "6bde1b3f-77f1-4fb7-81d8-5776088f4fa7"
      },
      "outputs": [
        {
          "data": {
            "text/plain": [
              "1"
            ]
          },
          "execution_count": 86,
          "metadata": {},
          "output_type": "execute_result"
        }
      ],
      "source": [
        "squares[0]  # Indexing returns the item."
      ]
    },
    {
      "cell_type": "code",
      "execution_count": null,
      "metadata": {
        "id": "WWATq_pEGp6I",
        "outputId": "311cd012-194d-41e0-c38f-6f9acb04215c"
      },
      "outputs": [
        {
          "data": {
            "text/plain": [
              "25"
            ]
          },
          "execution_count": 87,
          "metadata": {},
          "output_type": "execute_result"
        }
      ],
      "source": [
        "squares[-1]"
      ]
    },
    {
      "cell_type": "code",
      "execution_count": null,
      "metadata": {
        "id": "_lj9k1KvGp6I",
        "outputId": "49bbfcf7-7f2d-4073-dd5e-fae654d848d7"
      },
      "outputs": [
        {
          "data": {
            "text/plain": [
              "[9, 16, 25]"
            ]
          },
          "execution_count": 88,
          "metadata": {},
          "output_type": "execute_result"
        }
      ],
      "source": [
        "squares[-3:]  # Slicing returns a new list."
      ]
    },
    {
      "cell_type": "markdown",
      "metadata": {
        "id": "ILgbVTr_Gp6I"
      },
      "source": [
        "All slice operations return a new list containing the requested elements. This means that the following slice returns a new (shallow) copy of the list:"
      ]
    },
    {
      "cell_type": "code",
      "execution_count": null,
      "metadata": {
        "id": "k2kz5Zb_Gp6I",
        "outputId": "b24c8427-fe9a-45bc-e369-cef5598ee8b8"
      },
      "outputs": [
        {
          "data": {
            "text/plain": [
              "[1, 4, 9, 16, 25]"
            ]
          },
          "execution_count": 89,
          "metadata": {},
          "output_type": "execute_result"
        }
      ],
      "source": [
        "squares[:]"
      ]
    },
    {
      "cell_type": "markdown",
      "metadata": {
        "id": "Zim4CqPxGp6I"
      },
      "source": [
        "Lists also support concatenation with the `+` operator:"
      ]
    },
    {
      "cell_type": "code",
      "execution_count": null,
      "metadata": {
        "id": "bdb3uMw8Gp6I",
        "outputId": "d07b5c7c-892e-4c75-8785-4de402c68e3b"
      },
      "outputs": [
        {
          "data": {
            "text/plain": [
              "[1, 4, 9, 16, 25, 36, 49, 64, 81, 100]"
            ]
          },
          "execution_count": 90,
          "metadata": {},
          "output_type": "execute_result"
        }
      ],
      "source": [
        "squares + [36, 49, 64, 81, 100]"
      ]
    },
    {
      "cell_type": "markdown",
      "metadata": {
        "id": "l9IYbb0OGp6I"
      },
      "source": [
        "Unlike strings, which are [immutable](https://docs.python.org/3.5/glossary.html#term-immutable), lists are a [mutable](https://docs.python.org/3.5/glossary.html#term-mutable) type, which means you can change any value in the list:"
      ]
    },
    {
      "cell_type": "code",
      "execution_count": null,
      "metadata": {
        "id": "e8-8Mm-SGp6I"
      },
      "outputs": [],
      "source": [
        "cubes = [1, 8, 27, 65, 125]  # Something's wrong here ...\n",
        "4 ** 3  # the cube of 4 is 64, not 65!\n",
        "empty_list=[]"
      ]
    },
    {
      "cell_type": "code",
      "execution_count": null,
      "metadata": {
        "id": "MFqMZCSzGp6J",
        "outputId": "870b1f09-9f44-452c-bb42-73e9cff301ff"
      },
      "outputs": [
        {
          "data": {
            "text/plain": [
              "[1, 8, 27, 64, 125]"
            ]
          },
          "execution_count": 92,
          "metadata": {},
          "output_type": "execute_result"
        }
      ],
      "source": [
        "cubes[3] = 64  # Replace the wrong value.\n",
        "cubes"
      ]
    },
    {
      "cell_type": "markdown",
      "metadata": {
        "id": "6HqTcaJoGp6J"
      },
      "source": [
        "Use the list's `append()` method to add new items to the end of the list:"
      ]
    },
    {
      "cell_type": "code",
      "execution_count": null,
      "metadata": {
        "id": "x7MwDGyvGp6J",
        "outputId": "08a7df87-cfec-4ec9-89cc-2e748b7c9660",
        "colab": {
          "base_uri": "https://localhost:8080/"
        }
      },
      "outputs": [
        {
          "output_type": "execute_result",
          "data": {
            "text/plain": [
              "[1, 8, 27, 65, 125, 216, 343, 216, 343, 10]"
            ]
          },
          "metadata": {},
          "execution_count": 3
        }
      ],
      "source": [
        "cubes.append(216)  # Add the cube of 6 ...\n",
        "cubes.append(7 ** 3)  # and the cube of 7.\n",
        "cubes.append(10)\n",
        "cubes"
      ]
    },
    {
      "cell_type": "markdown",
      "metadata": {
        "id": "nTMKfcLkGp6J"
      },
      "source": [
        "You can even assign to slices, which can change the size of the list or clear it entirely:"
      ]
    },
    {
      "cell_type": "code",
      "execution_count": null,
      "metadata": {
        "id": "AbmSXgjvGp6J",
        "outputId": "ee568833-866c-4438-a8ed-67e1a5f97fa6",
        "colab": {
          "base_uri": "https://localhost:8080/"
        }
      },
      "outputs": [
        {
          "output_type": "execute_result",
          "data": {
            "text/plain": [
              "['a', 'b', 'c', 'd', 'e', 'f', 'g']"
            ]
          },
          "metadata": {},
          "execution_count": 4
        }
      ],
      "source": [
        "letters = ['a', 'b', 'c', 'd', 'e', 'f', 'g']\n",
        "letters"
      ]
    },
    {
      "cell_type": "code",
      "execution_count": null,
      "metadata": {
        "id": "fNIH0DsmGp6J",
        "outputId": "25d57a09-c909-4051-a2b4-5332825335ce",
        "colab": {
          "base_uri": "https://localhost:8080/"
        }
      },
      "outputs": [
        {
          "output_type": "execute_result",
          "data": {
            "text/plain": [
              "['a', 'b', 'c', 'C', 'D', 'E', 'g']"
            ]
          },
          "metadata": {},
          "execution_count": 6
        }
      ],
      "source": [
        "# Replace some values.\n",
        "letters[3:6] = ['C', 'D', 'E']\n",
        "letters"
      ]
    },
    {
      "cell_type": "code",
      "execution_count": null,
      "metadata": {
        "id": "jgRf2jk1Gp6J",
        "outputId": "774e23bf-aef0-4566-84e4-ed64612cf47e",
        "colab": {
          "base_uri": "https://localhost:8080/"
        }
      },
      "outputs": [
        {
          "output_type": "execute_result",
          "data": {
            "text/plain": [
              "['a', 'b', 'E', 'g']"
            ]
          },
          "metadata": {},
          "execution_count": 7
        }
      ],
      "source": [
        "# Now remove them.\n",
        "letters[2:5] = []\n",
        "letters"
      ]
    },
    {
      "cell_type": "code",
      "execution_count": null,
      "metadata": {
        "id": "vXa0CafzGp6J",
        "outputId": "6d092507-518c-4710-fc77-5dde885db7ff",
        "colab": {
          "base_uri": "https://localhost:8080/"
        }
      },
      "outputs": [
        {
          "output_type": "execute_result",
          "data": {
            "text/plain": [
              "[]"
            ]
          },
          "metadata": {},
          "execution_count": 8
        }
      ],
      "source": [
        "# Clear the list by replacing all the elements with an empty list.\n",
        "letters[:] = []\n",
        "letters"
      ]
    },
    {
      "cell_type": "markdown",
      "metadata": {
        "id": "XjpgRQf5Gp6J"
      },
      "source": [
        "The built-in [`len()`](https://docs.python.org/3.5/library/functions.html#len) function also applies to lists:"
      ]
    },
    {
      "cell_type": "code",
      "execution_count": null,
      "metadata": {
        "id": "6N-7XTAWGp6K",
        "outputId": "cd727bd7-ef09-4782-ad67-1225f8120744",
        "colab": {
          "base_uri": "https://localhost:8080/"
        }
      },
      "outputs": [
        {
          "output_type": "execute_result",
          "data": {
            "text/plain": [
              "4"
            ]
          },
          "metadata": {},
          "execution_count": 9
        }
      ],
      "source": [
        "letters = ['a', 'b', 'c', 'd']\n",
        "len(letters)"
      ]
    },
    {
      "cell_type": "markdown",
      "metadata": {
        "id": "VBTK5Ng6Gp6K"
      },
      "source": [
        "You can nest lists, which means to create lists that contain other lists. For example:"
      ]
    },
    {
      "cell_type": "code",
      "execution_count": null,
      "metadata": {
        "id": "Ti6HoQubGp6K",
        "outputId": "b88ee9fe-1849-4337-bb47-68b8f12d5af7",
        "colab": {
          "base_uri": "https://localhost:8080/"
        }
      },
      "outputs": [
        {
          "output_type": "execute_result",
          "data": {
            "text/plain": [
              "[['a', 'b', 'c'], [1, 2, 3]]"
            ]
          },
          "metadata": {},
          "execution_count": 10
        }
      ],
      "source": [
        "a = ['a', 'b', 'c']\n",
        "n = [1, 2, 3]\n",
        "x = [a, n]\n",
        "x\n",
        "\n"
      ]
    },
    {
      "cell_type": "code",
      "execution_count": null,
      "metadata": {
        "id": "-Ku_t-bHGp6K",
        "outputId": "512495d7-fc37-46f1-b5e3-ff55940d2a87"
      },
      "outputs": [
        {
          "data": {
            "text/plain": [
              "['a', 'b', 'c']"
            ]
          },
          "execution_count": 102,
          "metadata": {},
          "output_type": "execute_result"
        }
      ],
      "source": [
        "x[0]"
      ]
    },
    {
      "cell_type": "code",
      "execution_count": null,
      "metadata": {
        "id": "SeEsMkHDGp6K",
        "outputId": "b4e03c90-bb36-46ba-a2e1-844d1bb2103f"
      },
      "outputs": [
        {
          "data": {
            "text/plain": [
              "'b'"
            ]
          },
          "execution_count": 103,
          "metadata": {},
          "output_type": "execute_result"
        }
      ],
      "source": [
        "x[0][1]"
      ]
    },
    {
      "cell_type": "markdown",
      "metadata": {
        "id": "ZhxvGeILGp6K"
      },
      "source": [
        "You can create lists from scratch using a number of methods.  For example, to create a list of the number from 0 to 10, you can use the `range()` function which automatically generates an [iterator](https://wiki.python.org/moin/Iterator) which steps through a set of values:"
      ]
    },
    {
      "cell_type": "code",
      "execution_count": null,
      "metadata": {
        "id": "VypZSCdAGp6K",
        "outputId": "451a26f8-d141-4842-8a0f-086e28e9becf",
        "colab": {
          "base_uri": "https://localhost:8080/"
        }
      },
      "outputs": [
        {
          "output_type": "execute_result",
          "data": {
            "text/plain": [
              "[0, 1, 2, 3, 4, 5, 6, 7, 8, 9]"
            ]
          },
          "metadata": {},
          "execution_count": 11
        }
      ],
      "source": [
        "list(range(10))"
      ]
    },
    {
      "cell_type": "markdown",
      "metadata": {
        "id": "Q022hOoXGp6K"
      },
      "source": [
        "You can also create lists by repeating a list many times:"
      ]
    },
    {
      "cell_type": "code",
      "execution_count": null,
      "metadata": {
        "id": "gYaFyGfVGp6K",
        "outputId": "d7bf7773-34f7-4fd7-d0b1-d9f745ab5747"
      },
      "outputs": [
        {
          "data": {
            "text/plain": [
              "[1, 1, 1, 1, 1, 1, 1, 1, 1, 1]"
            ]
          },
          "execution_count": 125,
          "metadata": {},
          "output_type": "execute_result"
        }
      ],
      "source": [
        "[1]*10"
      ]
    },
    {
      "cell_type": "code",
      "execution_count": null,
      "metadata": {
        "id": "Sdc4JPuoGp6K",
        "outputId": "3c464093-ab67-4c5e-e9fe-9a502cca867c"
      },
      "outputs": [
        {
          "data": {
            "text/plain": [
              "[0, 0, 0, 0, 0, 0, 0, 0, 0, 0]"
            ]
          },
          "execution_count": 126,
          "metadata": {},
          "output_type": "execute_result"
        }
      ],
      "source": [
        "[0]*10"
      ]
    },
    {
      "cell_type": "code",
      "execution_count": null,
      "metadata": {
        "id": "vacCo0FJGp6L",
        "outputId": "0a49e4ae-4802-4ee0-9e4e-8bb3301a025f",
        "colab": {
          "base_uri": "https://localhost:8080/"
        }
      },
      "outputs": [
        {
          "output_type": "execute_result",
          "data": {
            "text/plain": [
              "[1, 2, 1, 2, 1, 2, 1, 2, 1, 2, 1, 2, 1, 2, 1, 2, 1, 2, 1, 2]"
            ]
          },
          "metadata": {},
          "execution_count": 12
        }
      ],
      "source": [
        "[1,2]*10"
      ]
    },
    {
      "cell_type": "markdown",
      "metadata": {
        "id": "-P8KYl1mGp6L"
      },
      "source": [
        "### Dictionaries"
      ]
    },
    {
      "cell_type": "markdown",
      "metadata": {
        "id": "kSG1k-CAGp6L"
      },
      "source": [
        "Dictionaries are collections of `key`-`value` pairs. One easy way to understand the difference between lists and dictionaries is that in a list you can \"lookup\" an entry of the list using a index value (e.g., `squares[1]`).  In a dictionary, you can look up values using anything as the index value, including string, numbers, or other Python elements (technically any object which is hashable).\n",
        "\n",
        "<div style=\"text-align: center\"><img src=\"./images/dictionaries.png\" width=\"500\"></div>"
      ]
    },
    {
      "cell_type": "markdown",
      "metadata": {
        "id": "H_7Bu4VCGp6L"
      },
      "source": [
        "First we can create an empty dictionary that contains nothing:"
      ]
    },
    {
      "cell_type": "code",
      "execution_count": null,
      "metadata": {
        "id": "ZfK7oSduGp6L"
      },
      "outputs": [],
      "source": [
        "person = {}"
      ]
    },
    {
      "cell_type": "markdown",
      "metadata": {
        "id": "8rddO-ozGp6L"
      },
      "source": [
        "Next, we might want to try initializing with some key value pairs.  Each key-value pair is separate by commas (similar to a list collection) but the key and value are separated with `:`"
      ]
    },
    {
      "cell_type": "code",
      "execution_count": null,
      "metadata": {
        "id": "mjUi7UoTGp6L",
        "outputId": "bda1b8bb-2041-4bfa-9ed5-6760fc5cf027",
        "colab": {
          "base_uri": "https://localhost:8080/"
        }
      },
      "outputs": [
        {
          "output_type": "execute_result",
          "data": {
            "text/plain": [
              "{'firstname': 'todd', 'lastname': 'gureckis', 'office': 859, 'hair': 'greying'}"
            ]
          },
          "metadata": {},
          "execution_count": 14
        }
      ],
      "source": [
        "person = { 'firstname': 'todd', 'lastname': 'gureckis', 'office': 859, 'hair': 'greying'}\n",
        "person"
      ]
    },
    {
      "cell_type": "markdown",
      "metadata": {
        "id": "_iVMvAqFGp6L"
      },
      "source": [
        "Another way to create a dictionary is using the `dict()` function:"
      ]
    },
    {
      "cell_type": "code",
      "execution_count": null,
      "metadata": {
        "id": "g_7EYh5DGp6L",
        "outputId": "b10ae269-b0f0-4acf-f6d0-4403e7b5c907",
        "colab": {
          "base_uri": "https://localhost:8080/"
        }
      },
      "outputs": [
        {
          "output_type": "execute_result",
          "data": {
            "text/plain": [
              "{'firstname': 'todd', 'lastname': 'gureckis', 'office': 859, 'hair': 'greying'}"
            ]
          },
          "metadata": {},
          "execution_count": 15
        }
      ],
      "source": [
        "person = dict(firstname='todd', lastname='gureckis', office=859, hair='greying')\n",
        "person"
      ]
    },
    {
      "cell_type": "markdown",
      "metadata": {
        "id": "c0TZ_S67Gp6M"
      },
      "source": [
        "The main think about dictionaries is that you can \"lookup\" any value you want by the \"key\":"
      ]
    },
    {
      "cell_type": "code",
      "execution_count": null,
      "metadata": {
        "id": "lO2Z5e1nGp6M",
        "outputId": "7b1f852b-74a9-478f-acac-dbc6e0bf9f50",
        "colab": {
          "base_uri": "https://localhost:8080/",
          "height": 35
        }
      },
      "outputs": [
        {
          "output_type": "execute_result",
          "data": {
            "text/plain": [
              "'todd'"
            ],
            "application/vnd.google.colaboratory.intrinsic+json": {
              "type": "string"
            }
          },
          "metadata": {},
          "execution_count": 16
        }
      ],
      "source": [
        "person['firstname']"
      ]
    },
    {
      "cell_type": "code",
      "execution_count": null,
      "metadata": {
        "id": "_QDa5qdOGp6M",
        "outputId": "5240a49d-7e43-492a-bcbc-313ab65b05cf",
        "colab": {
          "base_uri": "https://localhost:8080/",
          "height": 35
        }
      },
      "outputs": [
        {
          "output_type": "execute_result",
          "data": {
            "text/plain": [
              "'greying'"
            ],
            "application/vnd.google.colaboratory.intrinsic+json": {
              "type": "string"
            }
          },
          "metadata": {},
          "execution_count": 17
        }
      ],
      "source": [
        "person['hair']"
      ]
    },
    {
      "cell_type": "markdown",
      "metadata": {
        "id": "RtU0j42JGp6M"
      },
      "source": [
        "Sometimes you want to look inside a dictionary to see all the elements:"
      ]
    },
    {
      "cell_type": "markdown",
      "metadata": {
        "id": "VCrMoUuAGp6M"
      },
      "source": [
        "This is all the keys:"
      ]
    },
    {
      "cell_type": "code",
      "execution_count": null,
      "metadata": {
        "id": "vYOk_9hVGp6M",
        "outputId": "a2c1b3ec-2057-4de8-e032-8c1d5eadd58f",
        "colab": {
          "base_uri": "https://localhost:8080/"
        }
      },
      "outputs": [
        {
          "output_type": "execute_result",
          "data": {
            "text/plain": [
              "dict_keys(['firstname', 'lastname', 'office', 'hair'])"
            ]
          },
          "metadata": {},
          "execution_count": 18
        }
      ],
      "source": [
        "person.keys()"
      ]
    },
    {
      "cell_type": "markdown",
      "metadata": {
        "id": "whyCeJK5Gp6M"
      },
      "source": [
        "Values:"
      ]
    },
    {
      "cell_type": "code",
      "execution_count": null,
      "metadata": {
        "id": "HpP7SnnAGp6N",
        "outputId": "fab755d1-fbe2-43b3-f815-0e6be73d8050"
      },
      "outputs": [
        {
          "data": {
            "text/plain": [
              "dict_values(['todd', 'gureckis', 859, 'greying'])"
            ]
          },
          "execution_count": 142,
          "metadata": {},
          "output_type": "execute_result"
        }
      ],
      "source": [
        "person.values()"
      ]
    },
    {
      "cell_type": "markdown",
      "metadata": {
        "id": "baJTECO3Gp6N"
      },
      "source": [
        "or items:"
      ]
    },
    {
      "cell_type": "code",
      "execution_count": null,
      "metadata": {
        "id": "MUHWcTinGp6N",
        "outputId": "e96b9377-c7f2-4879-e734-bd90940cb3e1"
      },
      "outputs": [
        {
          "data": {
            "text/plain": [
              "dict_items([('firstname', 'todd'), ('lastname', 'gureckis'), ('office', 859), ('hair', 'greying')])"
            ]
          },
          "execution_count": 143,
          "metadata": {},
          "output_type": "execute_result"
        }
      ],
      "source": [
        "person.items()"
      ]
    },
    {
      "cell_type": "markdown",
      "metadata": {
        "id": "9cuLzWx7Gp6N"
      },
      "source": [
        "Looking up a key that doesn't exists in the dictionary results in a `KeyError` error:"
      ]
    },
    {
      "cell_type": "code",
      "execution_count": null,
      "metadata": {
        "id": "7BD8IVAfGp6N",
        "outputId": "76709717-6cf4-4cdf-d997-573b2a7ab775",
        "colab": {
          "base_uri": "https://localhost:8080/",
          "height": 176
        }
      },
      "outputs": [
        {
          "output_type": "error",
          "ename": "KeyError",
          "evalue": "'nope'",
          "traceback": [
            "\u001b[0;31m---------------------------------------------------------------------------\u001b[0m",
            "\u001b[0;31mKeyError\u001b[0m                                  Traceback (most recent call last)",
            "\u001b[0;32m<ipython-input-19-683b3d281e72>\u001b[0m in \u001b[0;36m<cell line: 1>\u001b[0;34m()\u001b[0m\n\u001b[0;32m----> 1\u001b[0;31m \u001b[0mprint\u001b[0m\u001b[0;34m(\u001b[0m\u001b[0mperson\u001b[0m\u001b[0;34m[\u001b[0m\u001b[0;34m'nope'\u001b[0m\u001b[0;34m]\u001b[0m\u001b[0;34m)\u001b[0m\u001b[0;34m\u001b[0m\u001b[0;34m\u001b[0m\u001b[0m\n\u001b[0m",
            "\u001b[0;31mKeyError\u001b[0m: 'nope'"
          ]
        }
      ],
      "source": [
        "print(person['nope'])"
      ]
    },
    {
      "cell_type": "markdown",
      "metadata": {
        "id": "K4FfQBY7Gp6N"
      },
      "source": [
        "In addition to initializing a dictionary you can add to it later:"
      ]
    },
    {
      "cell_type": "code",
      "execution_count": null,
      "metadata": {
        "id": "E9KOXnfcGp6N",
        "outputId": "d41ab539-2590-4ff8-e2d3-6d46bb2bd9e0",
        "colab": {
          "base_uri": "https://localhost:8080/"
        }
      },
      "outputs": [
        {
          "output_type": "execute_result",
          "data": {
            "text/plain": [
              "{'firstname': 'todd',\n",
              " 'lastname': 'gureckis',\n",
              " 'office': 859,\n",
              " 'hair': 'greying',\n",
              " 'age': '>30',\n",
              " 'position': 'associate professor',\n",
              " 'building': 'meyer',\n",
              " 'email': 'no thanks'}"
            ]
          },
          "metadata": {},
          "execution_count": 21
        }
      ],
      "source": [
        "person = { 'firstname': 'todd', 'lastname': 'gureckis', 'office': 859, 'hair': 'greying'}\n",
        "person['age']='>30'\n",
        "person['position']='associate professor'\n",
        "person['building']='meyer'\n",
        "person['email']='no thanks'\n",
        "person"
      ]
    },
    {
      "cell_type": "markdown",
      "metadata": {
        "id": "Syg2n0bDGp6N"
      },
      "source": [
        "You can also overwrite an existing value:"
      ]
    },
    {
      "cell_type": "code",
      "execution_count": null,
      "metadata": {
        "id": "izo9z-9_Gp6N",
        "outputId": "a2b79d17-cbcd-423e-ed66-8749b24b413f",
        "colab": {
          "base_uri": "https://localhost:8080/"
        }
      },
      "outputs": [
        {
          "output_type": "execute_result",
          "data": {
            "text/plain": [
              "{'firstname': 'TODD',\n",
              " 'lastname': 'gureckis',\n",
              " 'office': 859,\n",
              " 'hair': 'greying',\n",
              " 'age': '>30',\n",
              " 'position': 'associate professor',\n",
              " 'building': 'meyer',\n",
              " 'email': 'no thanks'}"
            ]
          },
          "metadata": {},
          "execution_count": 22
        }
      ],
      "source": [
        "person['firstname']='TODD'\n",
        "person"
      ]
    },
    {
      "cell_type": "markdown",
      "metadata": {
        "id": "S6VHXsijGp6N"
      },
      "source": [
        "In addition to indexing by key using the `[]`, you can use the `.get()` function to lookup by a key.  This is useful because you can provide an optional value in case the lookup fails:"
      ]
    },
    {
      "cell_type": "code",
      "execution_count": null,
      "metadata": {
        "id": "qwnWC4nzGp6O",
        "outputId": "d3ff5579-fbb3-473d-f675-3fa7277eeb66",
        "colab": {
          "base_uri": "https://localhost:8080/",
          "height": 35
        }
      },
      "outputs": [
        {
          "output_type": "execute_result",
          "data": {
            "text/plain": [
              "'TODD'"
            ],
            "application/vnd.google.colaboratory.intrinsic+json": {
              "type": "string"
            }
          },
          "metadata": {},
          "execution_count": 23
        }
      ],
      "source": [
        "# this works\n",
        "person.get('firstname')"
      ]
    },
    {
      "cell_type": "code",
      "execution_count": null,
      "metadata": {
        "id": "7QSjFV_RGp6O",
        "outputId": "73d02598-dd4b-497e-cea1-9b7c3d410d66",
        "colab": {
          "base_uri": "https://localhost:8080/",
          "height": 35
        }
      },
      "outputs": [
        {
          "output_type": "execute_result",
          "data": {
            "text/plain": [
              "'oops'"
            ],
            "application/vnd.google.colaboratory.intrinsic+json": {
              "type": "string"
            }
          },
          "metadata": {},
          "execution_count": 24
        }
      ],
      "source": [
        "# this fails but you get to return 'oops' in that case instead of an error\n",
        "person.get('phonenumber', 'oops')"
      ]
    },
    {
      "cell_type": "markdown",
      "metadata": {
        "id": "AqLF0cd_Gp6O"
      },
      "source": [
        "You can merge two dictionary together:"
      ]
    },
    {
      "cell_type": "code",
      "execution_count": null,
      "metadata": {
        "id": "n2UdMRGOGp6O",
        "outputId": "c04f0fb2-5311-4d5e-a4a1-fd8599a27a63",
        "colab": {
          "base_uri": "https://localhost:8080/"
        }
      },
      "outputs": [
        {
          "output_type": "stream",
          "name": "stdout",
          "text": [
            "{'a': 1, 'b': 2, 'c': 3}\n"
          ]
        }
      ],
      "source": [
        "dict1 = {'a': 1, 'b': 2}\n",
        "dict2 = {'c': 3}\n",
        "dict1.update(dict2)\n",
        "print(dict1)"
      ]
    },
    {
      "cell_type": "markdown",
      "metadata": {
        "id": "i1AgOa5VGp6O"
      },
      "source": [
        "If they have the same keys, the second one will overwrite the first."
      ]
    },
    {
      "cell_type": "code",
      "execution_count": null,
      "metadata": {
        "id": "onOMvJ3AGp6O",
        "outputId": "3227dd7e-15d6-4b9d-e434-b99a255f4ae6",
        "colab": {
          "base_uri": "https://localhost:8080/"
        }
      },
      "outputs": [
        {
          "output_type": "stream",
          "name": "stdout",
          "text": [
            "{'a': 1, 'b': 2, 'c': 4}\n"
          ]
        }
      ],
      "source": [
        "# If they have same keys:\n",
        "dict1.update({'c': 4})\n",
        "print(dict1)"
      ]
    },
    {
      "cell_type": "markdown",
      "metadata": {
        "id": "szstfagPGp6O"
      },
      "source": [
        "Why learn about dictionaries?  Well at least one reason is that dictionaries are a very useful way of organizing data.  For example, one might naturally think of the columns of a excel spreadsheet or data file as being labeled with 'keys' that have a list of values underneath them.  This is exactly a data format that `pandas` (a library that we will use in this class; more on this and other libraries later) likes:"
      ]
    },
    {
      "cell_type": "code",
      "execution_count": null,
      "metadata": {
        "id": "px09h2RBGp6O",
        "outputId": "e448708b-e7ab-41cc-de16-577fd300732e",
        "colab": {
          "base_uri": "https://localhost:8080/",
          "height": 174
        }
      },
      "outputs": [
        {
          "output_type": "execute_result",
          "data": {
            "text/plain": [
              "   student  grades\n",
              "0        1    0.95\n",
              "1        2    0.27\n",
              "2        3    0.45\n",
              "3        4    0.80"
            ],
            "text/html": [
              "\n",
              "  <div id=\"df-018722c2-bd31-4714-ba38-22a8196ff1ee\" class=\"colab-df-container\">\n",
              "    <div>\n",
              "<style scoped>\n",
              "    .dataframe tbody tr th:only-of-type {\n",
              "        vertical-align: middle;\n",
              "    }\n",
              "\n",
              "    .dataframe tbody tr th {\n",
              "        vertical-align: top;\n",
              "    }\n",
              "\n",
              "    .dataframe thead th {\n",
              "        text-align: right;\n",
              "    }\n",
              "</style>\n",
              "<table border=\"1\" class=\"dataframe\">\n",
              "  <thead>\n",
              "    <tr style=\"text-align: right;\">\n",
              "      <th></th>\n",
              "      <th>student</th>\n",
              "      <th>grades</th>\n",
              "    </tr>\n",
              "  </thead>\n",
              "  <tbody>\n",
              "    <tr>\n",
              "      <th>0</th>\n",
              "      <td>1</td>\n",
              "      <td>0.95</td>\n",
              "    </tr>\n",
              "    <tr>\n",
              "      <th>1</th>\n",
              "      <td>2</td>\n",
              "      <td>0.27</td>\n",
              "    </tr>\n",
              "    <tr>\n",
              "      <th>2</th>\n",
              "      <td>3</td>\n",
              "      <td>0.45</td>\n",
              "    </tr>\n",
              "    <tr>\n",
              "      <th>3</th>\n",
              "      <td>4</td>\n",
              "      <td>0.80</td>\n",
              "    </tr>\n",
              "  </tbody>\n",
              "</table>\n",
              "</div>\n",
              "    <div class=\"colab-df-buttons\">\n",
              "\n",
              "  <div class=\"colab-df-container\">\n",
              "    <button class=\"colab-df-convert\" onclick=\"convertToInteractive('df-018722c2-bd31-4714-ba38-22a8196ff1ee')\"\n",
              "            title=\"Convert this dataframe to an interactive table.\"\n",
              "            style=\"display:none;\">\n",
              "\n",
              "  <svg xmlns=\"http://www.w3.org/2000/svg\" height=\"24px\" viewBox=\"0 -960 960 960\">\n",
              "    <path d=\"M120-120v-720h720v720H120Zm60-500h600v-160H180v160Zm220 220h160v-160H400v160Zm0 220h160v-160H400v160ZM180-400h160v-160H180v160Zm440 0h160v-160H620v160ZM180-180h160v-160H180v160Zm440 0h160v-160H620v160Z\"/>\n",
              "  </svg>\n",
              "    </button>\n",
              "\n",
              "  <style>\n",
              "    .colab-df-container {\n",
              "      display:flex;\n",
              "      gap: 12px;\n",
              "    }\n",
              "\n",
              "    .colab-df-convert {\n",
              "      background-color: #E8F0FE;\n",
              "      border: none;\n",
              "      border-radius: 50%;\n",
              "      cursor: pointer;\n",
              "      display: none;\n",
              "      fill: #1967D2;\n",
              "      height: 32px;\n",
              "      padding: 0 0 0 0;\n",
              "      width: 32px;\n",
              "    }\n",
              "\n",
              "    .colab-df-convert:hover {\n",
              "      background-color: #E2EBFA;\n",
              "      box-shadow: 0px 1px 2px rgba(60, 64, 67, 0.3), 0px 1px 3px 1px rgba(60, 64, 67, 0.15);\n",
              "      fill: #174EA6;\n",
              "    }\n",
              "\n",
              "    .colab-df-buttons div {\n",
              "      margin-bottom: 4px;\n",
              "    }\n",
              "\n",
              "    [theme=dark] .colab-df-convert {\n",
              "      background-color: #3B4455;\n",
              "      fill: #D2E3FC;\n",
              "    }\n",
              "\n",
              "    [theme=dark] .colab-df-convert:hover {\n",
              "      background-color: #434B5C;\n",
              "      box-shadow: 0px 1px 3px 1px rgba(0, 0, 0, 0.15);\n",
              "      filter: drop-shadow(0px 1px 2px rgba(0, 0, 0, 0.3));\n",
              "      fill: #FFFFFF;\n",
              "    }\n",
              "  </style>\n",
              "\n",
              "    <script>\n",
              "      const buttonEl =\n",
              "        document.querySelector('#df-018722c2-bd31-4714-ba38-22a8196ff1ee button.colab-df-convert');\n",
              "      buttonEl.style.display =\n",
              "        google.colab.kernel.accessAllowed ? 'block' : 'none';\n",
              "\n",
              "      async function convertToInteractive(key) {\n",
              "        const element = document.querySelector('#df-018722c2-bd31-4714-ba38-22a8196ff1ee');\n",
              "        const dataTable =\n",
              "          await google.colab.kernel.invokeFunction('convertToInteractive',\n",
              "                                                    [key], {});\n",
              "        if (!dataTable) return;\n",
              "\n",
              "        const docLinkHtml = 'Like what you see? Visit the ' +\n",
              "          '<a target=\"_blank\" href=https://colab.research.google.com/notebooks/data_table.ipynb>data table notebook</a>'\n",
              "          + ' to learn more about interactive tables.';\n",
              "        element.innerHTML = '';\n",
              "        dataTable['output_type'] = 'display_data';\n",
              "        await google.colab.output.renderOutput(dataTable, element);\n",
              "        const docLink = document.createElement('div');\n",
              "        docLink.innerHTML = docLinkHtml;\n",
              "        element.appendChild(docLink);\n",
              "      }\n",
              "    </script>\n",
              "  </div>\n",
              "\n",
              "\n",
              "<div id=\"df-dc84ecc6-b680-407d-8dc7-917eef5d2e0a\">\n",
              "  <button class=\"colab-df-quickchart\" onclick=\"quickchart('df-dc84ecc6-b680-407d-8dc7-917eef5d2e0a')\"\n",
              "            title=\"Suggest charts\"\n",
              "            style=\"display:none;\">\n",
              "\n",
              "<svg xmlns=\"http://www.w3.org/2000/svg\" height=\"24px\"viewBox=\"0 0 24 24\"\n",
              "     width=\"24px\">\n",
              "    <g>\n",
              "        <path d=\"M19 3H5c-1.1 0-2 .9-2 2v14c0 1.1.9 2 2 2h14c1.1 0 2-.9 2-2V5c0-1.1-.9-2-2-2zM9 17H7v-7h2v7zm4 0h-2V7h2v10zm4 0h-2v-4h2v4z\"/>\n",
              "    </g>\n",
              "</svg>\n",
              "  </button>\n",
              "\n",
              "<style>\n",
              "  .colab-df-quickchart {\n",
              "      --bg-color: #E8F0FE;\n",
              "      --fill-color: #1967D2;\n",
              "      --hover-bg-color: #E2EBFA;\n",
              "      --hover-fill-color: #174EA6;\n",
              "      --disabled-fill-color: #AAA;\n",
              "      --disabled-bg-color: #DDD;\n",
              "  }\n",
              "\n",
              "  [theme=dark] .colab-df-quickchart {\n",
              "      --bg-color: #3B4455;\n",
              "      --fill-color: #D2E3FC;\n",
              "      --hover-bg-color: #434B5C;\n",
              "      --hover-fill-color: #FFFFFF;\n",
              "      --disabled-bg-color: #3B4455;\n",
              "      --disabled-fill-color: #666;\n",
              "  }\n",
              "\n",
              "  .colab-df-quickchart {\n",
              "    background-color: var(--bg-color);\n",
              "    border: none;\n",
              "    border-radius: 50%;\n",
              "    cursor: pointer;\n",
              "    display: none;\n",
              "    fill: var(--fill-color);\n",
              "    height: 32px;\n",
              "    padding: 0;\n",
              "    width: 32px;\n",
              "  }\n",
              "\n",
              "  .colab-df-quickchart:hover {\n",
              "    background-color: var(--hover-bg-color);\n",
              "    box-shadow: 0 1px 2px rgba(60, 64, 67, 0.3), 0 1px 3px 1px rgba(60, 64, 67, 0.15);\n",
              "    fill: var(--button-hover-fill-color);\n",
              "  }\n",
              "\n",
              "  .colab-df-quickchart-complete:disabled,\n",
              "  .colab-df-quickchart-complete:disabled:hover {\n",
              "    background-color: var(--disabled-bg-color);\n",
              "    fill: var(--disabled-fill-color);\n",
              "    box-shadow: none;\n",
              "  }\n",
              "\n",
              "  .colab-df-spinner {\n",
              "    border: 2px solid var(--fill-color);\n",
              "    border-color: transparent;\n",
              "    border-bottom-color: var(--fill-color);\n",
              "    animation:\n",
              "      spin 1s steps(1) infinite;\n",
              "  }\n",
              "\n",
              "  @keyframes spin {\n",
              "    0% {\n",
              "      border-color: transparent;\n",
              "      border-bottom-color: var(--fill-color);\n",
              "      border-left-color: var(--fill-color);\n",
              "    }\n",
              "    20% {\n",
              "      border-color: transparent;\n",
              "      border-left-color: var(--fill-color);\n",
              "      border-top-color: var(--fill-color);\n",
              "    }\n",
              "    30% {\n",
              "      border-color: transparent;\n",
              "      border-left-color: var(--fill-color);\n",
              "      border-top-color: var(--fill-color);\n",
              "      border-right-color: var(--fill-color);\n",
              "    }\n",
              "    40% {\n",
              "      border-color: transparent;\n",
              "      border-right-color: var(--fill-color);\n",
              "      border-top-color: var(--fill-color);\n",
              "    }\n",
              "    60% {\n",
              "      border-color: transparent;\n",
              "      border-right-color: var(--fill-color);\n",
              "    }\n",
              "    80% {\n",
              "      border-color: transparent;\n",
              "      border-right-color: var(--fill-color);\n",
              "      border-bottom-color: var(--fill-color);\n",
              "    }\n",
              "    90% {\n",
              "      border-color: transparent;\n",
              "      border-bottom-color: var(--fill-color);\n",
              "    }\n",
              "  }\n",
              "</style>\n",
              "\n",
              "  <script>\n",
              "    async function quickchart(key) {\n",
              "      const quickchartButtonEl =\n",
              "        document.querySelector('#' + key + ' button');\n",
              "      quickchartButtonEl.disabled = true;  // To prevent multiple clicks.\n",
              "      quickchartButtonEl.classList.add('colab-df-spinner');\n",
              "      try {\n",
              "        const charts = await google.colab.kernel.invokeFunction(\n",
              "            'suggestCharts', [key], {});\n",
              "      } catch (error) {\n",
              "        console.error('Error during call to suggestCharts:', error);\n",
              "      }\n",
              "      quickchartButtonEl.classList.remove('colab-df-spinner');\n",
              "      quickchartButtonEl.classList.add('colab-df-quickchart-complete');\n",
              "    }\n",
              "    (() => {\n",
              "      let quickchartButtonEl =\n",
              "        document.querySelector('#df-dc84ecc6-b680-407d-8dc7-917eef5d2e0a button');\n",
              "      quickchartButtonEl.style.display =\n",
              "        google.colab.kernel.accessAllowed ? 'block' : 'none';\n",
              "    })();\n",
              "  </script>\n",
              "</div>\n",
              "    </div>\n",
              "  </div>\n"
            ]
          },
          "metadata": {},
          "execution_count": 27
        }
      ],
      "source": [
        "import pandas as pd\n",
        "df=pd.DataFrame({'student': [1,2,3,4], 'grades':[0.95, 0.27, 0.45, 0.8] })\n",
        "df"
      ]
    },
    {
      "cell_type": "markdown",
      "metadata": {
        "id": "5rTt8CW3Gp6O"
      },
      "source": [
        "Another reason is that a very common data file format online is [JSON](https://stackoverflow.com/questions/383692/what-is-json-and-why-would-i-use-it), which is a data file format composed of key-value pairs.  Here is an example of a string that contains JSON:"
      ]
    },
    {
      "cell_type": "code",
      "execution_count": null,
      "metadata": {
        "id": "SW9-iL15Gp6O"
      },
      "outputs": [],
      "source": [
        "jsonstring='''\n",
        "{\n",
        "     \"firstName\": \"John\",\n",
        "     \"lastName\": \"Smith\",\n",
        "     \"address\": {\n",
        "         \"streetAddress\": \"21 2nd Street\",\n",
        "         \"city\": \"New York\",\n",
        "         \"state\": \"NY\",\n",
        "         \"postalCode\": 10021\n",
        "     },\n",
        "     \"phoneNumbers\": [\n",
        "         \"212 555-1234\",\n",
        "         \"646 555-4567\"\n",
        "     ]\n",
        " }\n",
        "'''"
      ]
    },
    {
      "cell_type": "markdown",
      "metadata": {
        "id": "nbI_kfvhGp6P"
      },
      "source": [
        "Which can be quickly loaded into a dictionary using the `json` library:"
      ]
    },
    {
      "cell_type": "code",
      "execution_count": null,
      "metadata": {
        "id": "0q4ujbVXGp6P",
        "outputId": "412909f6-f46b-4b06-c314-54e06cf73c72"
      },
      "outputs": [
        {
          "data": {
            "text/plain": [
              "{'address': {'city': 'New York',\n",
              "  'postalCode': 10021,\n",
              "  'state': 'NY',\n",
              "  'streetAddress': '21 2nd Street'},\n",
              " 'firstName': 'John',\n",
              " 'lastName': 'Smith',\n",
              " 'phoneNumbers': ['212 555-1234', '646 555-4567']}"
            ]
          },
          "execution_count": 172,
          "metadata": {},
          "output_type": "execute_result"
        }
      ],
      "source": [
        "import json\n",
        "json_dictionary=json.loads(jsonstring)\n",
        "json_dictionary"
      ]
    },
    {
      "cell_type": "code",
      "execution_count": null,
      "metadata": {
        "id": "de0h_TYFGp6P",
        "outputId": "63bca2bb-e2d2-459d-9c9a-d264555a03f7"
      },
      "outputs": [
        {
          "data": {
            "text/plain": [
              "'John'"
            ]
          },
          "execution_count": 173,
          "metadata": {},
          "output_type": "execute_result"
        }
      ],
      "source": [
        "json_dictionary['firstName']"
      ]
    },
    {
      "cell_type": "code",
      "execution_count": null,
      "metadata": {
        "id": "Zgb-0s50Gp6P",
        "outputId": "d6d5df15-bf1f-4ba5-85e1-f8b39a115dfe"
      },
      "outputs": [
        {
          "data": {
            "text/plain": [
              "['212 555-1234', '646 555-4567']"
            ]
          },
          "execution_count": 174,
          "metadata": {},
          "output_type": "execute_result"
        }
      ],
      "source": [
        "json_dictionary['phoneNumbers']"
      ]
    },
    {
      "cell_type": "code",
      "execution_count": null,
      "metadata": {
        "id": "b_G7eHR2Gp6P",
        "outputId": "3c2fe080-235f-4330-f66c-87bfbbd4ab75"
      },
      "outputs": [
        {
          "data": {
            "text/plain": [
              "{'city': 'New York',\n",
              " 'postalCode': 10021,\n",
              " 'state': 'NY',\n",
              " 'streetAddress': '21 2nd Street'}"
            ]
          },
          "execution_count": 175,
          "metadata": {},
          "output_type": "execute_result"
        }
      ],
      "source": [
        "json_dictionary['address']"
      ]
    },
    {
      "cell_type": "markdown",
      "metadata": {
        "id": "eq8s35NxGp6P"
      },
      "source": [
        "This last example shows how a dictionary can be inside a dictionary!"
      ]
    },
    {
      "cell_type": "markdown",
      "metadata": {
        "id": "N6t8lG_wGp6P"
      },
      "source": [
        "### Sets"
      ]
    },
    {
      "cell_type": "markdown",
      "metadata": {
        "id": "0Gy8IElcGp6Q"
      },
      "source": [
        "<div style=\"text-align: center\"><img src=\"./images/sets.png\" width=\"350\"></div>\n",
        "\n",
        "The final collection we will discuss is a set.  You might have learned about sets and set theory in high school.  Well Python has some tools for reasoning about sets.  Remember a set is an unordered collection of objects.  So unlike a list, there is not \"first element\" or \"second element\" in a set.  Instead, a set just contains objects and allows you to do various types of set operations, such as testing if an element is within a set, testing if a set is a subset of another set, etc...\n",
        "\n",
        "You can create a set like this:"
      ]
    },
    {
      "cell_type": "code",
      "execution_count": null,
      "metadata": {
        "id": "lPr5EOsBGp6Q",
        "outputId": "88fbf8da-116c-4251-e875-5b25d92612a6",
        "colab": {
          "base_uri": "https://localhost:8080/"
        }
      },
      "outputs": [
        {
          "output_type": "execute_result",
          "data": {
            "text/plain": [
              "{'Bear', 'Cat', 'Coyote', 'Dog', 'Elephant'}"
            ]
          },
          "metadata": {},
          "execution_count": 28
        }
      ],
      "source": [
        "animal_set = set(['Coyote', 'Dog', 'Bear', 'Cat', 'Elephant'])\n",
        "animal_set"
      ]
    },
    {
      "cell_type": "markdown",
      "metadata": {
        "id": "-X14JoLqGp6Q"
      },
      "source": [
        "Notice how even though 'Coyote' was the first element in the list that we used to initialize the set, it is no longer the first item in the output.  This is because sets are **unordered**.\n",
        "\n",
        "Sets are related to dictionaries (the elements of a dictionary are also unordered but they are indexed by a key where as a set has no key).  Thus, you can create a set using the `{}` operations."
      ]
    },
    {
      "cell_type": "code",
      "execution_count": null,
      "metadata": {
        "id": "3-AJOXJWGp6Q",
        "outputId": "cf792084-6bea-4a9e-e229-2bf0c4924080",
        "colab": {
          "base_uri": "https://localhost:8080/"
        }
      },
      "outputs": [
        {
          "output_type": "stream",
          "name": "stdout",
          "text": [
            "<class 'set'>\n"
          ]
        }
      ],
      "source": [
        "set_1 = {2, 4, 6, 8, 10}\n",
        "set_2 = {42, 'foo', (1, 2, 3), 3.14159}\n",
        "print(type(set_1))"
      ]
    },
    {
      "cell_type": "markdown",
      "metadata": {
        "id": "_EKqHSEfGp6Q"
      },
      "source": [
        "The size of a set can be found with the `len()` operator we saw before:"
      ]
    },
    {
      "cell_type": "code",
      "execution_count": null,
      "metadata": {
        "id": "yVeUHJOWGp6Q",
        "outputId": "1bf82afe-00db-4d15-f21e-b4ea32f73e11",
        "colab": {
          "base_uri": "https://localhost:8080/"
        }
      },
      "outputs": [
        {
          "output_type": "execute_result",
          "data": {
            "text/plain": [
              "5"
            ]
          },
          "metadata": {},
          "execution_count": 30
        }
      ],
      "source": [
        "len(animal_set)"
      ]
    },
    {
      "cell_type": "markdown",
      "metadata": {
        "id": "0p7107u-Gp6Q"
      },
      "source": [
        "You can test if an element is contained within a set:"
      ]
    },
    {
      "cell_type": "code",
      "execution_count": null,
      "metadata": {
        "id": "hoff7y9wGp6Q",
        "outputId": "316ee2dd-fdae-4fc1-914e-18d53303fcbb",
        "colab": {
          "base_uri": "https://localhost:8080/"
        }
      },
      "outputs": [
        {
          "output_type": "execute_result",
          "data": {
            "text/plain": [
              "False"
            ]
          },
          "metadata": {},
          "execution_count": 31
        }
      ],
      "source": [
        "'owl' in animal_set"
      ]
    },
    {
      "cell_type": "code",
      "execution_count": null,
      "metadata": {
        "id": "pPTIMn-fGp6Q",
        "outputId": "82665053-ef02-49d7-ca20-ef1776e465a8"
      },
      "outputs": [
        {
          "data": {
            "text/plain": [
              "True"
            ]
          },
          "execution_count": 182,
          "metadata": {},
          "output_type": "execute_result"
        }
      ],
      "source": [
        "'Coyote' in animal_set"
      ]
    },
    {
      "cell_type": "markdown",
      "metadata": {
        "id": "5Uc40DipGp6R"
      },
      "source": [
        "You can take the union of two sets, which will find all the elements unique and in common to both set.  Repeats are removed this way:"
      ]
    },
    {
      "cell_type": "code",
      "execution_count": null,
      "metadata": {
        "id": "-Z9Te0-QGp6R",
        "outputId": "2caa5ee6-8bac-4860-840f-1a0d4bf79998",
        "colab": {
          "base_uri": "https://localhost:8080/"
        }
      },
      "outputs": [
        {
          "output_type": "execute_result",
          "data": {
            "text/plain": [
              "{'bar', 'baz', 'foo', 'quux', 'qux'}"
            ]
          },
          "metadata": {},
          "execution_count": 32
        }
      ],
      "source": [
        "x1 = {'foo', 'bar', 'baz'}\n",
        "x2 = {'baz', 'qux', 'quux'}\n",
        "\n",
        "x1 | x2"
      ]
    },
    {
      "cell_type": "code",
      "execution_count": null,
      "metadata": {
        "id": "Dm6mxxKrGp6R",
        "outputId": "a2ece53e-d7fe-4121-9e8c-691c4c3f32db",
        "colab": {
          "base_uri": "https://localhost:8080/"
        }
      },
      "outputs": [
        {
          "output_type": "execute_result",
          "data": {
            "text/plain": [
              "{'bar', 'baz', 'foo', 'quux', 'qux'}"
            ]
          },
          "metadata": {},
          "execution_count": 33
        }
      ],
      "source": [
        "# or\n",
        "x1.union(x2)"
      ]
    },
    {
      "cell_type": "markdown",
      "metadata": {
        "id": "rOSvNwQ7Gp6R"
      },
      "source": [
        "You can also find the set intersection"
      ]
    },
    {
      "cell_type": "code",
      "execution_count": null,
      "metadata": {
        "id": "GSjfsNM_Gp6R",
        "outputId": "b3436324-d5a9-4da3-9823-700ad577e204",
        "colab": {
          "base_uri": "https://localhost:8080/"
        }
      },
      "outputs": [
        {
          "output_type": "execute_result",
          "data": {
            "text/plain": [
              "{'baz'}"
            ]
          },
          "metadata": {},
          "execution_count": 34
        }
      ],
      "source": [
        "x1 = {'foo', 'bar', 'baz'}\n",
        "x2 = {'baz', 'qux', 'quux'}\n",
        "\n",
        "x1.intersection(x2)"
      ]
    },
    {
      "cell_type": "code",
      "execution_count": null,
      "metadata": {
        "id": "aFWcemL9Gp6R",
        "outputId": "dc8858d2-6849-4b48-f1ca-25f45f19c1d6",
        "colab": {
          "base_uri": "https://localhost:8080/"
        }
      },
      "outputs": [
        {
          "output_type": "execute_result",
          "data": {
            "text/plain": [
              "{'baz'}"
            ]
          },
          "metadata": {},
          "execution_count": 35
        }
      ],
      "source": [
        "x1 & x2"
      ]
    },
    {
      "cell_type": "markdown",
      "metadata": {
        "id": "TTtO1VdAGp6R"
      },
      "source": [
        "The intersection finds the things in one set that are not in the other:"
      ]
    },
    {
      "cell_type": "code",
      "execution_count": null,
      "metadata": {
        "id": "vWtTdSzzGp6R",
        "outputId": "7c31c1fd-d813-4e39-8bd9-99f8f7e5d355",
        "colab": {
          "base_uri": "https://localhost:8080/"
        }
      },
      "outputs": [
        {
          "output_type": "execute_result",
          "data": {
            "text/plain": [
              "{'bar', 'foo'}"
            ]
          },
          "metadata": {},
          "execution_count": 36
        }
      ],
      "source": [
        "x1 = {'foo', 'bar', 'baz'}\n",
        "x2 = {'baz', 'qux', 'quux'}\n",
        "\n",
        "x1.difference(x2)"
      ]
    },
    {
      "cell_type": "code",
      "execution_count": null,
      "metadata": {
        "id": "zYVqgI4wGp6R",
        "outputId": "f641853a-b03e-4114-d42d-7355c4fb5816",
        "colab": {
          "base_uri": "https://localhost:8080/"
        }
      },
      "outputs": [
        {
          "output_type": "execute_result",
          "data": {
            "text/plain": [
              "{'bar', 'foo'}"
            ]
          },
          "metadata": {},
          "execution_count": 37
        }
      ],
      "source": [
        "x1-x2"
      ]
    },
    {
      "cell_type": "markdown",
      "metadata": {
        "id": "01bR4BxMGp6S"
      },
      "source": [
        "The `symmetric_difference` function finds the things in either set A or set B but not both:"
      ]
    },
    {
      "cell_type": "code",
      "execution_count": null,
      "metadata": {
        "id": "CEQ1dB1nGp6S",
        "outputId": "84a260ea-f226-4c7a-ee99-6ec6d959959c",
        "colab": {
          "base_uri": "https://localhost:8080/"
        }
      },
      "outputs": [
        {
          "output_type": "execute_result",
          "data": {
            "text/plain": [
              "{'bar', 'foo', 'quux', 'qux'}"
            ]
          },
          "metadata": {},
          "execution_count": 38
        }
      ],
      "source": [
        "x1 = {'foo', 'bar', 'baz'}\n",
        "x2 = {'baz', 'qux', 'quux'}\n",
        "\n",
        "x1.symmetric_difference(x2)"
      ]
    },
    {
      "cell_type": "code",
      "execution_count": null,
      "metadata": {
        "id": "eudqS2iMGp6S",
        "outputId": "931b58ad-45ea-4b40-ac90-078688fd6c69",
        "colab": {
          "base_uri": "https://localhost:8080/"
        }
      },
      "outputs": [
        {
          "output_type": "execute_result",
          "data": {
            "text/plain": [
              "{'bar', 'foo', 'quux', 'qux'}"
            ]
          },
          "metadata": {},
          "execution_count": 39
        }
      ],
      "source": [
        "x1 ^ x2"
      ]
    },
    {
      "cell_type": "markdown",
      "metadata": {
        "id": "FfOkL1mXGp6S"
      },
      "source": [
        "You and ask if two sets contain anything in common using `isdisjoint()`."
      ]
    },
    {
      "cell_type": "code",
      "execution_count": null,
      "metadata": {
        "id": "dr3xSNuKGp6S",
        "outputId": "566f7053-3fff-4505-a5f8-66a17ea3a25e"
      },
      "outputs": [
        {
          "data": {
            "text/plain": [
              "True"
            ]
          },
          "execution_count": 191,
          "metadata": {},
          "output_type": "execute_result"
        }
      ],
      "source": [
        "x1 = {1, 3, 5}\n",
        "x2 = {2, 4, 6}\n",
        "\n",
        "x1.isdisjoint(x2)"
      ]
    },
    {
      "cell_type": "code",
      "execution_count": null,
      "metadata": {
        "id": "TxPQ-RnfGp6S",
        "outputId": "40ec7215-d967-40d3-dcd4-c6520e9566d8"
      },
      "outputs": [
        {
          "data": {
            "text/plain": [
              "False"
            ]
          },
          "execution_count": 192,
          "metadata": {},
          "output_type": "execute_result"
        }
      ],
      "source": [
        "x1 = {1, 3, 5, 7} # adding one element in commont\n",
        "x2 = {2, 4, 6, 7}\n",
        "\n",
        "x1.isdisjoint(x2)"
      ]
    },
    {
      "cell_type": "markdown",
      "metadata": {
        "id": "3dZiP5gjGp6S"
      },
      "source": [
        "You can ask if one set is a subset of another one:"
      ]
    },
    {
      "cell_type": "code",
      "execution_count": null,
      "metadata": {
        "id": "7aOmBcb7Gp6S",
        "outputId": "cec747ce-432a-4d95-9308-e30412f97b53"
      },
      "outputs": [
        {
          "data": {
            "text/plain": [
              "False"
            ]
          },
          "execution_count": 194,
          "metadata": {},
          "output_type": "execute_result"
        }
      ],
      "source": [
        "x1 = {1, 3, 5, 7}\n",
        "x2 = {2, 4, 6, 7}\n",
        "\n",
        "x1.issubset(x2)"
      ]
    },
    {
      "cell_type": "code",
      "execution_count": null,
      "metadata": {
        "id": "eoAcU99aGp6T",
        "outputId": "db13dd70-d2fe-4e7e-a8cb-9eb06e1fbaad"
      },
      "outputs": [
        {
          "data": {
            "text/plain": [
              "True"
            ]
          },
          "execution_count": 196,
          "metadata": {},
          "output_type": "execute_result"
        }
      ],
      "source": [
        "x1 = {2,4}\n",
        "x2 = {2, 4, 6, 7}\n",
        "\n",
        "x1.issubset(x2)"
      ]
    },
    {
      "cell_type": "markdown",
      "metadata": {
        "id": "YArnVv1nGp6T"
      },
      "source": [
        "To add or remove a new element to the set, just use `add()` or `remove()`"
      ]
    },
    {
      "cell_type": "code",
      "execution_count": null,
      "metadata": {
        "id": "QKgtSdrjGp6T",
        "outputId": "64452d14-cbe8-41d0-ab0a-3c419b4ee9a4"
      },
      "outputs": [
        {
          "data": {
            "text/plain": [
              "{2, 4, 'foo'}"
            ]
          },
          "execution_count": 199,
          "metadata": {},
          "output_type": "execute_result"
        }
      ],
      "source": [
        "x1.add('foo')\n",
        "x1"
      ]
    },
    {
      "cell_type": "code",
      "execution_count": null,
      "metadata": {
        "id": "SHSjCg3FGp6T",
        "outputId": "b47a1e1e-fc09-484a-8a2d-8e43aa63a48f"
      },
      "outputs": [
        {
          "data": {
            "text/plain": [
              "{2, 4}"
            ]
          },
          "execution_count": 200,
          "metadata": {},
          "output_type": "execute_result"
        }
      ],
      "source": [
        "x1.remove('foo')\n",
        "x1"
      ]
    },
    {
      "cell_type": "markdown",
      "metadata": {
        "id": "k_i7BJFoGp6T"
      },
      "source": [
        "Sets are sometimes useful in data analysis because they can be used to get all the unique elements of a list.  For example, if you have a list of ages of participants, a set could be a nice way to find the different values it takes:"
      ]
    },
    {
      "cell_type": "code",
      "execution_count": null,
      "metadata": {
        "id": "1KkHcPzJGp6T",
        "outputId": "5ebd8807-ff19-43ad-c1cc-df9ce2aaa90e"
      },
      "outputs": [
        {
          "data": {
            "text/plain": [
              "{14, 15, 17, 18, 22, 24, 35}"
            ]
          },
          "execution_count": 201,
          "metadata": {},
          "output_type": "execute_result"
        }
      ],
      "source": [
        "ages = [14,15,35,15,24,14,17,18,22,22,24]\n",
        "set(ages)"
      ]
    },
    {
      "cell_type": "code",
      "execution_count": null,
      "metadata": {
        "id": "HaFticgGGp6T",
        "outputId": "71532623-4d1e-4b1f-d6bc-68d5de0fadc9"
      },
      "outputs": [
        {
          "data": {
            "text/plain": [
              "7"
            ]
          },
          "execution_count": 202,
          "metadata": {},
          "output_type": "execute_result"
        }
      ],
      "source": [
        "len(set(ages))"
      ]
    },
    {
      "cell_type": "markdown",
      "metadata": {
        "id": "oqSwlEj0Gp6T"
      },
      "source": [
        "The above shows there are 7 unique ages in the data set by getting rid of duplicates."
      ]
    },
    {
      "cell_type": "markdown",
      "metadata": {
        "id": "BteUkdK0Gp6T"
      },
      "source": [
        "## Flow Control"
      ]
    },
    {
      "cell_type": "markdown",
      "metadata": {
        "id": "YXlBlLIwGp6T"
      },
      "source": [
        "Within a Jupyter code cell, we have been seeing each line of code execute in sequence.  However often times we need to exert control over which bits of code run depending on other variables or settings.  The is generally known as [flow control](https://docs.python.org/3/tutorial/controlflow.html) elements.  These include conditionals like `if`, `else`, and `elif`, as well as loops like `for`.  Again this is not a full programming course so we can only cover this in partial depth (e.g., we will not talk about `while` loops although they can be really useful).  However, it should be enough to get by in this class."
      ]
    },
    {
      "cell_type": "markdown",
      "metadata": {
        "id": "4dtmFe9QGp6U"
      },
      "source": [
        "### Testing if things are true"
      ]
    },
    {
      "cell_type": "markdown",
      "metadata": {
        "id": "1XIypfygGp6U"
      },
      "source": [
        "<div style=\"text-align: center\"><img src=\"./images/tests.png\" width=\"450\"></div>\n",
        "\n",
        "\n",
        "The first thing we need is to consider how we deal with testing if some condition has been met.  One of the most common ways to deal with this in Python is with the double equals sign `==`.  The double equals sign is different from the single equals sign in that the single **assign** a value to a variable while the double **tests** if two things are equal or not.  Thus the single equal sign is a bit like a command to \"make these things equal\" whereas the double equal sign is a bit more like a question asking \"are these two things equal?\""
      ]
    },
    {
      "cell_type": "code",
      "execution_count": null,
      "metadata": {
        "id": "tTu3LU7KGp6U",
        "outputId": "c480691d-7ee2-4cb2-ae67-58f4e9dde7b7",
        "colab": {
          "base_uri": "https://localhost:8080/"
        }
      },
      "outputs": [
        {
          "output_type": "execute_result",
          "data": {
            "text/plain": [
              "False"
            ]
          },
          "metadata": {},
          "execution_count": 40
        }
      ],
      "source": [
        "1==2"
      ]
    },
    {
      "cell_type": "code",
      "execution_count": null,
      "metadata": {
        "id": "7YvJUKMEGp6U",
        "outputId": "7a29a6b3-2883-4a80-b170-f714a9968e9c",
        "colab": {
          "base_uri": "https://localhost:8080/"
        }
      },
      "outputs": [
        {
          "output_type": "execute_result",
          "data": {
            "text/plain": [
              "True"
            ]
          },
          "metadata": {},
          "execution_count": 41
        }
      ],
      "source": [
        "1==1"
      ]
    },
    {
      "cell_type": "code",
      "execution_count": null,
      "metadata": {
        "id": "1m95kAZaGp6U",
        "outputId": "bea9693e-2d6d-4490-d2fd-b1781a1df394",
        "colab": {
          "base_uri": "https://localhost:8080/"
        }
      },
      "outputs": [
        {
          "output_type": "execute_result",
          "data": {
            "text/plain": [
              "True"
            ]
          },
          "metadata": {},
          "execution_count": 42
        }
      ],
      "source": [
        "'hello'=='hello'"
      ]
    },
    {
      "cell_type": "code",
      "execution_count": null,
      "metadata": {
        "id": "Sv4lR4aQGp6U",
        "outputId": "0196f79c-0eed-42b3-8476-09d1eeff6755",
        "colab": {
          "base_uri": "https://localhost:8080/"
        }
      },
      "outputs": [
        {
          "output_type": "execute_result",
          "data": {
            "text/plain": [
              "False"
            ]
          },
          "metadata": {},
          "execution_count": 43
        }
      ],
      "source": [
        "'hello'=='HELLO'"
      ]
    },
    {
      "cell_type": "markdown",
      "metadata": {
        "id": "zoVXjgbAGp6U"
      },
      "source": [
        "While this gives you a few example, a more common use case is testing if a variable is equal to a particular value.  We already know 1 is equal to 1, but we might not know the contents of a variable and thus testing gives us a way to check if it means a particular condition."
      ]
    },
    {
      "cell_type": "code",
      "execution_count": null,
      "metadata": {
        "id": "XEl-EFEnGp6U",
        "outputId": "a03fe598-8638-4a4f-fa0b-119d2bcdeffb",
        "colab": {
          "base_uri": "https://localhost:8080/"
        }
      },
      "outputs": [
        {
          "output_type": "execute_result",
          "data": {
            "text/plain": [
              "True"
            ]
          },
          "metadata": {},
          "execution_count": 48
        }
      ],
      "source": [
        "myvar = 10\n",
        "\n",
        "myvar == 10"
      ]
    },
    {
      "cell_type": "code",
      "execution_count": null,
      "metadata": {
        "id": "zdFYoQ54Gp6U",
        "outputId": "a3c3208c-9dd9-43e4-84af-11473db151bc"
      },
      "outputs": [
        {
          "data": {
            "text/plain": [
              "False"
            ]
          },
          "execution_count": 9,
          "metadata": {},
          "output_type": "execute_result"
        }
      ],
      "source": [
        "myvar == 11"
      ]
    },
    {
      "cell_type": "markdown",
      "metadata": {
        "id": "1oGUQg7rGp6V"
      },
      "source": [
        "There are related comparisons.  For example, we might want to test if a variable is greater than a particular value"
      ]
    },
    {
      "cell_type": "code",
      "execution_count": null,
      "metadata": {
        "id": "Sn0MzvzSGp6V",
        "outputId": "53d3e05e-e934-42d2-98b7-461319c5347a"
      },
      "outputs": [
        {
          "data": {
            "text/plain": [
              "False"
            ]
          },
          "execution_count": 11,
          "metadata": {},
          "output_type": "execute_result"
        }
      ],
      "source": [
        "myvar > 10 # is myvar greater than 10"
      ]
    },
    {
      "cell_type": "code",
      "execution_count": null,
      "metadata": {
        "id": "njcqfNSdGp6V",
        "outputId": "f04c3283-f064-446e-8fd1-b9191ad03a5a"
      },
      "outputs": [
        {
          "data": {
            "text/plain": [
              "True"
            ]
          },
          "execution_count": 13,
          "metadata": {},
          "output_type": "execute_result"
        }
      ],
      "source": [
        "myvar >=5  # is myvar greater than or equal to 5"
      ]
    },
    {
      "cell_type": "code",
      "execution_count": null,
      "metadata": {
        "id": "JcwQz99tGp6V",
        "outputId": "bc19c323-e28f-49d7-cfc6-77e8b964f5a3"
      },
      "outputs": [
        {
          "data": {
            "text/plain": [
              "True"
            ]
          },
          "execution_count": 14,
          "metadata": {},
          "output_type": "execute_result"
        }
      ],
      "source": [
        "myvar <= 15 # is myvar less than or equal to 15"
      ]
    },
    {
      "cell_type": "markdown",
      "metadata": {
        "id": "pzgNx8PRGp6V"
      },
      "source": [
        "A final one is not equal to which is just the opposite of the `==`:"
      ]
    },
    {
      "cell_type": "code",
      "execution_count": null,
      "metadata": {
        "id": "vUUIIlNNGp6V",
        "outputId": "227270b0-9a4a-4582-a8d7-ed65251035bf"
      },
      "outputs": [
        {
          "data": {
            "text/plain": [
              "True"
            ]
          },
          "execution_count": 16,
          "metadata": {},
          "output_type": "execute_result"
        }
      ],
      "source": [
        "myvar != 5"
      ]
    },
    {
      "cell_type": "code",
      "source": [
        "not(myvar == 5)"
      ],
      "metadata": {
        "colab": {
          "base_uri": "https://localhost:8080/"
        },
        "id": "NE8TwHHoGTpW",
        "outputId": "92edc0a4-fcb6-414a-a029-2ce5ef9d6db7"
      },
      "execution_count": null,
      "outputs": [
        {
          "output_type": "execute_result",
          "data": {
            "text/plain": [
              "True"
            ]
          },
          "metadata": {},
          "execution_count": 49
        }
      ]
    },
    {
      "cell_type": "code",
      "execution_count": null,
      "metadata": {
        "id": "MYDEonZvGp6V",
        "outputId": "93de560d-79a0-4dc5-ec2c-5d805e313ce5"
      },
      "outputs": [
        {
          "data": {
            "text/plain": [
              "False"
            ]
          },
          "execution_count": 17,
          "metadata": {},
          "output_type": "execute_result"
        }
      ],
      "source": [
        "myvar != 10"
      ]
    },
    {
      "cell_type": "markdown",
      "metadata": {
        "id": "t7lE16-rGp6V"
      },
      "source": [
        "There is also a slightly more English-like version of this test:"
      ]
    },
    {
      "cell_type": "code",
      "execution_count": null,
      "metadata": {
        "id": "bwXP49WwGp6V",
        "outputId": "81056a5d-4e6d-444a-91cc-92536ed53335"
      },
      "outputs": [
        {
          "data": {
            "text/plain": [
              "True"
            ]
          },
          "execution_count": 18,
          "metadata": {},
          "output_type": "execute_result"
        }
      ],
      "source": [
        "myvar is 10"
      ]
    },
    {
      "cell_type": "code",
      "execution_count": null,
      "metadata": {
        "id": "QWlxPc7XGp6W",
        "outputId": "82b71b85-2119-49b6-cf24-b022ece1085a",
        "colab": {
          "base_uri": "https://localhost:8080/"
        }
      },
      "outputs": [
        {
          "output_type": "stream",
          "name": "stderr",
          "text": [
            "<>:1: SyntaxWarning: \"is not\" with a literal. Did you mean \"!=\"?\n",
            "<>:1: SyntaxWarning: \"is not\" with a literal. Did you mean \"!=\"?\n",
            "<ipython-input-50-0fa4a0139aa1>:1: SyntaxWarning: \"is not\" with a literal. Did you mean \"!=\"?\n",
            "  myvar is not 10\n"
          ]
        },
        {
          "output_type": "execute_result",
          "data": {
            "text/plain": [
              "False"
            ]
          },
          "metadata": {},
          "execution_count": 50
        }
      ],
      "source": [
        "myvar is not 10"
      ]
    },
    {
      "cell_type": "markdown",
      "metadata": {
        "id": "ttJlRu3bGp6W"
      },
      "source": [
        "We can also test if an item is a part of a collection (e.g., a list or set):"
      ]
    },
    {
      "cell_type": "code",
      "execution_count": null,
      "metadata": {
        "id": "v-J3s9QEGp6W",
        "outputId": "008f9ede-2a4b-435b-da5e-6e64e78cbf5d",
        "colab": {
          "base_uri": "https://localhost:8080/"
        }
      },
      "outputs": [
        {
          "output_type": "execute_result",
          "data": {
            "text/plain": [
              "True"
            ]
          },
          "metadata": {},
          "execution_count": 51
        }
      ],
      "source": [
        "mylist = ['one', 'two', 'three', 'four']\n",
        "\n",
        "'one' in mylist # is 'one' in mylist?"
      ]
    },
    {
      "cell_type": "code",
      "execution_count": null,
      "metadata": {
        "id": "uNEL77KAGp6W",
        "outputId": "1d7ddd55-7695-4061-d5d0-43cb1c76cbc7",
        "colab": {
          "base_uri": "https://localhost:8080/"
        }
      },
      "outputs": [
        {
          "output_type": "execute_result",
          "data": {
            "text/plain": [
              "True"
            ]
          },
          "metadata": {},
          "execution_count": 52
        }
      ],
      "source": [
        "'six' not in mylist # is 'six' not in mylist?"
      ]
    },
    {
      "cell_type": "code",
      "execution_count": null,
      "metadata": {
        "id": "-aaSGvC_Gp6W",
        "outputId": "65de221c-ed01-4522-ad2f-327dddf8e221"
      },
      "outputs": [
        {
          "data": {
            "text/plain": [
              "True"
            ]
          },
          "execution_count": 22,
          "metadata": {},
          "output_type": "execute_result"
        }
      ],
      "source": [
        "mystring = 'lkjasldfkj'\n",
        "\n",
        "'jas' in mystring # tests if 'jas' is a substring of mystring"
      ]
    },
    {
      "cell_type": "code",
      "execution_count": null,
      "metadata": {
        "id": "y2B0xTIUGp6W",
        "outputId": "ea97e68b-1739-4d6d-b742-14dfa1feecfe"
      },
      "outputs": [
        {
          "data": {
            "text/plain": [
              "False"
            ]
          },
          "execution_count": 24,
          "metadata": {},
          "output_type": "execute_result"
        }
      ],
      "source": [
        "'jas' not in mystring # tests if 'jas' is not a substring of mystring"
      ]
    },
    {
      "cell_type": "markdown",
      "metadata": {
        "id": "3vhYbosgGp6W"
      },
      "source": [
        "### Conditionals (if-then-else)"
      ]
    },
    {
      "cell_type": "markdown",
      "metadata": {
        "id": "e1HVwjQLGp6W"
      },
      "source": [
        "<div style=\"text-align: center\"><img src=\"./images/ifthen2.png\" width=\"450\"></div>\n",
        "\n",
        "Now that we have seen a few ways to test if things are true/false or meet some particular condiiton, the next step is to execute different code depending on what the test gives us.  The simplest version of code that accomplishes this has the general form like this:\n",
        "\n",
        "```\n",
        "if <expression>:\n",
        "    <code block>\n",
        "```\n",
        "\n",
        "where `expression` is a true/false (Boolean) as described in the previous section and `<code block>` is some collection of lines that will be executed only if the expression is `True`.\n",
        "\n",
        "For a more example, lets create a variable called 'myvar' and set it equal to 10.  Then we will write a short program that prints 'hi':"
      ]
    },
    {
      "cell_type": "code",
      "execution_count": null,
      "metadata": {
        "id": "msgMn0PSGp6W",
        "outputId": "b8a62bb2-4e51-48c4-81b9-a4d6e94af97e",
        "colab": {
          "base_uri": "https://localhost:8080/"
        }
      },
      "outputs": [
        {
          "output_type": "stream",
          "name": "stdout",
          "text": [
            "stay at home\n"
          ]
        }
      ],
      "source": [
        "weather = 'nice'\n",
        "\n",
        "if weather == 'bad':\n",
        "    print('Walk the dog')\n",
        "    print('Mow the lawn')\n",
        "    print('Weed the flower bed')\n",
        "    if weather == \"nice\":\n",
        "      print(\"smthng\")\n",
        "    else:\n",
        "      print(\"nthng\")\n",
        "elif weather == \"nice\":\n",
        "  print(\"stay at home\")"
      ]
    },
    {
      "cell_type": "markdown",
      "metadata": {
        "id": "1xiyr0VxGp6W"
      },
      "source": [
        "The important thing about this code is that you could run it even if you weren't sure what the value of `weather` was because it was set earlier in the program or by some other piece of complex code.  Thus, it lets you run a special bit of code depending on the value of a variable.\n",
        "\n",
        "The situation you would use this type of code in is very intuitive... sometimes you only do certain step when something is true (like take an umbrella when it is raining).\n",
        "\n",
        "Now there is a couple of **very important** but sometimes **subtle or confusing** parts about this.\n",
        "\n",
        "First is that you'll notice that the lines which reads `print()` are not aligned with the rest of the code in that cell.  This is because the first character of that line is the tab character (the one on your keyboard you sometimes use to start the first line of a paragraph when writing).\n",
        "\n",
        "In Python this spacing is **very important**.  Any line that is tabbed over from the line above it is known as a \"code block\":"
      ]
    },
    {
      "cell_type": "code",
      "execution_count": null,
      "metadata": {
        "id": "blRakAXXGp6X",
        "outputId": "a394af0d-0b72-44d3-dfed-92b110676afb",
        "colab": {
          "base_uri": "https://localhost:8080/"
        }
      },
      "outputs": [
        {
          "output_type": "stream",
          "name": "stdout",
          "text": [
            "this is not\n"
          ]
        }
      ],
      "source": [
        "myvar = 10\n",
        "myvar2 = 20\n",
        "\n",
        "if myvar == myvar2:\n",
        "    # this is inside the code block\n",
        "    print(\"this is\")\n",
        "    print(\"a code block\")\n",
        "\n",
        "# this is not in the code block because it is not tabbed over\n",
        "print(\"this is not\")"
      ]
    },
    {
      "cell_type": "markdown",
      "metadata": {
        "id": "DBukucx-Gp6X"
      },
      "source": [
        "All programming languages have some type of code block syntax, but in Python, you just use tab and untab to do this.  This feature might actually be one of the main reasons Python is so popular (I kid you not).  The reason is this is a very elegant way to indicate code blocks and it makes the code very readable compared to other languages.  The simplicity can sometimes be confusing for new users, though, because you really have to keep track of the level of indentation of your code.  It is not a big deal once you get used to it but at first you will need to be on-guard about which lines are or are not tabbed over."
      ]
    },
    {
      "cell_type": "code",
      "execution_count": null,
      "metadata": {
        "id": "X8JJeilTGp6X",
        "outputId": "9a889f0f-abbf-43c4-ca60-d9d148d64b7c",
        "colab": {
          "base_uri": "https://localhost:8080/"
        }
      },
      "outputs": [
        {
          "output_type": "stream",
          "name": "stdout",
          "text": [
            "this is\n",
            "a code block\n",
            "this is not\n"
          ]
        }
      ],
      "source": [
        "myvar = 10\n",
        "myvar2 = 10\n",
        "\n",
        "if myvar == myvar2:\n",
        "    print(\"this is\")\n",
        "    print(\"a code block\")\n",
        "\n",
        "print(\"this is not\")"
      ]
    },
    {
      "cell_type": "markdown",
      "metadata": {
        "id": "8ugPmrJSGp6X"
      },
      "source": [
        "Consider the two contrasting examples above (the one just now and the one before it).  In one, `myvar` and `myvar2` have a different value.  Thus, the equal `==` test fails (return `False`) and then the tabbed code block is skipped.  In the second example, the value of the test is `True` so the code block is run.  In both cases, the final print (which is *not* tabbed over) runs no matter what (so it is printed out in both examples).  The general structure is this:\n",
        "\n",
        "<div style=\"text-align: center\"><img src=\"./images/ifthen.png\" width=\"450\"></div>"
      ]
    },
    {
      "cell_type": "markdown",
      "metadata": {
        "id": "MY2HW3m4Gp6X"
      },
      "source": [
        "In the `if` statement we just considered you take an optional path through the code and then continue.  However, othertimes you want to take one path if something is `True` and another path if it is `False`.  For example:\n",
        "\n",
        "```\n",
        "if raining:\n",
        "   - take umbrella\n",
        "otherwise:\n",
        "   - take sunglasses\n",
        "- take wallet\n",
        "```\n",
        "\n",
        "This is not valid Python but it makes intuitive sense... sometimes if the conditional is false we want to do something else.  This in Python is accomplished with the `else` command:"
      ]
    },
    {
      "cell_type": "code",
      "execution_count": null,
      "metadata": {
        "id": "_hxTu4AOGp6X",
        "outputId": "d532cd62-ab55-4832-ef1c-6d10203103ed"
      },
      "outputs": [
        {
          "name": "stdout",
          "output_type": "stream",
          "text": [
            "Take umbrella\n",
            "Take wallet\n"
          ]
        }
      ],
      "source": [
        "raining = True\n",
        "\n",
        "if raining:\n",
        "    print(\"Take umbrella\")\n",
        "else:\n",
        "    print(\"Take sunglasses\")\n",
        "\n",
        "print(\"Take wallet\")"
      ]
    },
    {
      "cell_type": "code",
      "execution_count": null,
      "metadata": {
        "id": "yUCIC9GHGp6X",
        "outputId": "a2e6efb1-4a00-4953-c3d5-286ec27a6f43"
      },
      "outputs": [
        {
          "name": "stdout",
          "output_type": "stream",
          "text": [
            "Take sunglasses\n",
            "Take wallet\n"
          ]
        }
      ],
      "source": [
        "raining = False\n",
        "\n",
        "if raining:\n",
        "    print(\"Take umbrella\")\n",
        "else:\n",
        "    print(\"Take sunglasses\")\n",
        "\n",
        "print(\"Take wallet\")"
      ]
    },
    {
      "cell_type": "markdown",
      "metadata": {
        "id": "s-HnPpxgGp6X"
      },
      "source": [
        "If you compare the two code cells above, you can see that depending on the value of raining (either `True` or `False`... these are special words in Python) then it takes a different path through the code.\n",
        "\n",
        "Great, but what if there many conditions?  So you might want to take your sunglasses only if it is not cloudy.  But somedays it might not be raining but still be cloudy and so you can use the `elif` (which is a combination of the `else` and `if` commands to consider multiple conditions:"
      ]
    },
    {
      "cell_type": "code",
      "execution_count": null,
      "metadata": {
        "id": "cVZ_Z55VGp6X",
        "outputId": "70e71c0c-fd95-4697-a637-719a837168e8"
      },
      "outputs": [
        {
          "name": "stdout",
          "output_type": "stream",
          "text": [
            "Take sunglasses\n",
            "Take wallet\n"
          ]
        }
      ],
      "source": [
        "weather = 'sunny'\n",
        "\n",
        "if weather == 'raining':\n",
        "    print(\"Take umbrella\")\n",
        "elif weather == 'sunny':\n",
        "    print(\"Take sunglasses\")\n",
        "elif weather == 'cloudy':\n",
        "    print(\"Take sweater\")\n",
        "\n",
        "print(\"Take wallet\")"
      ]
    },
    {
      "cell_type": "code",
      "execution_count": null,
      "metadata": {
        "id": "qBkRxZJrGp6X",
        "outputId": "a525a5a5-d33d-490e-815e-28ea239dd458"
      },
      "outputs": [
        {
          "name": "stdout",
          "output_type": "stream",
          "text": [
            "Take umbrella\n",
            "Take wallet\n"
          ]
        }
      ],
      "source": [
        "weather = 'raining'\n",
        "\n",
        "if weather == 'raining':\n",
        "    print(\"Take umbrella\")\n",
        "elif weather == 'sunny':\n",
        "    print(\"Take sunglasses\")\n",
        "elif weather == 'cloudy':\n",
        "    print(\"Take sweater\")\n",
        "\n",
        "print(\"Take wallet\")"
      ]
    },
    {
      "cell_type": "code",
      "execution_count": null,
      "metadata": {
        "id": "c3d5HRzvGp6Y",
        "outputId": "f11ea2f9-89c3-42fe-e1e2-040a688c0412"
      },
      "outputs": [
        {
          "name": "stdout",
          "output_type": "stream",
          "text": [
            "Take sweater\n",
            "Take wallet\n"
          ]
        }
      ],
      "source": [
        "weather = 'cloudy'\n",
        "\n",
        "if weather == 'raining':\n",
        "    print(\"Take umbrella\")\n",
        "elif weather == 'sunny':\n",
        "    print(\"Take sunglasses\")\n",
        "elif weather == 'cloudy':\n",
        "    print(\"Take sweater\")\n",
        "\n",
        "print(\"Take wallet\")"
      ]
    },
    {
      "cell_type": "markdown",
      "metadata": {
        "id": "JVVq_RNDGp6Y"
      },
      "source": [
        "Comparing the three cells above, you can see that depending on multiple values that the variable `weather` could take, you do different things.  Pretty simple!\n",
        "\n",
        "If needed, you can always end a `if/elif` sequence with an final `else`:"
      ]
    },
    {
      "cell_type": "code",
      "execution_count": null,
      "metadata": {
        "id": "H1RS0v6vGp6Y",
        "outputId": "d4a87c2c-0999-448a-e0a1-c1cbe49ec26b"
      },
      "outputs": [
        {
          "name": "stdout",
          "output_type": "stream",
          "text": [
            "I don't know what to do!\n",
            "Take wallet\n"
          ]
        }
      ],
      "source": [
        "weather = 'heat wave'\n",
        "\n",
        "if weather == 'raining':\n",
        "    print(\"Take umbrella\")\n",
        "elif weather == 'sunny':\n",
        "    print(\"Take sunglasses\")\n",
        "elif weather == 'cloudy':\n",
        "    print(\"Take sweater\")\n",
        "else:\n",
        "    print(\"I don't know what to do!\")\n",
        "\n",
        "print(\"Take wallet\")"
      ]
    },
    {
      "cell_type": "markdown",
      "metadata": {
        "id": "wHv4wVucGp6Y"
      },
      "source": [
        "Here, in the case we come up against a heat wave (or anything else!), our program doesn't know what to recommend!"
      ]
    },
    {
      "cell_type": "markdown",
      "metadata": {
        "id": "oaD_j6luGp6Y"
      },
      "source": [
        "### For Loops"
      ]
    },
    {
      "cell_type": "markdown",
      "metadata": {
        "id": "u5nADwTuGp6Y"
      },
      "source": [
        "Using loops in computer programming allows us to automate and repeat similar tasks multiple times. This is very common in data analysis.  In this tutorial, we’ll be covering Python’s **for loop**.\n",
        "\n",
        "\n",
        "<div style=\"text-align: center\"><img src=\"./images/forloops.png\" width=\"450\"></div>\n",
        "\n",
        "A `for` loop implements the repeated execution of code based on a loop counter or loop variable. This means that `for` loops are used most often when the number of repetitions is known before entering the loop, unlike **while loops**, which can run until some condition is met."
      ]
    },
    {
      "cell_type": "markdown",
      "metadata": {
        "id": "3WIH9V-NGp6Y"
      },
      "source": [
        "In Python, `for` loops are constructed like so:"
      ]
    },
    {
      "cell_type": "markdown",
      "metadata": {
        "id": "tIMd792zGp6Y"
      },
      "source": [
        "```\n",
        "for [iterating variable] in [sequence]:\n",
        "    [do something]\n",
        "```"
      ]
    },
    {
      "cell_type": "markdown",
      "metadata": {
        "id": "XJbl9StSGp6Y"
      },
      "source": [
        "The something that is being done (known as a code block) will be executed until the sequence is over.  The code block itself can consist of any number of lines of code, as long as they are tabbed over once from the left hand side of the code."
      ]
    },
    {
      "cell_type": "markdown",
      "metadata": {
        "id": "9X8DEtReGp6Y"
      },
      "source": [
        "Let’s look at a `for` loop that iterates through a range of values:"
      ]
    },
    {
      "cell_type": "code",
      "execution_count": null,
      "metadata": {
        "id": "RP98T9uLGp6Z",
        "outputId": "0080e0da-9fa5-4092-ec11-fdf0c46a5fac",
        "colab": {
          "base_uri": "https://localhost:8080/"
        }
      },
      "outputs": [
        {
          "output_type": "stream",
          "name": "stdout",
          "text": [
            "0\n",
            "1\n",
            "2\n",
            "3\n",
            "4\n"
          ]
        }
      ],
      "source": [
        "for i in range(0,5):\n",
        "   print(i)"
      ]
    },
    {
      "cell_type": "markdown",
      "metadata": {
        "id": "esvfgPs6Gp6Z"
      },
      "source": [
        "This `for` loop sets up `i` as its iterating variable, and the sequence exists in the range of 0 to 5.\n",
        "\n",
        "Then within the loop, we print out one integer per loop iteration. Keep in mind that in programming, we tend to begin at index 0, so that is why although 5 numbers are printed out, they range from 0-4.\n",
        "\n",
        "You’ll commonly see and use `for` loops when a program needs to repeat a block of code a number of times."
      ]
    },
    {
      "cell_type": "markdown",
      "metadata": {
        "id": "Q9OD2Bl9Gp6Z"
      },
      "source": [
        "#### For Loops using `range()`"
      ]
    },
    {
      "cell_type": "markdown",
      "metadata": {
        "id": "PT-6_h5pGp6Z"
      },
      "source": [
        "One of Python’s built-in immutable sequence types is `range()`. In loops, `range()` is used to control how many times the loop will be repeated.\n",
        "\n",
        "When working with `range()`, you can pass between 1 and 3 integer arguments to it:\n",
        "\n",
        "- `start` states the integer value at which the sequence begins, if this is not included then start begins at 0\n",
        "- `stop` is always required and is the integer that is counted up to but not included\n",
        "- `step` sets how much to increase (or decrease in the case of negative numbers) the next iteration, if this is omitted then step defaults to 1\n",
        "\n",
        "We’ll look at some examples of passing different arguments to `range()`.\n",
        "\n",
        "First, let’s only pass the `stop` argument, so that our sequence set up is `range(stop)`:"
      ]
    },
    {
      "cell_type": "code",
      "execution_count": null,
      "metadata": {
        "id": "hVKxgSHSGp6Z",
        "outputId": "60601710-154e-4a80-fa7c-0b04728ed285"
      },
      "outputs": [
        {
          "name": "stdout",
          "output_type": "stream",
          "text": [
            "0\n",
            "1\n",
            "2\n",
            "3\n",
            "4\n",
            "5\n"
          ]
        }
      ],
      "source": [
        "for i in range(6):\n",
        "   print(i)"
      ]
    },
    {
      "cell_type": "markdown",
      "metadata": {
        "id": "am8jeozNGp6Z"
      },
      "source": [
        "In the program above, the stop argument is 6, so the code will iterate from 0-6 (exclusive of 6)."
      ]
    },
    {
      "cell_type": "markdown",
      "metadata": {
        "id": "OLC38Z5MGp6Z"
      },
      "source": [
        "Next, we’ll look at `range(start, stop)`, with values passed for when the iteration should start and for when it should stop.  Here, the range goes from 20 (inclusive) to 25 (exclusive), so the output looks like this:"
      ]
    },
    {
      "cell_type": "code",
      "execution_count": null,
      "metadata": {
        "id": "NJdeL_vmGp6Z",
        "outputId": "f2d7adf1-ccf9-4cd8-987a-a8ef6c746010",
        "colab": {
          "base_uri": "https://localhost:8080/"
        }
      },
      "outputs": [
        {
          "output_type": "stream",
          "name": "stdout",
          "text": [
            "1\n",
            "2\n",
            "3\n",
            "4\n",
            "5\n",
            "6\n",
            "7\n",
            "8\n",
            "9\n",
            "10\n",
            "11\n",
            "12\n",
            "13\n",
            "14\n",
            "15\n",
            "16\n",
            "17\n",
            "18\n",
            "19\n"
          ]
        }
      ],
      "source": [
        "for i in range(1,20):\n",
        "    print(i)"
      ]
    },
    {
      "cell_type": "code",
      "source": [],
      "metadata": {
        "colab": {
          "base_uri": "https://localhost:8080/",
          "height": 141
        },
        "id": "smC_cHG6KI93",
        "outputId": "285928ee-5fd9-4dd7-e94e-aeed1fca920f"
      },
      "execution_count": null,
      "outputs": [
        {
          "output_type": "error",
          "ename": "SyntaxError",
          "evalue": "incomplete input (<ipython-input-64-341d673bc80e>, line 1)",
          "traceback": [
            "\u001b[0;36m  File \u001b[0;32m\"<ipython-input-64-341d673bc80e>\"\u001b[0;36m, line \u001b[0;32m1\u001b[0m\n\u001b[0;31m    while true:\u001b[0m\n\u001b[0m               ^\u001b[0m\n\u001b[0;31mSyntaxError\u001b[0m\u001b[0;31m:\u001b[0m incomplete input\n"
          ]
        }
      ]
    },
    {
      "cell_type": "markdown",
      "metadata": {
        "id": "D-ylQO4FGp6Z"
      },
      "source": [
        "The step argument of `range()` can be used to skip values within the sequence.\n",
        "\n",
        "With all three arguments, `step` comes in the final position: `range(start, stop, step)`. First, let’s use a `step` with a positive value.  In this case, the `for` loop is set up so that the numbers from 0 to 15 print out, but at a step of 3, so that only every third number is printed, like so:"
      ]
    },
    {
      "cell_type": "code",
      "execution_count": null,
      "metadata": {
        "id": "FOfQesQ0Gp6a",
        "outputId": "26521085-4e5f-4605-cb87-2d8e0db31d6d",
        "colab": {
          "base_uri": "https://localhost:8080/"
        }
      },
      "outputs": [
        {
          "output_type": "stream",
          "name": "stdout",
          "text": [
            "0\n",
            "3\n",
            "6\n",
            "9\n",
            "12\n"
          ]
        }
      ],
      "source": [
        "for i in range(0,15,3):\n",
        "   print(i)"
      ]
    },
    {
      "cell_type": "markdown",
      "metadata": {
        "id": "ULjgYGmeGp6a"
      },
      "source": [
        "We can also use a negative value for our `step` argument to iterate backwards, but we’ll have to adjust our start and stop arguments accordingly.  Here, 100 is the `start` value, 0 is the `stop` value, and -10 is the range, so the loop begins at 100 and ends at 0, decreasing by 10 with each iteration. We can see this occur in the output:"
      ]
    },
    {
      "cell_type": "code",
      "execution_count": null,
      "metadata": {
        "id": "0n6b4kgwGp6a",
        "outputId": "32a2e539-712a-4a88-915e-66e70dac56f7"
      },
      "outputs": [
        {
          "name": "stdout",
          "output_type": "stream",
          "text": [
            "100\n",
            "90\n",
            "80\n",
            "70\n",
            "60\n",
            "50\n",
            "40\n",
            "30\n",
            "20\n",
            "10\n"
          ]
        }
      ],
      "source": [
        "for i in range(100,0,-10):\n",
        "   print(i)"
      ]
    },
    {
      "cell_type": "markdown",
      "metadata": {
        "id": "BVNnegWWGp6a"
      },
      "source": [
        "When programming in Python, for loops often make use of the `range()` sequence type as its parameters for iteration."
      ]
    },
    {
      "cell_type": "markdown",
      "metadata": {
        "id": "EvThfrQTGp6a"
      },
      "source": [
        "#### For Loops using Sequential Data Types"
      ]
    },
    {
      "cell_type": "markdown",
      "metadata": {
        "id": "4KmFIYRQGp6a"
      },
      "source": [
        "Lists and other data sequence types can also be leveraged as iteration parameters in for loops. Rather than iterating through a `range()`, you can define a list and iterate through that list.\n",
        "\n",
        "We’ll assign a list to a variable, and then iterate through the list:"
      ]
    },
    {
      "cell_type": "code",
      "execution_count": null,
      "metadata": {
        "id": "uDPBKwABGp6a",
        "outputId": "2403fe36-e960-4d53-f3aa-843cb2ed4af7",
        "colab": {
          "base_uri": "https://localhost:8080/"
        }
      },
      "outputs": [
        {
          "output_type": "stream",
          "name": "stdout",
          "text": [
            "hammerhead\n",
            "great white\n",
            "dogfish\n",
            "frilled\n",
            "bullhead\n",
            "requiem\n"
          ]
        }
      ],
      "source": [
        "sharks = ['hammerhead', 'great white', 'dogfish', 'frilled', 'bullhead', 'requiem']\n",
        "\n",
        "for a in sharks:\n",
        "   print(a)"
      ]
    },
    {
      "cell_type": "code",
      "source": [
        "sharks[6]"
      ],
      "metadata": {
        "colab": {
          "base_uri": "https://localhost:8080/",
          "height": 176
        },
        "id": "bes6ZZnKdWwF",
        "outputId": "b343a48e-eb7e-4732-af8d-c3aa7de2bcf1"
      },
      "execution_count": null,
      "outputs": [
        {
          "output_type": "error",
          "ename": "IndexError",
          "evalue": "list index out of range",
          "traceback": [
            "\u001b[0;31m---------------------------------------------------------------------------\u001b[0m",
            "\u001b[0;31mIndexError\u001b[0m                                Traceback (most recent call last)",
            "\u001b[0;32m<ipython-input-7-8ce17d3550a3>\u001b[0m in \u001b[0;36m<cell line: 1>\u001b[0;34m()\u001b[0m\n\u001b[0;32m----> 1\u001b[0;31m \u001b[0msharks\u001b[0m\u001b[0;34m[\u001b[0m\u001b[0;36m6\u001b[0m\u001b[0;34m]\u001b[0m\u001b[0;34m\u001b[0m\u001b[0;34m\u001b[0m\u001b[0m\n\u001b[0m",
            "\u001b[0;31mIndexError\u001b[0m: list index out of range"
          ]
        }
      ]
    },
    {
      "cell_type": "code",
      "source": [
        "for i in range(len(sharks)):\n",
        "  print(sharks[i])"
      ],
      "metadata": {
        "colab": {
          "base_uri": "https://localhost:8080/"
        },
        "id": "DC0KZpUeK5-t",
        "outputId": "edb62cd7-3acc-424c-9107-3c19e75d314f"
      },
      "execution_count": null,
      "outputs": [
        {
          "output_type": "stream",
          "name": "stdout",
          "text": [
            "hammerhead\n",
            "great white\n",
            "dogfish\n",
            "frilled\n",
            "bullhead\n",
            "requiem\n"
          ]
        }
      ]
    },
    {
      "cell_type": "markdown",
      "metadata": {
        "id": "0I-AyOSdGp6a"
      },
      "source": [
        "The output above shows that the `for` loop iterated through the list, and printed each item from the list per line."
      ]
    },
    {
      "cell_type": "markdown",
      "metadata": {
        "id": "66dUu7hQGp6a"
      },
      "source": [
        "Lists and other sequence-based data types like strings and tuples are common to use with loops because they are iterable. You can combine these data types with range() to add items to a list, for example:"
      ]
    },
    {
      "cell_type": "code",
      "execution_count": null,
      "metadata": {
        "id": "Ud-YCkUNGp6a",
        "outputId": "cb52aa76-c15f-4e0a-9f1c-cdd45414fefb",
        "colab": {
          "base_uri": "https://localhost:8080/"
        }
      },
      "outputs": [
        {
          "output_type": "stream",
          "name": "stdout",
          "text": [
            "['hammerhead', 'great white', 'dogfish', 'frilled', 'bullhead', 'requiem', 'shark', 'shark', 'shark', 'shark', 'shark', 'shark']\n"
          ]
        }
      ],
      "source": [
        "sharks = ['hammerhead', 'great white', 'dogfish', 'frilled', 'bullhead', 'requiem']\n",
        "\n",
        "for item in range(len(sharks)):\n",
        "   sharks.append('shark')\n",
        "\n",
        "print(sharks)"
      ]
    },
    {
      "cell_type": "markdown",
      "metadata": {
        "id": "M6AQAyWKGp6a"
      },
      "source": [
        "Here, we have added a placeholder string of 'shark' for each item of the length of the sharks list.\n",
        "\n",
        "You can also use a `for` loop to construct a list from scratch.  In this example, the list `integers` is initialized as an empty list, but the for loop populates the list like so:"
      ]
    },
    {
      "cell_type": "code",
      "execution_count": null,
      "metadata": {
        "id": "OqYwlsbfGp6a",
        "outputId": "50dd78b9-91e6-4573-8dc8-c3c103e4db2f"
      },
      "outputs": [
        {
          "name": "stdout",
          "output_type": "stream",
          "text": [
            "[0, 1, 2, 3, 4, 5, 6, 7, 8, 9]\n"
          ]
        }
      ],
      "source": [
        "integers = []\n",
        "\n",
        "for i in range(10):\n",
        "   integers.append(i)\n",
        "\n",
        "print(integers)"
      ]
    },
    {
      "cell_type": "markdown",
      "metadata": {
        "id": "whdhnNqcGp6b"
      },
      "source": [
        "Similarly, we can iterate through strings:"
      ]
    },
    {
      "cell_type": "code",
      "execution_count": null,
      "metadata": {
        "id": "qstdo-PfGp6b",
        "outputId": "d14e394a-fa8c-489d-e028-f56e4df8ff16"
      },
      "outputs": [
        {
          "name": "stdout",
          "output_type": "stream",
          "text": [
            "S\n",
            "a\n",
            "m\n",
            "m\n",
            "y\n"
          ]
        }
      ],
      "source": [
        "sammy = 'Sammy'\n",
        "\n",
        "for letter in sammy:\n",
        "   print(letter)"
      ]
    },
    {
      "cell_type": "markdown",
      "metadata": {
        "id": "DNSGBVsUGp6b"
      },
      "source": [
        "When iterating through a dictionary, it’s important to keep the `key:value` structure in mind to ensure that you are calling the correct element of the dictionary. Here is an example that calls both the key and the value:"
      ]
    },
    {
      "cell_type": "code",
      "execution_count": null,
      "metadata": {
        "id": "Iid90cfYGp6b",
        "outputId": "81ff12ac-ab57-40a0-d5fc-4b3e9fe7ec54"
      },
      "outputs": [
        {
          "name": "stdout",
          "output_type": "stream",
          "text": [
            "name: Sammy\n",
            "animal: shark\n",
            "color: blue\n",
            "location: ocean\n"
          ]
        }
      ],
      "source": [
        "sammy_shark = {'name': 'Sammy', 'animal': 'shark', 'color': 'blue', 'location': 'ocean'}\n",
        "\n",
        "for key in sammy_shark:\n",
        "   print(key + ': ' + sammy_shark[key])"
      ]
    },
    {
      "cell_type": "markdown",
      "metadata": {
        "id": "T3_MwrgMGp6b"
      },
      "source": [
        "When using dictionaries with `for` loops, the iterating variable corresponds to the keys of the dictionary, and `dictionary_variable[iterating_variable]` corresponds to the values. In the case above, the iterating variable key was used to stand for `key`, and `sammy_shark[key]` was used to stand for the values."
      ]
    },
    {
      "cell_type": "markdown",
      "metadata": {
        "id": "8yI2LsVIGp6b"
      },
      "source": [
        "Loops are often used to iterate and manipulate sequential data types."
      ]
    },
    {
      "cell_type": "markdown",
      "metadata": {
        "id": "D7rYphFdGp6b"
      },
      "source": [
        "#### Nested For Loops"
      ]
    },
    {
      "cell_type": "markdown",
      "metadata": {
        "id": "mfvwi2uaGp6b"
      },
      "source": [
        "Loops can be nested in Python, as they can with other programming languages.\n",
        "\n",
        "A nested loop is a loop that occurs within another loop, structurally similar to nested if statements. These are constructed like so:"
      ]
    },
    {
      "cell_type": "markdown",
      "metadata": {
        "id": "DaSmaKjmGp6b"
      },
      "source": [
        "```\n",
        "for [first iterating variable] in [outer loop]: # Outer loop\n",
        "    [do something]  # Optional\n",
        "    for [second iterating variable] in [nested loop]:   # Nested loop\n",
        "        [do something]  \n",
        "```"
      ]
    },
    {
      "cell_type": "markdown",
      "metadata": {
        "id": "jc2inepRGp6b"
      },
      "source": [
        "The program first encounters the outer loop, executing its first iteration. This first iteration triggers the inner, nested loop, which then runs to completion. Then the program returns back to the top of the outer loop, completing the second iteration and again triggering the nested loop. Again, the nested loop runs to completion, and the program returns back to the top of the outer loop until the sequence is complete or a break or other statement disrupts the process."
      ]
    },
    {
      "cell_type": "markdown",
      "metadata": {
        "id": "P-tYRqtbGp6b"
      },
      "source": [
        "Let’s implement a nested `for` loop so we can take a closer look. In this example, the outer loop will iterate through a list of integers called `num_list`, and the inner loop will iterate through a list of strings called `alpha_list`."
      ]
    },
    {
      "cell_type": "code",
      "execution_count": null,
      "metadata": {
        "id": "k60yCzFLGp6c",
        "outputId": "b0cead76-4fb9-44b0-f9d4-6e5dcfb86608",
        "colab": {
          "base_uri": "https://localhost:8080/"
        }
      },
      "outputs": [
        {
          "output_type": "stream",
          "name": "stdout",
          "text": [
            "1\n",
            "a\n",
            "b\n",
            "c\n",
            "2\n",
            "a\n",
            "b\n",
            "c\n",
            "3\n",
            "a\n",
            "b\n",
            "c\n"
          ]
        }
      ],
      "source": [
        "num_list = [1, 2, 3]\n",
        "alpha_list = ['a', 'b', 'c']\n",
        "\n",
        "for number in num_list:\n",
        "    print(number)\n",
        "    for letter in alpha_list:\n",
        "        print(letter)"
      ]
    },
    {
      "cell_type": "markdown",
      "metadata": {
        "id": "ProzDg-gGp6c"
      },
      "source": [
        "The output illustrates that the program completes the first iteration of the outer loop by printing `1`, which then triggers completion of the inner loop, printing `a`,`b`, `c` consecutively. Once the inner loop has completed, the program returns to the top of the outer loop, prints `2`, then again prints the inner loop in its entirety (`a`, `b`, `c`), etc."
      ]
    },
    {
      "cell_type": "markdown",
      "metadata": {
        "id": "vcUrRcDCGp6c"
      },
      "source": [
        "Nested `for` loops can be useful for iterating through items within lists composed of lists. In a list composed of lists, if we employ just one for loop, the program will output each internal list as an item:"
      ]
    },
    {
      "cell_type": "code",
      "execution_count": null,
      "metadata": {
        "id": "NO0Uvf5KGp6c",
        "outputId": "33f5ab61-c7ff-4e8d-da80-a490a6cb81d7"
      },
      "outputs": [
        {
          "name": "stdout",
          "output_type": "stream",
          "text": [
            "['hammerhead', 'great white', 'dogfish']\n",
            "[0, 1, 2]\n",
            "[9.9, 8.8, 7.7]\n"
          ]
        }
      ],
      "source": [
        "list_of_lists = [['hammerhead', 'great white', 'dogfish'],[0, 1, 2],[9.9, 8.8, 7.7]]\n",
        "\n",
        "for list in list_of_lists:\n",
        "    print(list)"
      ]
    },
    {
      "cell_type": "markdown",
      "metadata": {
        "id": "sThwk97-Gp6c"
      },
      "source": [
        "In order to access each individual item of the internal lists, we’ll implement a nested `for` loop:"
      ]
    },
    {
      "cell_type": "code",
      "execution_count": null,
      "metadata": {
        "id": "xnzdfJyRGp6c",
        "outputId": "f571ad4a-8b10-4ba2-e3b4-ef0eebe52fb4"
      },
      "outputs": [
        {
          "name": "stdout",
          "output_type": "stream",
          "text": [
            "hammerhead\n",
            "great white\n",
            "dogfish\n",
            "0\n",
            "1\n",
            "2\n",
            "9.9\n",
            "8.8\n",
            "7.7\n"
          ]
        }
      ],
      "source": [
        "list_of_lists = [['hammerhead', 'great white', 'dogfish'],[0, 1, 2],[9.9, 8.8, 7.7]]\n",
        "\n",
        "for list in list_of_lists:\n",
        "    for item in list:\n",
        "        print(item)"
      ]
    },
    {
      "cell_type": "markdown",
      "metadata": {
        "id": "RJPobwXRGp6c"
      },
      "source": [
        "When we utilize a nested for loop, we are able to iterate over the individual items contained in the lists."
      ]
    },
    {
      "cell_type": "markdown",
      "metadata": {
        "id": "un6LNQsSGp6c"
      },
      "source": [
        "Another useful looping structure in known as a `while`-loop.  We don't have time to go through a while loop in detail and they are used a bit less often in our data analysis but you can watch this great tutorial on [RealPython](https://realpython.com/lessons/intro-while-loops-python/).\n",
        "\n",
        "On the class webpage there is also an example of [40 For loops](../../tips/fortyforloops.html) which show many concrete examples used in data analysis that you might find helpful."
      ]
    },
    {
      "cell_type": "markdown",
      "metadata": {
        "id": "taCqT1_4Gp6c"
      },
      "source": [
        "## Writing New Functions"
      ]
    },
    {
      "cell_type": "markdown",
      "metadata": {
        "id": "EjcTflk3Gp6c"
      },
      "source": [
        "<div style=\"text-align: center\"><img src=\"./images/functions.png\" width=\"450\"></div>\n",
        "\n",
        "In the previous sections, we learned how we can organize code into **code blocks** by tabbing it over and wrapping it in control structures (which then execute the code a certain number of times or depending on some particular condition).  As you begin to write longer and longer programs though, it sometimes helps to break up the functionality of your programs into reuseable chunks called **functions**.  Functions make your code more readable, save time and typing by organizing bits of code into reuseable chunks, and make it easier to share your code with other people."
      ]
    },
    {
      "cell_type": "markdown",
      "metadata": {
        "id": "N5Jel_u7Gp6c"
      },
      "source": [
        "The general format for a function is composed of a few elements.  First there is a line the defines the **name** of the function and the **parameters** is can take (more on that later).  Next a sequence of instructions are provided that are tabbed over from the definition.  Ending the tab ends the definition of the function:\n",
        "    \n",
        "```\n",
        "def my_function(parameter1, parameter2):\n",
        "    <code line 1>\n",
        "    <code line 2>\n",
        "    <code line 3>\n",
        "```\n",
        "\n",
        "This just gives you a general sense of those functions are organized and is not a valid Python command!\n",
        "\n",
        "Let's look at an actual version."
      ]
    },
    {
      "cell_type": "code",
      "execution_count": null,
      "metadata": {
        "id": "RcS5XIAeGp6d"
      },
      "outputs": [],
      "source": [
        "def my_function(x):\n",
        "    print(x)\n",
        "    print(\"Hello from my function\")"
      ]
    },
    {
      "cell_type": "markdown",
      "metadata": {
        "id": "MSKzZW53Gp6d"
      },
      "source": [
        "Notice two things about this function.  First is that is has no parameters (which is fine...  we'll talk about how to add them later).  Second, when you run this code cell, nothing happens.  This is because this simply **defines** the function but does not run it.  To run this function someplace else in our code, we would write:"
      ]
    },
    {
      "cell_type": "code",
      "execution_count": null,
      "metadata": {
        "id": "eszECXPaGp6d",
        "outputId": "7f659deb-1d4f-4d76-afc0-aa16880be7ea",
        "colab": {
          "base_uri": "https://localhost:8080/"
        }
      },
      "outputs": [
        {
          "output_type": "stream",
          "name": "stdout",
          "text": [
            "hi\n",
            "Hello from my function\n"
          ]
        }
      ],
      "source": [
        "my_function(\"hi\")"
      ]
    },
    {
      "cell_type": "markdown",
      "metadata": {
        "id": "zhsSZVLgGp6d"
      },
      "source": [
        "Here we \"executed\" (i.e., ran) the function by calling its name with the parentheses.\n",
        "\n",
        "Functions can be combined with other elements of Python to create more complex program flows.  For example, we can combine a custom function with a for loop:"
      ]
    },
    {
      "cell_type": "code",
      "execution_count": null,
      "metadata": {
        "id": "jgDSIjFYGp6d",
        "outputId": "dc48b025-4843-4022-a992-c62c47ee7acc"
      },
      "outputs": [
        {
          "name": "stdout",
          "output_type": "stream",
          "text": [
            "*\n",
            "***\n",
            "*****\n",
            "*\n",
            "***\n",
            "*****\n",
            "*\n",
            "***\n",
            "*****\n",
            "*\n",
            "***\n",
            "*****\n"
          ]
        }
      ],
      "source": [
        "def my_ramp():\n",
        "    print('*')\n",
        "    print('***')\n",
        "    print('*****')\n",
        "\n",
        "for i in range(4):\n",
        "    my_ramp()"
      ]
    },
    {
      "cell_type": "markdown",
      "metadata": {
        "id": "wWFCa0__Gp6d"
      },
      "source": [
        "The above code, which prints out a ramping set of stars four times, is much more efficient than if you repeated the print statements 16 times."
      ]
    },
    {
      "cell_type": "markdown",
      "metadata": {
        "id": "t5JiA5b0Gp6d"
      },
      "source": [
        "#### Parameters"
      ]
    },
    {
      "cell_type": "markdown",
      "metadata": {
        "id": "fjsts3TEGp6d"
      },
      "source": [
        "Functions can take different types of \"parameters\", which are essentially variables that are created at the start of the execution of the function.  This is helpful for making more abstract functions that perform some computation with their inputs.  For example:"
      ]
    },
    {
      "cell_type": "code",
      "execution_count": null,
      "metadata": {
        "id": "CjtB_NlFGp6d"
      },
      "outputs": [],
      "source": [
        "def add(x, y):\n",
        "    print(\"The sum is \", x+y)"
      ]
    },
    {
      "cell_type": "markdown",
      "metadata": {
        "id": "eS_M_YxcGp6e"
      },
      "source": [
        "The `add` functions we just defined takes two parameters `x` and `y`.  These parameters are then used as the operands to an addition operation.  As a result, we can run this function many times with different inputs and get different results:"
      ]
    },
    {
      "cell_type": "code",
      "execution_count": null,
      "metadata": {
        "id": "xRdN75SWGp6e",
        "outputId": "5d525e83-6340-428f-c842-87cb4143b75d"
      },
      "outputs": [
        {
          "name": "stdout",
          "output_type": "stream",
          "text": [
            "The sum is  3\n"
          ]
        }
      ],
      "source": [
        "add(1,2)"
      ]
    },
    {
      "cell_type": "code",
      "execution_count": null,
      "metadata": {
        "id": "J0nGeInkGp6e",
        "outputId": "76b3e94b-2275-46f5-9715-51e8bb38ead2"
      },
      "outputs": [
        {
          "name": "stdout",
          "output_type": "stream",
          "text": [
            "The sum is  62\n"
          ]
        }
      ],
      "source": [
        "add(34,28)"
      ]
    },
    {
      "cell_type": "markdown",
      "metadata": {
        "id": "-KFymAA9Gp6e"
      },
      "source": [
        "#### Return values"
      ]
    },
    {
      "cell_type": "markdown",
      "metadata": {
        "id": "bbJVJ1YgGp6e"
      },
      "source": [
        "The functions we have considered so far simply print something out and then finish.  However, sometimes you might like to have your function give back one or more result for further processing by other parts of your program.  For instance, instead of printing out the sum of x and y, we can redefine the sum() function to return the sum using a special keyword `return`:"
      ]
    },
    {
      "cell_type": "code",
      "execution_count": null,
      "metadata": {
        "id": "MG2d4BkGGp6e"
      },
      "outputs": [],
      "source": [
        "def sum(x,y):\n",
        "    return x+y"
      ]
    },
    {
      "cell_type": "markdown",
      "metadata": {
        "id": "RPRmBqWVGp6e"
      },
      "source": [
        "Now when we run this function, instead of printing out a message, the value of the sum is calculated and passed back."
      ]
    },
    {
      "cell_type": "code",
      "execution_count": null,
      "metadata": {
        "id": "O7_Ng9w5Gp6e",
        "outputId": "10d3361c-f6c8-4479-896c-181f82a2af46",
        "colab": {
          "base_uri": "https://localhost:8080/"
        }
      },
      "outputs": [
        {
          "output_type": "execute_result",
          "data": {
            "text/plain": [
              "9"
            ]
          },
          "metadata": {},
          "execution_count": 2
        }
      ],
      "source": [
        "sum(4,5)"
      ]
    },
    {
      "cell_type": "markdown",
      "metadata": {
        "id": "hRK3-pmaGp6e"
      },
      "source": [
        "This allows you to continue to do additional processing.  For example, we can add two numbers and then compute the square root of them:"
      ]
    },
    {
      "cell_type": "code",
      "execution_count": null,
      "metadata": {
        "id": "TrpE443cGp6i",
        "outputId": "f0be654c-79b1-4548-9435-5a694b44f695",
        "colab": {
          "base_uri": "https://localhost:8080/"
        }
      },
      "outputs": [
        {
          "output_type": "execute_result",
          "data": {
            "text/plain": [
              "3.0"
            ]
          },
          "metadata": {},
          "execution_count": 3
        }
      ],
      "source": [
        "import math\n",
        "\n",
        "math.sqrt(sum(4,5))"
      ]
    },
    {
      "cell_type": "markdown",
      "metadata": {
        "id": "I-tf3_MfGp6j"
      },
      "source": [
        "You can return multiple values from a function if you want.  For example, we could create a function call `arithmetic` that does a number of operations to x and y and returns them all:"
      ]
    },
    {
      "cell_type": "code",
      "execution_count": null,
      "metadata": {
        "id": "WQuRGjLUGp6j"
      },
      "outputs": [],
      "source": [
        "def arithmetic(x,y):\n",
        "    _sum = x+y\n",
        "    _diff = x-y\n",
        "    _prod = x*y\n",
        "    _div = x/y\n",
        "    return _sum, _diff, _prod, _div"
      ]
    },
    {
      "cell_type": "markdown",
      "metadata": {
        "id": "P0ro5rjfGp6j"
      },
      "source": [
        "This new function gives back a `tuple` (similar to a list) that contains all four of the results in one step."
      ]
    },
    {
      "cell_type": "code",
      "execution_count": null,
      "metadata": {
        "id": "n63wjDFeGp6j",
        "outputId": "3e55213b-eb4f-4899-9710-9721747b66ce"
      },
      "outputs": [
        {
          "data": {
            "text/plain": [
              "(10, 4, 21, 2.3333333333333335)"
            ]
          },
          "execution_count": 73,
          "metadata": {},
          "output_type": "execute_result"
        }
      ],
      "source": [
        "arithmetic(7,3)"
      ]
    },
    {
      "cell_type": "markdown",
      "metadata": {
        "id": "8EMcLk5sGp6j"
      },
      "source": [
        "## Importing additional functionality"
      ]
    },
    {
      "cell_type": "markdown",
      "metadata": {
        "id": "nbn18WWYGp6j"
      },
      "source": [
        "One of the best features of Python, and one reason contributing to its popularity is the large number of add on packages.  For example, there are packages for data analysis (`pandas`), plotting (`matplotlib` or `seaborn`), etc...  These packages are not all loaded automatically.  Instead at the start of your notebook or program, you often need to **import** this functionality.  There are a couple of ways to import packages.  Generally you need to know the name of the package and details about what functions or methods it provides.  Most packages have tons of great documentation.  For example, `pandas` a library we will use a lot in class has extensive documentation on the [pydata website](https://pandas.pydata.org/pandas-docs/stable/)."
      ]
    },
    {
      "cell_type": "markdown",
      "metadata": {
        "id": "SZiLG3EoGp6j"
      },
      "source": [
        "Basic importing is accomplished with the `import` command.  For example, to import the back math functions in Python just type:"
      ]
    },
    {
      "cell_type": "code",
      "execution_count": null,
      "metadata": {
        "id": "myvxWaayGp6j"
      },
      "outputs": [],
      "source": [
        "import math"
      ]
    },
    {
      "cell_type": "markdown",
      "metadata": {
        "id": "kDCvlnBAGp6k"
      },
      "source": [
        "Now we can access the methods provided by the math function using the `.` (dot) operator.  Any function that the `math` library provides is accessible to us now using `math.<function>`.  For example, to compute the cosine of a number:"
      ]
    },
    {
      "cell_type": "code",
      "execution_count": null,
      "metadata": {
        "id": "D88K1GveGp6k",
        "outputId": "0316d435-c035-41e9-e2ef-7cc089d4d604"
      },
      "outputs": [
        {
          "data": {
            "text/plain": [
              "0.5403023058681398"
            ]
          },
          "execution_count": 75,
          "metadata": {},
          "output_type": "execute_result"
        }
      ],
      "source": [
        "math.cos(1)"
      ]
    },
    {
      "cell_type": "markdown",
      "metadata": {
        "id": "Gl7vscwEGp6k"
      },
      "source": [
        "Sometimes we want to import a library but rename it so that it is easier to type.  For instance we will use the pandas library a lot in class.  If we type `import pandas` that will load the library but that means everytime we use a pandas function it will need to begin with the `pandas.<something>` syntax.  This can be a lot of typing.  As a result many popular packages are imported using the `import <package> as <shortname>` syntax.  This imports the library but immediately changes its name, usually to something simpler and shorter for easy typing.  For example it is traditional to import pandas and rename it `pd`.  Thus to import pandas this way, we would type this at the top of our notebook or script:"
      ]
    },
    {
      "cell_type": "code",
      "execution_count": null,
      "metadata": {
        "id": "Y5hq5J66Gp6k"
      },
      "outputs": [],
      "source": [
        "import pandas as pd"
      ]
    },
    {
      "cell_type": "markdown",
      "metadata": {
        "id": "yyarS4FxGp6k"
      },
      "source": [
        "Now we have access to the pandas function using `pd.<something>`.  For example, we can create a new pandas *dataframe* like this:"
      ]
    },
    {
      "cell_type": "code",
      "execution_count": null,
      "metadata": {
        "id": "YcXpaQUwGp6k",
        "outputId": "7b582627-347e-4bfe-fdab-54ca83378928"
      },
      "outputs": [
        {
          "data": {
            "text/html": [
              "<div>\n",
              "<style scoped>\n",
              "    .dataframe tbody tr th:only-of-type {\n",
              "        vertical-align: middle;\n",
              "    }\n",
              "\n",
              "    .dataframe tbody tr th {\n",
              "        vertical-align: top;\n",
              "    }\n",
              "\n",
              "    .dataframe thead th {\n",
              "        text-align: right;\n",
              "    }\n",
              "</style>\n",
              "<table border=\"1\" class=\"dataframe\">\n",
              "  <thead>\n",
              "    <tr style=\"text-align: right;\">\n",
              "      <th></th>\n",
              "      <th>student</th>\n",
              "      <th>grades</th>\n",
              "    </tr>\n",
              "  </thead>\n",
              "  <tbody>\n",
              "    <tr>\n",
              "      <th>0</th>\n",
              "      <td>1</td>\n",
              "      <td>0.95</td>\n",
              "    </tr>\n",
              "    <tr>\n",
              "      <th>1</th>\n",
              "      <td>2</td>\n",
              "      <td>0.27</td>\n",
              "    </tr>\n",
              "    <tr>\n",
              "      <th>2</th>\n",
              "      <td>3</td>\n",
              "      <td>0.45</td>\n",
              "    </tr>\n",
              "    <tr>\n",
              "      <th>3</th>\n",
              "      <td>4</td>\n",
              "      <td>0.80</td>\n",
              "    </tr>\n",
              "  </tbody>\n",
              "</table>\n",
              "</div>"
            ],
            "text/plain": [
              "   student  grades\n",
              "0        1    0.95\n",
              "1        2    0.27\n",
              "2        3    0.45\n",
              "3        4    0.80"
            ]
          },
          "execution_count": 77,
          "metadata": {},
          "output_type": "execute_result"
        }
      ],
      "source": [
        "import pandas as pd\n",
        "df=pd.DataFrame({'student': [1,2,3,4], 'grades':[0.95, 0.27, 0.45, 0.8] })\n",
        "df"
      ]
    },
    {
      "cell_type": "markdown",
      "metadata": {
        "id": "gdsaASNcGp6k"
      },
      "source": [
        "It was a lot shorter to import pandas as `pd` and then call the `pd.DataFrame()` command than to type out `pandas.DataFrame()`."
      ]
    },
    {
      "cell_type": "markdown",
      "metadata": {
        "id": "qcUw5ezVGp6k"
      },
      "source": [
        "If you know there is a particular function you want to grab from a library, you can import only that function.  For example, we could import the `cos()` function from the math library like this:"
      ]
    },
    {
      "cell_type": "code",
      "execution_count": null,
      "metadata": {
        "id": "uGbFucU7Gp6k"
      },
      "outputs": [],
      "source": [
        "from math import cos"
      ]
    },
    {
      "cell_type": "markdown",
      "metadata": {
        "id": "W0mezIdoGp6k"
      },
      "source": [
        "This is generally useful if there is a really large and complex library and you only need part of it for your work."
      ]
    },
    {
      "cell_type": "markdown",
      "metadata": {
        "id": "0eMRjtUTGp6k"
      },
      "source": [
        "Python libraries can really extend your computing and data options.  For example, one cool library is the `wikipedia` library which provides an interface to the Wikipedia site."
      ]
    },
    {
      "cell_type": "code",
      "execution_count": null,
      "metadata": {
        "id": "IVM38uQjGp6k",
        "outputId": "632c9a5f-7950-408e-b5b1-c6a125e928ab"
      },
      "outputs": [
        {
          "data": {
            "text/plain": [
              "['Carbon dioxide',\n",
              " 'Carbon dioxide scrubber',\n",
              " 'List of countries by carbon dioxide emissions',\n",
              " 'Carbon capture and storage',\n",
              " \"Carbon dioxide in Earth's atmosphere\",\n",
              " 'Carbon dioxide equivalent',\n",
              " 'Carbon dioxide removal',\n",
              " 'Hypercapnia',\n",
              " 'Carbon sequestration',\n",
              " 'Carbon dioxide laser']"
            ]
          },
          "execution_count": 1,
          "metadata": {},
          "output_type": "execute_result"
        }
      ],
      "source": [
        "import wikipedia as wk\n",
        "wk.search(\"Carbon Dioxide\")"
      ]
    },
    {
      "cell_type": "markdown",
      "metadata": {
        "id": "J5i4H5PwGp6l"
      },
      "source": [
        "The `search()` command in the wikipedia will search all wikipedia packages that match a particular search string.  Here it brings up all pages relevant to the phrase \"Carbon Dioxide\"."
      ]
    },
    {
      "cell_type": "markdown",
      "metadata": {
        "id": "WEdVUG-eGp6l"
      },
      "source": [
        "## Dealing with error messages"
      ]
    },
    {
      "cell_type": "markdown",
      "metadata": {
        "id": "AdADSKrFGp6l"
      },
      "source": [
        "Often times you will run into error messages when using Python.  This is totally fine!  It is not a big deal and comes up all the time.  In fact if you don't make errors sometimes then you are probably not learning enough."
      ]
    },
    {
      "cell_type": "markdown",
      "metadata": {
        "id": "9KLrLM00Gp6l"
      },
      "source": [
        "Most errors in python generate what is known as an \"exception\" where the code doesn't necessarily \"crash\" but a warning is issued.  For example, if we have too many parentheses (each parentheses you open must be closed by the same type of character) you will get a `SyntaxError`:"
      ]
    },
    {
      "cell_type": "code",
      "execution_count": null,
      "metadata": {
        "id": "RP5MwkgRGp6l",
        "outputId": "1b23f2e7-b72c-47a9-95d0-1c0229d077cb",
        "colab": {
          "base_uri": "https://localhost:8080/",
          "height": 176
        }
      },
      "outputs": [
        {
          "output_type": "error",
          "ename": "ZeroDivisionError",
          "evalue": "division by zero",
          "traceback": [
            "\u001b[0;31m---------------------------------------------------------------------------\u001b[0m",
            "\u001b[0;31mZeroDivisionError\u001b[0m                         Traceback (most recent call last)",
            "\u001b[0;32m<ipython-input-13-cfb2263a473d>\u001b[0m in \u001b[0;36m<cell line: 1>\u001b[0;34m()\u001b[0m\n\u001b[0;32m----> 1\u001b[0;31m \u001b[0mprint\u001b[0m\u001b[0;34m(\u001b[0m\u001b[0;34m(\u001b[0m\u001b[0;36m0\u001b[0m\u001b[0;34m/\u001b[0m\u001b[0;36m0\u001b[0m\u001b[0;34m)\u001b[0m\u001b[0;34m)\u001b[0m\u001b[0;34m\u001b[0m\u001b[0;34m\u001b[0m\u001b[0m\n\u001b[0m",
            "\u001b[0;31mZeroDivisionError\u001b[0m: division by zero"
          ]
        }
      ],
      "source": [
        "print((0/0))"
      ]
    },
    {
      "cell_type": "markdown",
      "metadata": {
        "id": "QqPkmVqdGp6l"
      },
      "source": [
        "There are a couple of things to notice about this error.  First is that it does give you some indication of what happened (for examples it say \"invalid syntax\" which means the code doesn't look right to python and so it can't understand it).  It also shows you where the first error occured (here on line 1 of the cell, and it even indicates which character in that line might be the problem.)  From this message you could easily fix you code simply by removing the extra parantheses at the end."
      ]
    },
    {
      "cell_type": "code",
      "execution_count": null,
      "metadata": {
        "id": "5oyRtP7vGp6l",
        "outputId": "c3a05a3e-a241-4817-b244-d82c07fe8165"
      },
      "outputs": [
        {
          "ename": "ZeroDivisionError",
          "evalue": "division by zero",
          "output_type": "error",
          "traceback": [
            "\u001b[0;31m---------------------------------------------------------------------------\u001b[0m",
            "\u001b[0;31mZeroDivisionError\u001b[0m                         Traceback (most recent call last)",
            "\u001b[0;32m<ipython-input-4-1babb3b33639>\u001b[0m in \u001b[0;36m<module>\u001b[0;34m()\u001b[0m\n\u001b[0;32m----> 1\u001b[0;31m \u001b[0mprint\u001b[0m\u001b[0;34m(\u001b[0m\u001b[0;36m0\u001b[0m\u001b[0;34m/\u001b[0m\u001b[0;36m0\u001b[0m\u001b[0;34m)\u001b[0m\u001b[0;34m\u001b[0m\u001b[0;34m\u001b[0m\u001b[0m\n\u001b[0m",
            "\u001b[0;31mZeroDivisionError\u001b[0m: division by zero"
          ]
        }
      ],
      "source": [
        "print(0/0)"
      ]
    },
    {
      "cell_type": "markdown",
      "metadata": {
        "id": "khl3zfe8Gp6l"
      },
      "source": [
        "Ooops but this gives a different error!  Not we are getting and error because we are attempting to divide by zero.  Again, the messages if you read them kind of give some helpful infomation."
      ]
    },
    {
      "cell_type": "markdown",
      "metadata": {
        "id": "CIUCaUpKGp6l"
      },
      "source": [
        "In most cases you can simply fix the code in your cell, try to re-run it and keep going until you get it right.  However, one problem can come up in that errors compound on one another.  For example, your error might have accidently renamed a variable or introduced a variable you don't want.  In that case it can be helpful to choose Kernel->Restart Kernel from the file menu.  This effectively \"restarts\" the computing engine that you are working with and reset it to a fresh session.  You will need to re-run all the cells prior to your error in that case but this is easy.  There is even a shortcut on the \"Cell\" menu called \"run all cells above\" that will let you rerun everything prior to the current selected cell.  This can be a great way to restart and get back to where you were working originally."
      ]
    },
    {
      "cell_type": "markdown",
      "source": [
        "# First Steps Towards Programming\n",
        "\n",
        "Python, being used by professional programmers and scientists, among others, is capable of far more complicated tasks than adding numbers, playing with strings, and manipulating lists. For instance, we can write an initial sub-sequence of the Fibonacci series as follows:"
      ],
      "metadata": {
        "id": "3tHByr8EJu1l"
      }
    },
    {
      "cell_type": "code",
      "source": [
        "# Fibonacci series:\n",
        "# the sum of two elements defines the next.\n",
        "a, b = 0, 1\n",
        "\n",
        "while b < 10:\n",
        "    print(b)\n",
        "    #a=b\n",
        "    #b=a+b\n",
        "    a, b = b, a+b"
      ],
      "metadata": {
        "id": "txUHVUH2Jtyt",
        "colab": {
          "base_uri": "https://localhost:8080/"
        },
        "outputId": "3c97d91a-e356-4849-e92e-a6944a4ea7c7"
      },
      "execution_count": null,
      "outputs": [
        {
          "output_type": "stream",
          "name": "stdout",
          "text": [
            "1\n",
            "1\n",
            "2\n",
            "3\n",
            "5\n",
            "8\n"
          ]
        }
      ]
    },
    {
      "cell_type": "markdown",
      "source": [
        "This example introduces several new features of the Python language:\n",
        "\n",
        "- The first line contains a *multiple assignment*: the variables `a` and `b` simultaneously get the new values 0 and 1. On the last line this assignment is used again, demonstrating that the expressions on the right-hand side are all evaluated first before any of the assignments take place. The right-hand side expressions are evaluated from the left to the right.\n",
        "\n",
        "- The [`while`](https://docs.python.org/3.5/reference/compound_stmts.html#while) loop executes as long as the condition (here: `b < 10`) remains true. In Python, as in C, any non-zero integer value is true; zero is false. The condition may also be a string or list value, in fact any sequence; anything with a non-zero length is true, empty sequences are false. The test used in the example is a simple comparison. The standard comparison operators are written the same as in C: `<` (less than), `>` (greater than), `==` (equal to), `<=` (less than or equal to), `>=` (greater than or equal to) and `!=` (not equal to).\n",
        "\n",
        "- Every line in the *body* of the loop is indented: indentation is Python's way of grouping statements. At the interactive prompt, you have to type a tab or space(s) for each indented line. In practice, you typically write Python code in an editor, including a Jupyter notebook, that provides automatic indentation.\n",
        "\n",
        "- The [`print()`](https://docs.python.org/3.5/library/functions.html#print) function writes the value of the argument(s) its given. `print` differs from just writing the expression you want to write (as we did earlier in the calculator examples) in the way it handles multiple arguments, floating point quantities, and strings. Strings are printed without quotes, and a space is inserted between items, so you can easily format your output nicely. For example:"
      ],
      "metadata": {
        "id": "Xm0qi5y9J5AE"
      }
    },
    {
      "cell_type": "markdown",
      "metadata": {
        "id": "7KnfWCo-Gp6l"
      },
      "source": [
        "## Wrapping up"
      ]
    },
    {
      "cell_type": "markdown",
      "metadata": {
        "id": "J5zapQQeGp6l"
      },
      "source": [
        "This chapter has tried to give you a general overview of Python programming and many of the language features you will encounter again and again in this course.  It is not all there is to learn about Python and once you get started, you can learn for years if you like.  There are many excellent online resources for adding to your Python knowledge including youtube videos, free online tutorials, and even online classes.  Thus, use this as a starting place for learning more about the language.  However, if you are able to master the above concepts, then you shouldn't have too much difficulty with this course."
      ]
    },
    {
      "cell_type": "markdown",
      "metadata": {
        "id": "Ue_BWYbtGp6l"
      },
      "source": [
        "## Further Reading and Resources"
      ]
    },
    {
      "cell_type": "markdown",
      "metadata": {
        "id": "EvEJYK_kGp6m"
      },
      "source": [
        "This is a collection of useful python resources including videos and online tutorials.  This can help student how have less familiarity with programming in general or with python specifically.\n",
        "\n",
        "- A nice, free textbook <a href=\"https://www.digitalocean.com/community/tutorials/digitalocean-ebook-how-to-code-in-python?refcode=4d2af78748bd&utm_source=ebook&utm_medium=ebook&utm_campaign=pythonebook\">\"How to Code in Python\"</a> by Lisa Tagliaferri\n",
        "- CodeAcademy has a variety of courses on data analysis with Python.  There is a free tutorial on Python 2.0.  Although this class uses Python 3.0 and there are minor difference, a beginning programmer who didn't want to pay for the code academy content might benefit from these tutorials on basic python syntax: [Python 2.0 tutorial](https://www.codecademy.com/learn/learn-python)\n",
        "- Microsoft has an [Introduction to Python](https://docs.microsoft.com/en-us/learn/modules/intro-to-python/?WT.mc_id=python-c9-niner) video series.  Each video is about 10 minutes long and introduces very basic python features.\n",
        "- A nice multi-part tutorial on [Data Visualization with Python and Seaborn](https://medium.com/@neuralnets/statistical-data-visualization-series-with-python-and-seaborn-for-data-science-5a73b128851d) that gets into many more details about Seaborn than we have time to cover in class.\n",
        "- A six hour (free) video course on <a href=\"https://www.youtube.com/watch?v=_uQrJ0TkZlc\">basic Python programming</a> on youtube"
      ]
    },
    {
      "cell_type": "markdown",
      "source": [
        "## Learn more\n",
        "\n",
        "Strings:\n",
        "\n",
        "- [Text Sequence Type - str](https://docs.python.org/3.5/library/stdtypes.html#textseq): Strings are examples of *sequence types*, and support the common operations supported by such types.\n",
        "- [String Methods](https://docs.python.org/3.5/library/stdtypes.html#string-methods): Strings support a large number of methods for basic transformations and searching.\n",
        "- [Format String Syntax](https://docs.python.org/3.5/library/string.html#formatstrings): Information about string formatting with [`str.format()`](https://docs.python.org/3.5/library/string.html#formatstrings).\n",
        "- [`printf`-style String Formatting](https://docs.python.org/3.5/library/stdtypes.html#old-string-formatting): The old formatting operations invoked when strings and Unicode strings are the left operand of the `%` operator.\n",
        "\n",
        "Continue the tutorial on python.org (try pasting the code into a notebook!):\n",
        "\n",
        "- [More Control Flow Tools](https://docs.python.org/3.6/tutorial/controlflow.html)\n",
        "- [Data Structures](Data Structures)\n",
        "- [Modules](https://docs.python.org/3.6/tutorial/modules.html)\n",
        "- [Input and Output](https://docs.python.org/3.6/tutorial/inputoutput.html)"
      ],
      "metadata": {
        "id": "95XZdYGkKEok"
      }
    },
    {
      "cell_type": "markdown",
      "source": [
        "# Any feedback?"
      ],
      "metadata": {
        "id": "QNPTJ3HtQ9I1"
      }
    },
    {
      "cell_type": "code",
      "execution_count": null,
      "metadata": {
        "id": "vVeRK0MXGp6m"
      },
      "outputs": [],
      "source": []
    }
  ],
  "metadata": {
    "celltoolbar": "Tags",
    "kernel_info": {
      "name": "python3"
    },
    "kernelspec": {
      "display_name": "Python 3",
      "language": "python",
      "name": "python3"
    },
    "language_info": {
      "codemirror_mode": {
        "name": "ipython",
        "version": 3
      },
      "file_extension": ".py",
      "mimetype": "text/x-python",
      "name": "python",
      "nbconvert_exporter": "python",
      "pygments_lexer": "ipython3",
      "version": "3.7.3"
    },
    "nteract": {
      "version": "0.15.0"
    },
    "toc": {
      "base_numbering": 1,
      "nav_menu": {},
      "number_sections": true,
      "sideBar": true,
      "skip_h1_title": false,
      "title_cell": "Table of Contents",
      "title_sidebar": "Contents",
      "toc_cell": false,
      "toc_position": {
        "height": "calc(100% - 180px)",
        "left": "10px",
        "top": "150px",
        "width": "261.59375px"
      },
      "toc_section_display": true,
      "toc_window_display": false
    },
    "colab": {
      "provenance": [],
      "toc_visible": true
    }
  },
  "nbformat": 4,
  "nbformat_minor": 0
}
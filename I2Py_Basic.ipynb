{
  "cells": [
    {
      "cell_type": "markdown",
      "source": [
        "#An informal introduction to Python\n",
        "\n",
        "\n",
        "\n",
        "Python is a popular programming language that is reliable, flexible, easy to learn, free to use on all operating systems, and supported by both a strong developer community and many free libraries. Python supports all manners of development, including web applications, web services, desktop apps, scripting, data science, scientific computing, and Jupyter notebooks. Python is a language used by many universities, scientists, casual developers, and professional developers alike.\n",
        "\n",
        "<div style=\"text-align: center\"><img src=\"https://www.python.org/static/img/python-logo.png\"></div>\n",
        "\n",
        "You can learn more about the language on [python.org](https://www.python.org/) and [Python for Beginners](https://www.python.org/about/gettingstarted/).\n",
        "\n",
        "This walkthrough is a Jupyter notebook version of the [python.org introductory tutorial](https://docs.python.org/3.5/tutorial/introduction.html), with some edits and amendments. Because all the code is inside code cells, you can just run each code cell inline rather than using a separate Python interactive window.\n",
        "\n",
        "This introduction is written for Python 3.6.7 but is generally applicable to other Python 3.x versions.\n",
        "\n",
        "The original material is Copyright (c) 2001-2018 Python Software Foundation.\n",
        "\n",
        "> **Note**: This notebook is designed to have you run code cells one by one, and several code cells contain deliberate errors for demonstration purposes. As a result, if you use the **Cell** > **Run All** command, some code cells past the error won't be run. To resume running the code in each case, use **Cell** > **Run All Below** from the cell after the error."
      ],
      "metadata": {
        "id": "S_BA8krO5fwu"
      }
    },
    {
      "cell_type": "markdown",
      "source": [
        "[Python Compilation process](https://media.geeksforgeeks.org/wp-content/uploads/20230809115142/Internal-working-of-Python-(1).gif)"
      ],
      "metadata": {
        "id": "DfAIDzDwDTRO"
      }
    },
    {
      "cell_type": "markdown",
      "source": [
        "## Comments\n",
        "\n",
        "Many of the examples in this notebook include comments. Comments in Python start with the hash character, `#`, and extend to the end of the physical line. A comment may appear at the start of a line or following whitespace or code, but not within a string literal. A hash character within a string literal is just a hash character. Since comments are to clarify code and are not interpreted by Python, they may be omitted when typing in examples.\n",
        "\n",
        "Some examples:"
      ],
      "metadata": {
        "id": "YDNLNZmtnpzX"
      }
    },
    {
      "cell_type": "code",
      "source": [
        "# this is the first comment\n",
        "spam = 1  # and this is the second comment\n",
        "          # ... and now a third!\n",
        "text = \"# This is not a comment because it's inside quotes.\"\n",
        "print(text)"
      ],
      "outputs": [
        {
          "output_type": "stream",
          "name": "stdout",
          "text": [
            "# This is not a comment because it's inside quotes.\n"
          ]
        }
      ],
      "execution_count": null,
      "metadata": {
        "id": "iEcwJJnInpzY",
        "outputId": "1e5974a8-9785-49e6-9168-60efee19067c"
      }
    },
    {
      "cell_type": "markdown",
      "source": [
        "## Explore basic data types\n",
        "\n",
        "Let's try some simple Python commands to explore numbers, strings, and lists."
      ],
      "metadata": {
        "id": "T5ZLXEBInpzZ"
      }
    },
    {
      "cell_type": "markdown",
      "source": [
        "### Numbers\n",
        "\n",
        "The Python interpreter can act as a simple calculator: type an expression at it outputs the value.\n",
        "\n",
        "Expression syntax is straightforward: the operators `+`, `-`, `*` and `/` work just like in most other programming languages (such as Pascal or C); parentheses (`()`) can be used for grouping and order or precedence. For example:"
      ],
      "metadata": {
        "id": "uF3sLtAYnpzZ"
      }
    },
    {
      "cell_type": "code",
      "source": [
        "2 + 2"
      ],
      "outputs": [
        {
          "output_type": "execute_result",
          "execution_count": 2,
          "data": {
            "text/plain": [
              "4"
            ]
          },
          "metadata": {}
        }
      ],
      "execution_count": null,
      "metadata": {
        "id": "BSnL0rL2npzZ",
        "outputId": "33bf0a95-bd76-4be2-f56d-2b9f1b7d9da2"
      }
    },
    {
      "cell_type": "code",
      "source": [
        "50 - 5*6"
      ],
      "outputs": [
        {
          "output_type": "execute_result",
          "execution_count": 3,
          "data": {
            "text/plain": [
              "20"
            ]
          },
          "metadata": {}
        }
      ],
      "execution_count": null,
      "metadata": {
        "id": "cleHpoJ4npza",
        "outputId": "db5f193b-1781-441e-d07e-676cb3da82a6"
      }
    },
    {
      "cell_type": "code",
      "source": [
        "(50 - 5*6) / 4"
      ],
      "outputs": [
        {
          "output_type": "execute_result",
          "execution_count": 4,
          "data": {
            "text/plain": [
              "5.0"
            ]
          },
          "metadata": {}
        }
      ],
      "execution_count": null,
      "metadata": {
        "id": "Dlku5L_Mnpza",
        "outputId": "0cbef581-4aed-4b85-b845-8297b1c3cd6b"
      }
    },
    {
      "cell_type": "code",
      "source": [
        "8 / 5  # Division always returns a floating point number."
      ],
      "outputs": [
        {
          "output_type": "execute_result",
          "execution_count": 5,
          "data": {
            "text/plain": [
              "1.6"
            ]
          },
          "metadata": {}
        }
      ],
      "execution_count": null,
      "metadata": {
        "id": "pEusPBkNnpzb",
        "outputId": "861163d7-d7f0-45fd-a130-b44c43dada81"
      }
    },
    {
      "cell_type": "markdown",
      "source": [
        "The integer numbers (e.g. `2`, `4`, `20`) have type [`int`](https://docs.python.org/3.5/library/functions.html#int), the ones with a fractional part (e.g. `5.0`, `1.6`) have type [`float`](https://docs.python.org/3.5/library/functions.html#float). We'll see more about numeric types later in the tutorial.\n",
        "\n",
        "Division (`/`) always returns a float. To do [floor division](https://docs.python.org/3.5/glossary.html#term-floor-division) and get an integer result (discarding any fractional result) you can use the `//` operator; to calculate the remainder you can use `%`:"
      ],
      "metadata": {
        "id": "Q5s4Bdqrnpzb"
      }
    },
    {
      "cell_type": "code",
      "source": [
        "17 / 3  # Classic division returns a float."
      ],
      "outputs": [
        {
          "output_type": "execute_result",
          "execution_count": 6,
          "data": {
            "text/plain": [
              "5.666666666666667"
            ]
          },
          "metadata": {}
        }
      ],
      "execution_count": null,
      "metadata": {
        "id": "BkfOD_IYnpzb",
        "outputId": "bb98ddfe-2fbc-4740-fc52-c25b8d7742f0"
      }
    },
    {
      "cell_type": "code",
      "source": [
        "17 // 3  # Floor division discards the fractional part."
      ],
      "outputs": [
        {
          "output_type": "execute_result",
          "execution_count": 7,
          "data": {
            "text/plain": [
              "5"
            ]
          },
          "metadata": {}
        }
      ],
      "execution_count": null,
      "metadata": {
        "id": "j4ZF7ptMnpzc",
        "outputId": "89ab51d2-018a-4927-cd23-d6379b7203d5"
      }
    },
    {
      "cell_type": "code",
      "source": [
        "17 % 3  # The % operator returns the remainder of the division."
      ],
      "outputs": [
        {
          "output_type": "execute_result",
          "execution_count": 8,
          "data": {
            "text/plain": [
              "2"
            ]
          },
          "metadata": {}
        }
      ],
      "execution_count": null,
      "metadata": {
        "id": "HkDKMOc1npzc",
        "outputId": "15bd1067-d98b-4749-9cfb-1d8bda68a2f3"
      }
    },
    {
      "cell_type": "code",
      "source": [
        "5 * 3 + 2  # result * divisor + remainder"
      ],
      "outputs": [
        {
          "output_type": "execute_result",
          "execution_count": 9,
          "data": {
            "text/plain": [
              "17"
            ]
          },
          "metadata": {}
        }
      ],
      "execution_count": null,
      "metadata": {
        "id": "LMdalhcCnpzc",
        "outputId": "3037b29e-2df1-4679-e778-f5bcb01304c6"
      }
    },
    {
      "cell_type": "markdown",
      "source": [
        "Use the `**` operator to calculate powers:"
      ],
      "metadata": {
        "id": "nAc67RjPnpzc"
      }
    },
    {
      "cell_type": "code",
      "source": [
        "5 ** 2  # 5 squared"
      ],
      "outputs": [
        {
          "output_type": "execute_result",
          "execution_count": 10,
          "data": {
            "text/plain": [
              "25"
            ]
          },
          "metadata": {}
        }
      ],
      "execution_count": null,
      "metadata": {
        "id": "0kUj40dlnpzd",
        "outputId": "091fe1b3-f2c9-4ba9-be8d-7e4450e920e8"
      }
    },
    {
      "cell_type": "code",
      "source": [
        "2 ** 7  # 2 to the power of 7"
      ],
      "outputs": [
        {
          "output_type": "execute_result",
          "execution_count": 11,
          "data": {
            "text/plain": [
              "128"
            ]
          },
          "metadata": {}
        }
      ],
      "execution_count": null,
      "metadata": {
        "id": "rzkH_hM-npzd",
        "outputId": "e1515ec7-292c-48c9-f57f-ed5dae82a4fd"
      }
    },
    {
      "cell_type": "markdown",
      "source": [
        "`**` has higher precedence than `-`; if you want a negative base, use parentheses:"
      ],
      "metadata": {
        "id": "vCWyZr9Xnpzd"
      }
    },
    {
      "cell_type": "code",
      "source": [
        "-3**2  # Same as -(3**2)"
      ],
      "outputs": [
        {
          "output_type": "execute_result",
          "execution_count": 12,
          "data": {
            "text/plain": [
              "-9"
            ]
          },
          "metadata": {}
        }
      ],
      "execution_count": null,
      "metadata": {
        "id": "UM9Hk37Hnpzd",
        "outputId": "69a31448-982a-47e5-b61c-bd02dc6246a4"
      }
    },
    {
      "cell_type": "code",
      "source": [
        "(-3)**2"
      ],
      "outputs": [
        {
          "output_type": "execute_result",
          "execution_count": 13,
          "data": {
            "text/plain": [
              "9"
            ]
          },
          "metadata": {}
        }
      ],
      "execution_count": null,
      "metadata": {
        "id": "69Y7Rsxgnpzd",
        "outputId": "525116d9-c850-44c2-f377-e47d09b882fd"
      }
    },
    {
      "cell_type": "markdown",
      "source": [
        "The equal sign (`=`) assigns a value to a variable:"
      ],
      "metadata": {
        "id": "SAZVrzcZnpzd"
      }
    },
    {
      "cell_type": "code",
      "source": [
        "width = 20\n",
        "height = 5 * 90\n",
        "width * height"
      ],
      "outputs": [
        {
          "output_type": "execute_result",
          "execution_count": 14,
          "data": {
            "text/plain": [
              "9000"
            ]
          },
          "metadata": {}
        }
      ],
      "execution_count": null,
      "metadata": {
        "id": "ry4u-WSDnpzd",
        "outputId": "51ca0a50-1a3f-4db7-9758-4ed428622caa"
      }
    },
    {
      "cell_type": "markdown",
      "source": [
        "If a variable is not \"defined\" (assigned a value), using it produces an error:"
      ],
      "metadata": {
        "id": "eKKBt937npze"
      }
    },
    {
      "cell_type": "code",
      "source": [
        "n  # Try to access an undefined variable."
      ],
      "outputs": [
        {
          "output_type": "error",
          "ename": "NameError",
          "evalue": "name 'n' is not defined",
          "traceback": [
            "\u001b[0;31m---------------------------------------------------------------------------\u001b[0m",
            "\u001b[0;31mNameError\u001b[0m                                 Traceback (most recent call last)",
            "\u001b[0;32m<ipython-input-16-2d383632fd8e>\u001b[0m in \u001b[0;36m<module>\u001b[0;34m\u001b[0m\n\u001b[0;32m----> 1\u001b[0;31m \u001b[0mn\u001b[0m  \u001b[0;31m# Try to access an undefined variable.\u001b[0m\u001b[0;34m\u001b[0m\u001b[0m\n\u001b[0m",
            "\u001b[0;31mNameError\u001b[0m: name 'n' is not defined"
          ]
        }
      ],
      "execution_count": null,
      "metadata": {
        "id": "ptXZ2cafnpze",
        "outputId": "0af85103-e3a6-4abd-bcac-80a06d825abd"
      }
    },
    {
      "cell_type": "markdown",
      "source": [
        "Python provides full support for floating point numbers; operators with mixed type operands convert the integer operand to floating point:"
      ],
      "metadata": {
        "id": "c_E6OhULnpze"
      }
    },
    {
      "cell_type": "code",
      "source": [
        "3 * 3.75 / 1.5"
      ],
      "outputs": [
        {
          "output_type": "execute_result",
          "execution_count": 34,
          "data": {
            "text/plain": [
              "7.5"
            ]
          },
          "metadata": {}
        }
      ],
      "execution_count": null,
      "metadata": {
        "id": "KbsVCfIinpze",
        "outputId": "89c929cb-684e-40c2-a97e-de539b259e49"
      }
    },
    {
      "cell_type": "code",
      "source": [
        "7.0 / 2"
      ],
      "outputs": [
        {
          "output_type": "execute_result",
          "execution_count": 35,
          "data": {
            "text/plain": [
              "3.5"
            ]
          },
          "metadata": {}
        }
      ],
      "execution_count": null,
      "metadata": {
        "id": "3SVMSJf3npze",
        "outputId": "f43ba0ba-9122-46de-8701-4344681d1a52"
      }
    },
    {
      "cell_type": "markdown",
      "source": [
        "In interactive mode and in Jupyter notebooks, the last printed expression is assigned to the variable `_`. This means that when you're using Python as a desk calculator, its somewhat easier to continue calculations. For example:"
      ],
      "metadata": {
        "id": "GQRfpMs-npze"
      }
    },
    {
      "cell_type": "code",
      "source": [
        "tax = 12.5 / 100\n",
        "price = 100.50\n",
        "price * tax"
      ],
      "outputs": [
        {
          "output_type": "execute_result",
          "execution_count": 36,
          "data": {
            "text/plain": [
              "12.5625"
            ]
          },
          "metadata": {}
        }
      ],
      "execution_count": null,
      "metadata": {
        "id": "vUy9RohAnpze",
        "outputId": "45658e5f-d610-4b03-d252-0dac33457d3e"
      }
    },
    {
      "cell_type": "code",
      "source": [
        "price + _"
      ],
      "outputs": [
        {
          "output_type": "execute_result",
          "execution_count": 37,
          "data": {
            "text/plain": [
              "113.0625"
            ]
          },
          "metadata": {}
        }
      ],
      "execution_count": null,
      "metadata": {
        "id": "W-mhGMQFnpze",
        "outputId": "c406497d-c46c-440d-fab0-e7f9458f1f04"
      }
    },
    {
      "cell_type": "code",
      "source": [
        "round(_, 2)"
      ],
      "outputs": [
        {
          "output_type": "execute_result",
          "execution_count": 38,
          "data": {
            "text/plain": [
              "113.06"
            ]
          },
          "metadata": {}
        }
      ],
      "execution_count": null,
      "metadata": {
        "id": "98nH6ngLnpze",
        "outputId": "11e63f54-4b74-4a5c-8a8f-763fcbf72ea0"
      }
    },
    {
      "cell_type": "markdown",
      "source": [
        "Treat the `_` variable as read-only. Don't explicitly assign a value to it--doing so creates an independent local variable with the same name, thereby masking the built-in variable with its magic behavior.\n",
        "\n",
        "In addition to `int` and `float`, Python supports other types of numbers, such as [`Decimal`](https://docs.python.org/3.5/library/decimal.html#decimal.Decimal) and [`Fraction`](https://docs.python.org/3.5/library/fractions.html#fractions.Fraction). Python also has built-in support for [complex numbers](https://docs.python.org/3.5/library/stdtypes.html#typesnumeric), and uses the `j` or `J` suffix to indicate the imaginary part (e.g. `3+5j`)."
      ],
      "metadata": {
        "id": "AyyuPKkTnpzf"
      }
    },
    {
      "cell_type": "markdown",
      "source": [
        "### Strings"
      ],
      "metadata": {
        "id": "tUlD6WFfnpzf"
      }
    },
    {
      "cell_type": "markdown",
      "source": [
        "Besides numbers, Python can also manipulate strings. Strings can enclosed in single quotes (`'...'`) or double quotes (`\"...\"`) with the same result. Use `\\` to escape quotes, that is, to use a quote within the string itself:"
      ],
      "metadata": {
        "id": "PXHIzHainpzf"
      }
    },
    {
      "cell_type": "code",
      "source": [
        "'spam eggs'  # Single quotes."
      ],
      "outputs": [
        {
          "output_type": "execute_result",
          "execution_count": 39,
          "data": {
            "text/plain": [
              "'spam eggs'"
            ]
          },
          "metadata": {}
        }
      ],
      "execution_count": null,
      "metadata": {
        "id": "wNdJll6qnpzf",
        "outputId": "c1633cb5-80f3-4153-cc91-572d34e59c43"
      }
    },
    {
      "cell_type": "code",
      "source": [
        "'doesn\\'t'  # Use \\' to escape the single quote..."
      ],
      "outputs": [
        {
          "output_type": "execute_result",
          "execution_count": 40,
          "data": {
            "text/plain": [
              "\"doesn't\""
            ]
          },
          "metadata": {}
        }
      ],
      "execution_count": null,
      "metadata": {
        "id": "R5DHfschnpzf",
        "outputId": "ab58e72a-ec67-4f46-995f-279f2aee6f19"
      }
    },
    {
      "cell_type": "code",
      "source": [
        "\"doesn't\"  # ...or use double quotes instead."
      ],
      "outputs": [
        {
          "output_type": "execute_result",
          "execution_count": 18,
          "data": {
            "text/plain": [
              "\"doesn't\""
            ]
          },
          "metadata": {}
        }
      ],
      "execution_count": null,
      "metadata": {
        "id": "-1Qdek5nnpzf",
        "outputId": "969ea777-4085-4d47-979c-c7b5b5f257ff"
      }
    },
    {
      "cell_type": "code",
      "source": [
        "'\"Yes,\" he said.'"
      ],
      "outputs": [
        {
          "output_type": "execute_result",
          "execution_count": 19,
          "data": {
            "text/plain": [
              "'\"Yes,\" he said.'"
            ]
          },
          "metadata": {}
        }
      ],
      "execution_count": null,
      "metadata": {
        "id": "leCmkEVsnpzf",
        "outputId": "767679f0-81e5-4577-882e-5ce71eae3cce"
      }
    },
    {
      "cell_type": "code",
      "source": [
        "\"\\\"Yes,\\\" he said.\""
      ],
      "outputs": [
        {
          "output_type": "execute_result",
          "execution_count": 20,
          "data": {
            "text/plain": [
              "'\"Yes,\" he said.'"
            ]
          },
          "metadata": {}
        }
      ],
      "execution_count": null,
      "metadata": {
        "id": "kzEl43Amnpzg",
        "outputId": "6b9cc532-1a45-4640-9532-7e50cdd1da7d"
      }
    },
    {
      "cell_type": "code",
      "source": [
        "'\"Isn\\'t,\" she said.'"
      ],
      "outputs": [
        {
          "output_type": "execute_result",
          "execution_count": 21,
          "data": {
            "text/plain": [
              "'\"Isn\\'t,\" she said.'"
            ]
          },
          "metadata": {}
        }
      ],
      "execution_count": null,
      "metadata": {
        "id": "Ux7Gai3fnpzj",
        "outputId": "430d0469-725d-4615-e9b2-044f65c3bc32"
      }
    },
    {
      "cell_type": "markdown",
      "source": [
        "In the interactive interpreter and Jupyter notebooks, the output string is enclosed in quotes and special characters are escaped with backslashes. Although this output sometimes looks different from the input (the enclosing quotes could change), the two strings are equivalent. The string is enclosed in double quotes if the string contains a single quote and no double quotes, otherwise its enclosed in single quotes. The [`print()`](https://docs.python.org/3.6/library/functions.html#print) function produces a more readable output by omitting the enclosing quotes and by printing escaped and special characters:"
      ],
      "metadata": {
        "id": "4VfPzfqMnpzj"
      }
    },
    {
      "cell_type": "code",
      "source": [
        "'\"Isn\\'t,\" she said.'"
      ],
      "outputs": [
        {
          "output_type": "execute_result",
          "execution_count": 22,
          "data": {
            "text/plain": [
              "'\"Isn\\'t,\" she said.'"
            ]
          },
          "metadata": {}
        }
      ],
      "execution_count": null,
      "metadata": {
        "id": "qaea8U0Pnpzj",
        "outputId": "2e4b2078-3be3-4054-cff9-5e6042701175"
      }
    },
    {
      "cell_type": "code",
      "source": [
        "print('\"Isn\\'t,\" she said.')"
      ],
      "outputs": [
        {
          "output_type": "stream",
          "name": "stdout",
          "text": [
            "\"Isn't,\" she said.\n"
          ]
        }
      ],
      "execution_count": null,
      "metadata": {
        "id": "qUtd1RF8npzj",
        "outputId": "7dc6603a-ca7f-4244-ee94-15933936d731"
      }
    },
    {
      "cell_type": "code",
      "source": [
        "s = 'First line.\\nSecond line.'  # \\n means newline.\n",
        "s  # Without print(), \\n is included in the output."
      ],
      "outputs": [
        {
          "output_type": "execute_result",
          "execution_count": 24,
          "data": {
            "text/plain": [
              "'First line.\\nSecond line.'"
            ]
          },
          "metadata": {}
        }
      ],
      "execution_count": null,
      "metadata": {
        "id": "bsQrz8lznpzj",
        "outputId": "6a5ff026-fd86-4e63-8a63-f8bd635e1556"
      }
    },
    {
      "cell_type": "code",
      "source": [
        "print(s)  # With print(), \\n produces a new line."
      ],
      "outputs": [
        {
          "output_type": "stream",
          "name": "stdout",
          "text": [
            "First line.\n",
            "Second line.\n"
          ]
        }
      ],
      "execution_count": null,
      "metadata": {
        "id": "8OjyCdpNnpzj",
        "outputId": "fc6a5630-e273-4c9f-ad0e-cc6be6772c2b"
      }
    },
    {
      "cell_type": "markdown",
      "source": [
        "If you don't want escaped characters (prefaced by `\\`) to be interpreted as special characters, use *raw strings* by adding an `r` before the first quote:"
      ],
      "metadata": {
        "id": "To2H8dDPnpzj"
      }
    },
    {
      "cell_type": "code",
      "source": [
        "print('C:\\some\\name')  # Here \\n means newline!"
      ],
      "outputs": [
        {
          "output_type": "stream",
          "name": "stdout",
          "text": [
            "C:\\some\n",
            "ame\n"
          ]
        }
      ],
      "execution_count": null,
      "metadata": {
        "id": "ijKMK0Scnpzj",
        "outputId": "517a682c-191e-4ce7-8033-e16847bc6455"
      }
    },
    {
      "cell_type": "code",
      "source": [
        "print(r'C:\\some\\name')  # Note the r before the quote."
      ],
      "outputs": [
        {
          "output_type": "stream",
          "name": "stdout",
          "text": [
            "C:\\some\\name\n"
          ]
        }
      ],
      "execution_count": null,
      "metadata": {
        "id": "fa-_LFLmnpzk",
        "outputId": "b219bf02-d9e6-428b-bfae-ce79e2d22ba7"
      }
    },
    {
      "cell_type": "markdown",
      "source": [
        "String literals can span multiple lines and are delineated by triple-quotes: `\"\"\"...\"\"\"` or `'''...'''`. End of lines are automatically included in the string, but it's possible to prevent this by adding a `\\` at the end of the line. For example, without a `\\`, the following example includes an extra line at the beginning of the output:"
      ],
      "metadata": {
        "id": "J0VrW2kxnpzk"
      }
    },
    {
      "cell_type": "code",
      "source": [
        "print(\"\"\"\n",
        "Usage: thingy [OPTIONS]\n",
        "     -h                        Display this usage message\n",
        "     -H hostname               Hostname to connect to\n",
        "\"\"\")"
      ],
      "outputs": [
        {
          "output_type": "stream",
          "name": "stdout",
          "text": [
            "\n",
            "Usage: thingy [OPTIONS]\n",
            "     -h                        Display this usage message\n",
            "     -H hostname               Hostname to connect to\n",
            "\n"
          ]
        }
      ],
      "execution_count": null,
      "metadata": {
        "id": "TpyAcL84npzk",
        "outputId": "2f0f9518-1082-4749-cd6f-e7d2777cad5b"
      }
    },
    {
      "cell_type": "markdown",
      "source": [
        "Adding a `\\` removes that extra line:"
      ],
      "metadata": {
        "id": "0cGBzEQcnpzk"
      }
    },
    {
      "cell_type": "code",
      "source": [
        "print(\"\"\"\\\n",
        "Usage: thingy [OPTIONS]\n",
        "     -h                        Display this usage message\n",
        "     -H hostname               Hostname to connect to\n",
        "\"\"\")"
      ],
      "outputs": [
        {
          "output_type": "stream",
          "name": "stdout",
          "text": [
            "Usage: thingy [OPTIONS]\n",
            "     -h                        Display this usage message\n",
            "     -H hostname               Hostname to connect to\n",
            "\n"
          ]
        }
      ],
      "execution_count": null,
      "metadata": {
        "id": "JmsjTfqSnpzk",
        "outputId": "4670e24a-f480-4ed7-de73-8a12fd8270d7"
      }
    },
    {
      "cell_type": "markdown",
      "source": [
        "Because Python doesn't provide a means for creating multi-line comments, developers often just use triple quotes for this purpose. In a Jupyter notebook, however, such quotes define a string literal which appears as the output of a code cell:"
      ],
      "metadata": {
        "id": "yF9ZyXqYnpzk"
      }
    },
    {
      "cell_type": "code",
      "source": [
        "\"\"\"\n",
        "Everything between the first three quotes, including new lines,\n",
        "is part of the multi-line comment. Technically, the Python interpreter\n",
        "simply sees the comment as a string, and because it's not otherwise\n",
        "used in code, the string is ignored. Convenient, eh?\n",
        "\"\"\""
      ],
      "outputs": [
        {
          "output_type": "execute_result",
          "execution_count": 30,
          "data": {
            "text/plain": [
              "\"\\nEverything between the first three quotes, including new lines,\\nis part of the multi-line comment. Technically, the Python interpreter\\nsimply sees the comment as a string, and because it's not otherwise\\nused in code, the string is ignored. Convenient, eh?\\n\""
            ]
          },
          "metadata": {}
        }
      ],
      "execution_count": null,
      "metadata": {
        "id": "bXgX64Nhnpzk",
        "outputId": "9977872a-f562-4909-80cb-00ae499599de"
      }
    },
    {
      "cell_type": "markdown",
      "source": [
        "For this reason, it's best in notebooks to use the `#` comment character at the beginning of each line, or better still, just use a Markdown cell!"
      ],
      "metadata": {
        "id": "lOcDsrKMnpzl"
      }
    },
    {
      "cell_type": "markdown",
      "source": [
        "Strings can be *concatenated* (glued together) with the `+` operator, and repeated with `*`:"
      ],
      "metadata": {
        "id": "plUmFBJPnpzl"
      }
    },
    {
      "cell_type": "code",
      "source": [
        "# 3 times 'un', followed by 'ium'\n",
        "3 * 'un' + 'ium'"
      ],
      "outputs": [
        {
          "output_type": "execute_result",
          "execution_count": 31,
          "data": {
            "text/plain": [
              "'unununium'"
            ]
          },
          "metadata": {}
        }
      ],
      "execution_count": null,
      "metadata": {
        "id": "bZgm5T_unpzl",
        "outputId": "a9bb1625-63f4-41f4-ca95-bec2bf429fa6"
      }
    },
    {
      "cell_type": "markdown",
      "source": [
        "Two or more *string literals* (that is, the values enclosed in quotes) placed next to each other are automatically concatenated:"
      ],
      "metadata": {
        "id": "OL1kAp5Ynpzl"
      }
    },
    {
      "cell_type": "code",
      "source": [
        "'Py' 'thon'"
      ],
      "outputs": [
        {
          "output_type": "execute_result",
          "execution_count": 32,
          "data": {
            "text/plain": [
              "'Python'"
            ]
          },
          "metadata": {}
        }
      ],
      "execution_count": null,
      "metadata": {
        "id": "KDv-RLhynpzl",
        "outputId": "28b0062f-b68f-4e23-afed-002fdd6bb20a"
      }
    },
    {
      "cell_type": "markdown",
      "source": [
        "Automatic concatenation works only with two literals; it does not work with variables or expressions, so the following cell produces an error:"
      ],
      "metadata": {
        "id": "PzjgoW2onpzl"
      }
    },
    {
      "cell_type": "code",
      "source": [
        "prefix = 'Py'\n",
        "prefix 'thon'  # Can't concatenate a variable and a string literal."
      ],
      "outputs": [
        {
          "output_type": "error",
          "ename": "SyntaxError",
          "evalue": "invalid syntax (<ipython-input-33-00ad70cd97bc>, line 2)",
          "traceback": [
            "\u001b[0;36m  File \u001b[0;32m\"<ipython-input-33-00ad70cd97bc>\"\u001b[0;36m, line \u001b[0;32m2\u001b[0m\n\u001b[0;31m    prefix 'thon'  # Can't concatenate a variable and a string literal.\u001b[0m\n\u001b[0m                ^\u001b[0m\n\u001b[0;31mSyntaxError\u001b[0m\u001b[0;31m:\u001b[0m invalid syntax\n"
          ]
        }
      ],
      "execution_count": null,
      "metadata": {
        "id": "TLlVmGFVnpzl",
        "outputId": "c7949017-be74-48ee-e5c4-bcd9417d2cc2"
      }
    },
    {
      "cell_type": "markdown",
      "source": [
        "The following cell likewise produces an error:"
      ],
      "metadata": {
        "id": "TgrCXTEdnpzl"
      }
    },
    {
      "cell_type": "code",
      "source": [
        "('un' * 3) 'ium'"
      ],
      "outputs": [
        {
          "output_type": "error",
          "ename": "SyntaxError",
          "evalue": "invalid syntax (<ipython-input-41-f4764cbe42a8>, line 1)",
          "traceback": [
            "\u001b[0;36m  File \u001b[0;32m\"<ipython-input-41-f4764cbe42a8>\"\u001b[0;36m, line \u001b[0;32m1\u001b[0m\n\u001b[0;31m    ('un' * 3) 'ium'\u001b[0m\n\u001b[0m                   ^\u001b[0m\n\u001b[0;31mSyntaxError\u001b[0m\u001b[0;31m:\u001b[0m invalid syntax\n"
          ]
        }
      ],
      "execution_count": null,
      "metadata": {
        "id": "JW5Dsu62npzm",
        "outputId": "5cc6a9e4-1cc2-4d1d-fd65-cea5a536cbaa"
      }
    },
    {
      "cell_type": "markdown",
      "source": [
        "To concatenate variables, or a variable and a literal, use `+`:"
      ],
      "metadata": {
        "id": "gv1eS-iFnpzm"
      }
    },
    {
      "cell_type": "code",
      "source": [
        "prefix = 'Py'\n",
        "prefix + 'thon'"
      ],
      "outputs": [
        {
          "output_type": "execute_result",
          "execution_count": 43,
          "data": {
            "text/plain": [
              "'Python'"
            ]
          },
          "metadata": {}
        }
      ],
      "execution_count": null,
      "metadata": {
        "id": "DgreGhNHnpzm",
        "outputId": "0ec7c771-4dad-461a-f122-c4fe4a702b57"
      }
    },
    {
      "cell_type": "markdown",
      "source": [
        "Automatic concatenation is particularly useful when you want to break up long strings:"
      ],
      "metadata": {
        "id": "qTHeU0bMnpzm"
      }
    },
    {
      "cell_type": "code",
      "source": [
        "text = ('Put several strings within parentheses '\n",
        "            'to have them joined together.')\n",
        "text"
      ],
      "outputs": [
        {
          "output_type": "execute_result",
          "execution_count": 44,
          "data": {
            "text/plain": [
              "'Put several strings within parentheses to have them joined together.'"
            ]
          },
          "metadata": {}
        }
      ],
      "execution_count": null,
      "metadata": {
        "id": "QVvhHf6Pnpzm",
        "outputId": "fa9b1a69-6b61-4add-9aab-019afd797be2"
      }
    },
    {
      "cell_type": "markdown",
      "source": [
        "Strings can be *indexed* (subscripted), with the first character having index 0. There is no separate character type; a character is simply a string of size one:"
      ],
      "metadata": {
        "id": "o4GJPouenpzm"
      }
    },
    {
      "cell_type": "code",
      "source": [
        "word = 'Python'\n",
        "word[0]  # Character in position 0."
      ],
      "outputs": [
        {
          "output_type": "execute_result",
          "execution_count": 45,
          "data": {
            "text/plain": [
              "'P'"
            ]
          },
          "metadata": {}
        }
      ],
      "execution_count": null,
      "metadata": {
        "id": "fzFe0I1snpzm",
        "outputId": "6ab8f743-5e88-4710-c161-a77ee7ba0056"
      }
    },
    {
      "cell_type": "code",
      "source": [
        "word[5]  # Character in position 5."
      ],
      "outputs": [
        {
          "output_type": "execute_result",
          "execution_count": 46,
          "data": {
            "text/plain": [
              "'n'"
            ]
          },
          "metadata": {}
        }
      ],
      "execution_count": null,
      "metadata": {
        "id": "G8agqXjonpzn",
        "outputId": "32b8411f-e277-4010-9a02-9571035212ef"
      }
    },
    {
      "cell_type": "markdown",
      "source": [
        "Indices may also be negative numbers, which means to start counting from the end of the string. Note that because -0 is the same as 0, negative indices start from -1:"
      ],
      "metadata": {
        "id": "1dU6j3cenpzn"
      }
    },
    {
      "cell_type": "code",
      "source": [
        "word[-1]  # Last character."
      ],
      "outputs": [
        {
          "output_type": "execute_result",
          "execution_count": 47,
          "data": {
            "text/plain": [
              "'n'"
            ]
          },
          "metadata": {}
        }
      ],
      "execution_count": null,
      "metadata": {
        "id": "dYLjnIRSnpzn",
        "outputId": "b585c791-ecaa-4e18-ae17-d0f16c1072bb"
      }
    },
    {
      "cell_type": "code",
      "source": [
        "word[-2]  # Second-last character."
      ],
      "outputs": [
        {
          "output_type": "execute_result",
          "execution_count": 48,
          "data": {
            "text/plain": [
              "'o'"
            ]
          },
          "metadata": {}
        }
      ],
      "execution_count": null,
      "metadata": {
        "id": "_QNWsRQ2npzn",
        "outputId": "b73cfee1-d7b9-4260-cf3b-3429fe3afff1"
      }
    },
    {
      "cell_type": "code",
      "source": [
        "word[-6]"
      ],
      "outputs": [
        {
          "output_type": "execute_result",
          "execution_count": 49,
          "data": {
            "text/plain": [
              "'P'"
            ]
          },
          "metadata": {}
        }
      ],
      "execution_count": null,
      "metadata": {
        "id": "8b39JmxHnpzn",
        "outputId": "c78cdc7b-c906-49dd-94e4-5d6cdbc6b774"
      }
    },
    {
      "cell_type": "markdown",
      "source": [
        "In addition to indexing, which extracts individual characters, Python also supports *slicing*, which extracts a substring. To slide, you indicate a *range* in the format `start:end`, where the start position is included but the end position is excluded:"
      ],
      "metadata": {
        "id": "lL3iye7Dnpzn"
      }
    },
    {
      "cell_type": "code",
      "source": [
        "word[0:2]  # Characters from position 0 (included) to 2 (excluded)."
      ],
      "outputs": [
        {
          "output_type": "execute_result",
          "execution_count": 50,
          "data": {
            "text/plain": [
              "'Py'"
            ]
          },
          "metadata": {}
        }
      ],
      "execution_count": null,
      "metadata": {
        "id": "Fkj1cdYxnpzn",
        "outputId": "e233b826-d445-4538-e1aa-f3fca3311c07"
      }
    },
    {
      "cell_type": "code",
      "source": [
        "word[2:5]  # Characters from position 2 (included) to 5 (excluded)."
      ],
      "outputs": [
        {
          "output_type": "execute_result",
          "execution_count": 51,
          "data": {
            "text/plain": [
              "'tho'"
            ]
          },
          "metadata": {}
        }
      ],
      "execution_count": null,
      "metadata": {
        "id": "XAePml9xnpzn",
        "outputId": "320253ce-7512-4fda-bf79-70c582dbee7a"
      }
    },
    {
      "cell_type": "markdown",
      "source": [
        "If you omit either position, the default start position is 0 and the default end is the length of the string:"
      ],
      "metadata": {
        "id": "dDlUEDRznpzo"
      }
    },
    {
      "cell_type": "code",
      "source": [
        "word[:2]   # Character from the beginning to position 2 (excluded)."
      ],
      "outputs": [
        {
          "output_type": "execute_result",
          "execution_count": 52,
          "data": {
            "text/plain": [
              "'Py'"
            ]
          },
          "metadata": {}
        }
      ],
      "execution_count": null,
      "metadata": {
        "id": "i14QO2I1npzo",
        "outputId": "5d7c1b7b-eae8-426e-cb46-7a23ff218fad"
      }
    },
    {
      "cell_type": "code",
      "source": [
        "word[4:]  # Characters from position 4 (included) to the end."
      ],
      "outputs": [
        {
          "output_type": "execute_result",
          "execution_count": 53,
          "data": {
            "text/plain": [
              "'on'"
            ]
          },
          "metadata": {}
        }
      ],
      "execution_count": null,
      "metadata": {
        "id": "NWArgJeXnpzo",
        "outputId": "1a85e36b-433b-42f6-a72d-5305c08b11a5"
      }
    },
    {
      "cell_type": "code",
      "source": [
        "word[-2:] # Characters from the second-last (included) to the end."
      ],
      "outputs": [
        {
          "output_type": "execute_result",
          "execution_count": 54,
          "data": {
            "text/plain": [
              "'on'"
            ]
          },
          "metadata": {}
        }
      ],
      "execution_count": null,
      "metadata": {
        "id": "EHiURyFznpzo",
        "outputId": "1c870f6a-f05d-4c76-9ba7-2f5e07b85611"
      }
    },
    {
      "cell_type": "markdown",
      "source": [
        "This characteristic means that `s[:i] + s[i:]` is always equal to `s`:"
      ],
      "metadata": {
        "id": "Bqdm8ZI6npzo"
      }
    },
    {
      "cell_type": "code",
      "source": [
        "word[:2] + word[2:]"
      ],
      "outputs": [
        {
          "output_type": "execute_result",
          "execution_count": 55,
          "data": {
            "text/plain": [
              "'Python'"
            ]
          },
          "metadata": {}
        }
      ],
      "execution_count": null,
      "metadata": {
        "id": "q3ICiAsCnpzo",
        "outputId": "854191ab-6b57-4228-c7cd-d108e789fddf"
      }
    },
    {
      "cell_type": "code",
      "source": [
        "word[:4] + word[4:]"
      ],
      "outputs": [
        {
          "output_type": "execute_result",
          "execution_count": 56,
          "data": {
            "text/plain": [
              "'Python'"
            ]
          },
          "metadata": {}
        }
      ],
      "execution_count": null,
      "metadata": {
        "id": "AMjj65xNnpzo",
        "outputId": "1af89ee5-b190-4d7d-fb2e-3aa6b27d0e99"
      }
    },
    {
      "cell_type": "markdown",
      "source": [
        "One way to remember how slices work is to think of the indices as pointing between characters, with the left edge of the first character numbered 0. Then the right edge of the last character of a string of *n* characters has index *n*. For example:"
      ],
      "metadata": {
        "id": "7WCTXhkmnpzp"
      }
    },
    {
      "cell_type": "raw",
      "source": [
        " +---+---+---+---+---+---+\n",
        "\n",
        " | P | y | t | h | o | n |\n",
        "\n",
        " +---+---+---+---+---+---+\n",
        "\n",
        " 0   1   2   3   4   5   6\n",
        "\n",
        "-6  -5  -4  -3  -2  -1"
      ],
      "metadata": {
        "id": "xNNzkac4npzp"
      }
    },
    {
      "cell_type": "markdown",
      "source": [
        "The first row of numbers gives the position of the indices 0...6 in the string; the second row gives the corresponding negative indices. The slice from *i* to *j* consists of all characters between the edges labeled *i* and *j*, respectively.\n",
        "\n",
        "For non-negative indices, the length of a slice is the difference of the indices, if both are within bounds. For example, the length of `word[1:3]` is 2.\n",
        "\n",
        "Attempting to use an index that is too large results in an error:"
      ],
      "metadata": {
        "id": "alcTR7oMnpzp"
      }
    },
    {
      "cell_type": "code",
      "source": [
        "word[42]  # The word only has 6 characters."
      ],
      "outputs": [
        {
          "output_type": "error",
          "ename": "IndexError",
          "evalue": "string index out of range",
          "traceback": [
            "\u001b[0;31m---------------------------------------------------------------------------\u001b[0m",
            "\u001b[0;31mIndexError\u001b[0m                                Traceback (most recent call last)",
            "\u001b[0;32m<ipython-input-57-e894f93573ea>\u001b[0m in \u001b[0;36m<module>\u001b[0;34m\u001b[0m\n\u001b[0;32m----> 1\u001b[0;31m \u001b[0mword\u001b[0m\u001b[0;34m[\u001b[0m\u001b[0;36m42\u001b[0m\u001b[0;34m]\u001b[0m  \u001b[0;31m# The word only has 6 characters.\u001b[0m\u001b[0;34m\u001b[0m\u001b[0m\n\u001b[0m",
            "\u001b[0;31mIndexError\u001b[0m: string index out of range"
          ]
        }
      ],
      "execution_count": null,
      "metadata": {
        "id": "TyIGZOa-npzp",
        "outputId": "2ad8c9f0-3d7d-47f4-8a14-5f25639d3ee1"
      }
    },
    {
      "cell_type": "markdown",
      "source": [
        "However, when used in a range, an index that's too large defaults to the size of the string and does not give an error. This characteristic is useful when you always want to slice at a particular index regardless of the length of a string:"
      ],
      "metadata": {
        "id": "7ATfCZAdnpzp"
      }
    },
    {
      "cell_type": "code",
      "source": [
        "word[4:42]"
      ],
      "outputs": [
        {
          "output_type": "execute_result",
          "execution_count": 58,
          "data": {
            "text/plain": [
              "'on'"
            ]
          },
          "metadata": {}
        }
      ],
      "execution_count": null,
      "metadata": {
        "id": "5A4IuwZsnpzp",
        "outputId": "15ba41f3-74d8-48e9-fc7b-8e670ef7d7f6"
      }
    },
    {
      "cell_type": "code",
      "source": [
        "word[42:]"
      ],
      "outputs": [
        {
          "output_type": "execute_result",
          "execution_count": 59,
          "data": {
            "text/plain": [
              "''"
            ]
          },
          "metadata": {}
        }
      ],
      "execution_count": null,
      "metadata": {
        "id": "QosMXFnhnpzp",
        "outputId": "65580cfd-b000-4cb4-b318-72573e9273f3"
      }
    },
    {
      "cell_type": "markdown",
      "source": [
        "Python strings are [immutable](https://docs.python.org/3.5/glossary.html#term-immutable), which means they cannot be changed. Therefore, assigning a value to an indexed position in a string results in an error:"
      ],
      "metadata": {
        "id": "hBKlsbvHnpzp"
      }
    },
    {
      "cell_type": "code",
      "source": [
        "word[0] = 'J'"
      ],
      "outputs": [
        {
          "output_type": "error",
          "ename": "TypeError",
          "evalue": "'str' object does not support item assignment",
          "traceback": [
            "\u001b[0;31m---------------------------------------------------------------------------\u001b[0m",
            "\u001b[0;31mTypeError\u001b[0m                                 Traceback (most recent call last)",
            "\u001b[0;32m<ipython-input-60-91a956888ca7>\u001b[0m in \u001b[0;36m<module>\u001b[0;34m\u001b[0m\n\u001b[0;32m----> 1\u001b[0;31m \u001b[0mword\u001b[0m\u001b[0;34m[\u001b[0m\u001b[0;36m0\u001b[0m\u001b[0;34m]\u001b[0m \u001b[0;34m=\u001b[0m \u001b[0;34m'J'\u001b[0m\u001b[0;34m\u001b[0m\u001b[0m\n\u001b[0m",
            "\u001b[0;31mTypeError\u001b[0m: 'str' object does not support item assignment"
          ]
        }
      ],
      "execution_count": null,
      "metadata": {
        "id": "XsJb1PNRnpzp",
        "outputId": "4e1666e9-2ed1-4e0b-b6b6-6eaa3c28b547"
      }
    },
    {
      "cell_type": "markdown",
      "source": [
        "The following cell also produces an error:"
      ],
      "metadata": {
        "id": "QTOJr7HJnpzq"
      }
    },
    {
      "cell_type": "code",
      "source": [
        "word[2:] = 'py'"
      ],
      "outputs": [
        {
          "output_type": "error",
          "ename": "TypeError",
          "evalue": "'str' object does not support item assignment",
          "traceback": [
            "\u001b[0;31m---------------------------------------------------------------------------\u001b[0m",
            "\u001b[0;31mTypeError\u001b[0m                                 Traceback (most recent call last)",
            "\u001b[0;32m<ipython-input-64-6488bbf78f5a>\u001b[0m in \u001b[0;36m<module>\u001b[0;34m\u001b[0m\n\u001b[0;32m----> 1\u001b[0;31m \u001b[0mword\u001b[0m\u001b[0;34m[\u001b[0m\u001b[0;36m2\u001b[0m\u001b[0;34m:\u001b[0m\u001b[0;34m]\u001b[0m \u001b[0;34m=\u001b[0m \u001b[0;34m'py'\u001b[0m\u001b[0;34m\u001b[0m\u001b[0m\n\u001b[0m",
            "\u001b[0;31mTypeError\u001b[0m: 'str' object does not support item assignment"
          ]
        }
      ],
      "execution_count": null,
      "metadata": {
        "id": "tmds7-kKnpzq",
        "outputId": "8a629ba6-db85-40dd-e46e-8da76e9e28b7"
      }
    },
    {
      "cell_type": "markdown",
      "source": [
        "A slice it itself a value that you can concatenate with other values using `+`:"
      ],
      "metadata": {
        "id": "C9HchVj9npzq"
      }
    },
    {
      "cell_type": "code",
      "source": [
        "'J' + word[1:]"
      ],
      "outputs": [
        {
          "output_type": "execute_result",
          "execution_count": 85,
          "data": {
            "text/plain": [
              "'Jython'"
            ]
          },
          "metadata": {}
        }
      ],
      "execution_count": null,
      "metadata": {
        "id": "Hv7YRPgznpzq",
        "outputId": "6ed21c26-1004-4c09-b97c-4ee942974e97"
      }
    },
    {
      "cell_type": "code",
      "source": [
        "word[:2] + 'Py'"
      ],
      "outputs": [
        {
          "output_type": "execute_result",
          "execution_count": 86,
          "data": {
            "text/plain": [
              "'PyPy'"
            ]
          },
          "metadata": {}
        }
      ],
      "execution_count": null,
      "metadata": {
        "id": "dp5cv7a-npzq",
        "outputId": "d0965af2-7e92-4e6c-95ce-68495d2b5886"
      }
    },
    {
      "cell_type": "markdown",
      "source": [
        "A slice, however, is not a string literal and cannot be used with automatic concatenation. The following code produces an error:"
      ],
      "metadata": {
        "id": "lfrC__Q2npzq"
      }
    },
    {
      "cell_type": "code",
      "source": [
        "word[:2] 'Py'    # Slice is not a literal; produces an error"
      ],
      "outputs": [
        {
          "output_type": "error",
          "ename": "SyntaxError",
          "evalue": "invalid syntax (<ipython-input-87-60be1c701626>, line 1)",
          "traceback": [
            "\u001b[0;36m  File \u001b[0;32m\"<ipython-input-87-60be1c701626>\"\u001b[0;36m, line \u001b[0;32m1\u001b[0m\n\u001b[0;31m    word[:2] 'Py'    # Slice is not a literal; produces an error\u001b[0m\n\u001b[0m                ^\u001b[0m\n\u001b[0;31mSyntaxError\u001b[0m\u001b[0;31m:\u001b[0m invalid syntax\n"
          ]
        }
      ],
      "execution_count": null,
      "metadata": {
        "id": "H0SrtqP7npzq",
        "outputId": "0e49fff3-287e-41ec-b45d-9a563e1aca77"
      }
    },
    {
      "cell_type": "markdown",
      "source": [
        "The built-in function [`len()`](https://docs.python.org/3.5/library/functions.html#len) returns the length of a string:"
      ],
      "metadata": {
        "id": "c6WsewSznpzq"
      }
    },
    {
      "cell_type": "code",
      "source": [
        "s = 'supercalifragilisticexpialidocious'\n",
        "len(s)"
      ],
      "outputs": [
        {
          "output_type": "execute_result",
          "execution_count": 88,
          "data": {
            "text/plain": [
              "34"
            ]
          },
          "metadata": {}
        }
      ],
      "execution_count": null,
      "metadata": {
        "id": "GWjkMXX3npzq",
        "outputId": "0ca58303-7578-43e1-926e-e0f981bacdc2"
      }
    },
    {
      "cell_type": "markdown",
      "source": [
        "### Lists"
      ],
      "metadata": {
        "id": "OITAX5n6npzq"
      }
    },
    {
      "cell_type": "markdown",
      "source": [
        "Python knows a number of _compound_ data types, which are used to group together other values. The most versatile is the [*list*](https://docs.python.org/3.5/library/stdtypes.html#typesseq-list), which can be written as a sequence of comma-separated values (items) between square brackets. Lists might contain items of different types, but usually the items all have the same type."
      ],
      "metadata": {
        "id": "Jctfu-yJnpzr"
      }
    },
    {
      "cell_type": "code",
      "source": [
        "squares = [1, 4, 9, 16, 25]\n",
        "squares"
      ],
      "outputs": [
        {
          "output_type": "execute_result",
          "execution_count": 89,
          "data": {
            "text/plain": [
              "[1, 4, 9, 16, 25]"
            ]
          },
          "metadata": {}
        }
      ],
      "execution_count": null,
      "metadata": {
        "id": "wPikzGlhnpzr",
        "outputId": "b018dca1-36d0-44ee-ccdd-8fd3f323a3b4"
      }
    },
    {
      "cell_type": "markdown",
      "source": [
        "Like strings (and all other built-in [sequence](https://docs.python.org/3.5/glossary.html#term-sequence) types), lists can be indexed and sliced:"
      ],
      "metadata": {
        "id": "hDR95Nzknpzr"
      }
    },
    {
      "cell_type": "code",
      "source": [
        "squares[0]  # Indexing returns the item."
      ],
      "outputs": [
        {
          "output_type": "execute_result",
          "execution_count": 90,
          "data": {
            "text/plain": [
              "1"
            ]
          },
          "metadata": {}
        }
      ],
      "execution_count": null,
      "metadata": {
        "id": "PLjvj1Hxnpzr",
        "outputId": "692e4146-9cf2-4cb6-f87e-9925c4d919c4"
      }
    },
    {
      "cell_type": "code",
      "source": [
        "squares[-1]"
      ],
      "outputs": [
        {
          "output_type": "execute_result",
          "execution_count": 91,
          "data": {
            "text/plain": [
              "25"
            ]
          },
          "metadata": {}
        }
      ],
      "execution_count": null,
      "metadata": {
        "id": "NKqcHMHFnpzr",
        "outputId": "c955ea78-740a-4c43-daa6-f4e44c3ef4d0"
      }
    },
    {
      "cell_type": "code",
      "source": [
        "squares[-3:]  # Slicing returns a new list."
      ],
      "outputs": [
        {
          "output_type": "execute_result",
          "execution_count": 92,
          "data": {
            "text/plain": [
              "[9, 16, 25]"
            ]
          },
          "metadata": {}
        }
      ],
      "execution_count": null,
      "metadata": {
        "id": "FiOyF335npzr",
        "outputId": "c61bb7a0-a5f5-4f76-f4dc-c83abf0de05d"
      }
    },
    {
      "cell_type": "markdown",
      "source": [
        "All slice operations return a new list containing the requested elements. This means that the following slice returns a new (shallow) copy of the list:"
      ],
      "metadata": {
        "id": "CXkmmq3Snpzr"
      }
    },
    {
      "cell_type": "code",
      "source": [
        "squares[:]"
      ],
      "outputs": [
        {
          "output_type": "execute_result",
          "execution_count": 93,
          "data": {
            "text/plain": [
              "[1, 4, 9, 16, 25]"
            ]
          },
          "metadata": {}
        }
      ],
      "execution_count": null,
      "metadata": {
        "id": "szFlLL69npzs",
        "outputId": "e6de5786-8049-4fad-ffae-26d6264b046e"
      }
    },
    {
      "cell_type": "markdown",
      "source": [
        "Lists also support concatenation with the `+` operator:"
      ],
      "metadata": {
        "id": "LfNWZpcTnpzs"
      }
    },
    {
      "cell_type": "code",
      "source": [
        "squares + [36, 49, 64, 81, 100]"
      ],
      "outputs": [
        {
          "output_type": "execute_result",
          "execution_count": 94,
          "data": {
            "text/plain": [
              "[1, 4, 9, 16, 25, 36, 49, 64, 81, 100]"
            ]
          },
          "metadata": {}
        }
      ],
      "execution_count": null,
      "metadata": {
        "id": "TUJnT5mNnpzs",
        "outputId": "7e3402f9-514f-4d3e-b511-5465ff98bd0b"
      }
    },
    {
      "cell_type": "markdown",
      "source": [
        "Unlike strings, which are [immutable](https://docs.python.org/3.5/glossary.html#term-immutable), lists are a [mutable](https://docs.python.org/3.5/glossary.html#term-mutable) type, which means you can change any value in the list:"
      ],
      "metadata": {
        "id": "1qW3XABunpzs"
      }
    },
    {
      "cell_type": "code",
      "source": [
        "cubes = [1, 8, 27, 65, 125]  # Something's wrong here ...\n",
        "4 ** 3  # the cube of 4 is 64, not 65!"
      ],
      "outputs": [
        {
          "output_type": "execute_result",
          "execution_count": 95,
          "data": {
            "text/plain": [
              "64"
            ]
          },
          "metadata": {}
        }
      ],
      "execution_count": null,
      "metadata": {
        "id": "RGasctV6npzs",
        "outputId": "93b08537-105d-4fd9-bb00-7f01c8fe3370"
      }
    },
    {
      "cell_type": "code",
      "source": [
        "cubes[3] = 64  # Replace the wrong value.\n",
        "cubes"
      ],
      "outputs": [
        {
          "output_type": "execute_result",
          "execution_count": 96,
          "data": {
            "text/plain": [
              "[1, 8, 27, 64, 125]"
            ]
          },
          "metadata": {}
        }
      ],
      "execution_count": null,
      "metadata": {
        "id": "_qEhbubknpzs",
        "outputId": "eb4201d1-76a2-4774-c20c-0a600c394d0a"
      }
    },
    {
      "cell_type": "markdown",
      "source": [
        "Use the list's `append()` method to add new items to the end of the list:"
      ],
      "metadata": {
        "id": "jHYI3rJpnpzs"
      }
    },
    {
      "cell_type": "code",
      "source": [
        "cubes.append(216)  # Add the cube of 6 ...\n",
        "cubes.append(7 ** 3)  # and the cube of 7.\n",
        "cubes"
      ],
      "outputs": [
        {
          "output_type": "execute_result",
          "execution_count": 97,
          "data": {
            "text/plain": [
              "[1, 8, 27, 64, 125, 216, 343]"
            ]
          },
          "metadata": {}
        }
      ],
      "execution_count": null,
      "metadata": {
        "id": "p7gNNV38npzs",
        "outputId": "482df5e6-e5a5-450e-877c-0121b9ba1e12"
      }
    },
    {
      "cell_type": "markdown",
      "source": [
        "You can even assign to slices, which can change the size of the list or clear it entirely:"
      ],
      "metadata": {
        "id": "zAwQMfFOnpzs"
      }
    },
    {
      "cell_type": "code",
      "source": [
        "letters = ['a', 'b', 'c', 'd', 'e', 'f', 'g']\n",
        "letters"
      ],
      "outputs": [
        {
          "output_type": "execute_result",
          "execution_count": 98,
          "data": {
            "text/plain": [
              "['a', 'b', 'c', 'd', 'e', 'f', 'g']"
            ]
          },
          "metadata": {}
        }
      ],
      "execution_count": null,
      "metadata": {
        "id": "6zxCYKF5npzt",
        "outputId": "ca598e80-a981-4438-9e84-9cca0d5e4167"
      }
    },
    {
      "cell_type": "code",
      "source": [
        "# Replace some values.\n",
        "letters[2:5] = ['C', 'D', 'E']\n",
        "letters"
      ],
      "outputs": [
        {
          "output_type": "execute_result",
          "execution_count": 99,
          "data": {
            "text/plain": [
              "['a', 'b', 'C', 'D', 'E', 'f', 'g']"
            ]
          },
          "metadata": {}
        }
      ],
      "execution_count": null,
      "metadata": {
        "id": "iYXOMIwgnpzt",
        "outputId": "ebe477a0-9c14-448c-a2df-77e11609576a"
      }
    },
    {
      "cell_type": "code",
      "source": [
        "# Now remove them.\n",
        "letters[2:5] = []\n",
        "letters"
      ],
      "outputs": [
        {
          "output_type": "execute_result",
          "execution_count": 100,
          "data": {
            "text/plain": [
              "['a', 'b', 'f', 'g']"
            ]
          },
          "metadata": {}
        }
      ],
      "execution_count": null,
      "metadata": {
        "id": "HJw5BSjMnpzt",
        "outputId": "e923c95a-ba64-4563-8bc3-21d459ded5ae"
      }
    },
    {
      "cell_type": "code",
      "source": [
        "# Clear the list by replacing all the elements with an empty list.\n",
        "letters[:] = []\n",
        "letters"
      ],
      "outputs": [
        {
          "output_type": "execute_result",
          "execution_count": 101,
          "data": {
            "text/plain": [
              "[]"
            ]
          },
          "metadata": {}
        }
      ],
      "execution_count": null,
      "metadata": {
        "id": "xuKmElB6npzt",
        "outputId": "378307d3-22d6-4144-fd59-59a0de1a0775"
      }
    },
    {
      "cell_type": "markdown",
      "source": [
        "The built-in [`len()`](https://docs.python.org/3.5/library/functions.html#len) function also applies to lists:"
      ],
      "metadata": {
        "id": "CsfCr2u2npzt"
      }
    },
    {
      "cell_type": "code",
      "source": [
        "letters = ['a', 'b', 'c', 'd']\n",
        "len(letters)"
      ],
      "outputs": [
        {
          "output_type": "execute_result",
          "execution_count": 102,
          "data": {
            "text/plain": [
              "4"
            ]
          },
          "metadata": {}
        }
      ],
      "execution_count": null,
      "metadata": {
        "id": "z85ZfE1lnpzt",
        "outputId": "634eebae-d7eb-411a-e95f-090d0e42d70b"
      }
    },
    {
      "cell_type": "markdown",
      "source": [
        "You can nest lists, which means to create lists that contain other lists. For example:"
      ],
      "metadata": {
        "id": "rcYk3qAXnpzt"
      }
    },
    {
      "cell_type": "code",
      "source": [
        "a = ['a', 'b', 'c']\n",
        "n = [1, 2, 3]\n",
        "x = [a, n]\n",
        "x"
      ],
      "outputs": [
        {
          "output_type": "execute_result",
          "execution_count": 103,
          "data": {
            "text/plain": [
              "[['a', 'b', 'c'], [1, 2, 3]]"
            ]
          },
          "metadata": {}
        }
      ],
      "execution_count": null,
      "metadata": {
        "id": "VfNe7K8Dnpzt",
        "outputId": "e68fd7b6-4cb1-409d-d6cf-9452233bc16f"
      }
    },
    {
      "cell_type": "code",
      "source": [
        "x[0]"
      ],
      "outputs": [
        {
          "output_type": "execute_result",
          "execution_count": 104,
          "data": {
            "text/plain": [
              "['a', 'b', 'c']"
            ]
          },
          "metadata": {}
        }
      ],
      "execution_count": null,
      "metadata": {
        "id": "x4onPnufnpzu",
        "outputId": "251ef729-6d49-49e9-feca-7518878a5106"
      }
    },
    {
      "cell_type": "code",
      "source": [
        "x[0][1]"
      ],
      "outputs": [
        {
          "output_type": "execute_result",
          "execution_count": 105,
          "data": {
            "text/plain": [
              "'b'"
            ]
          },
          "metadata": {}
        }
      ],
      "execution_count": null,
      "metadata": {
        "id": "c8QLES-6npzu",
        "outputId": "fa136bc0-9e6f-4383-ea88-00b2dac37fee"
      }
    },
    {
      "cell_type": "markdown",
      "source": [
        "## First Steps Towards Programming"
      ],
      "metadata": {
        "id": "9lXFHyUwnpzu"
      }
    },
    {
      "cell_type": "markdown",
      "source": [
        "Python, being used by professional programmers and scientists, among others, is capable of far more complicated tasks than adding numbers, playing with strings, and manipulating lists. For instance, we can write an initial sub-sequence of the Fibonacci series as follows:"
      ],
      "metadata": {
        "id": "xUfk7Mmwnpzu"
      }
    },
    {
      "cell_type": "code",
      "source": [
        "# Fibonacci series:\n",
        "# the sum of two elements defines the next.\n",
        "a, b = 0, 1\n",
        "\n",
        "while b < 10:\n",
        "    print(b)\n",
        "    a, b = b, a+b"
      ],
      "outputs": [
        {
          "output_type": "stream",
          "name": "stdout",
          "text": [
            "1\n",
            "1\n",
            "2\n",
            "3\n",
            "5\n",
            "8\n"
          ]
        }
      ],
      "execution_count": null,
      "metadata": {
        "id": "Q8WcXzLtnpzu",
        "outputId": "c90b7ffd-1638-4ecb-8508-9b316d99d763"
      }
    },
    {
      "cell_type": "markdown",
      "source": [
        "This example introduces several new features of the Python language:\n",
        "\n",
        "- The first line contains a *multiple assignment*: the variables `a` and `b` simultaneously get the new values 0 and 1. On the last line this assignment is used again, demonstrating that the expressions on the right-hand side are all evaluated first before any of the assignments take place. The right-hand side expressions are evaluated from the left to the right.\n",
        "\n",
        "- The [`while`](https://docs.python.org/3.5/reference/compound_stmts.html#while) loop executes as long as the condition (here: `b < 10`) remains true. In Python, as in C, any non-zero integer value is true; zero is false. The condition may also be a string or list value, in fact any sequence; anything with a non-zero length is true, empty sequences are false. The test used in the example is a simple comparison. The standard comparison operators are written the same as in C: `<` (less than), `>` (greater than), `==` (equal to), `<=` (less than or equal to), `>=` (greater than or equal to) and `!=` (not equal to).\n",
        "\n",
        "- Every line in the *body* of the loop is indented: indentation is Python's way of grouping statements. At the interactive prompt, you have to type a tab or space(s) for each indented line. In practice, you typically write Python code in an editor, including a Jupyter notebook, that provides automatic indentation.\n",
        "\n",
        "- The [`print()`](https://docs.python.org/3.5/library/functions.html#print) function writes the value of the argument(s) its given. `print` differs from just writing the expression you want to write (as we did earlier in the calculator examples) in the way it handles multiple arguments, floating point quantities, and strings. Strings are printed without quotes, and a space is inserted between items, so you can easily format your output nicely. For example:"
      ],
      "metadata": {
        "id": "H7tHES1-npzu"
      }
    },
    {
      "cell_type": "code",
      "source": [
        "i = 256*256\n",
        "print('The value of i is', i)"
      ],
      "outputs": [
        {
          "output_type": "stream",
          "name": "stdout",
          "text": [
            "The value of i is 65536\n"
          ]
        }
      ],
      "execution_count": null,
      "metadata": {
        "id": "r7zsTmWsnpzv",
        "outputId": "075bb598-f24b-4ad3-ec83-a92136d28050"
      }
    },
    {
      "cell_type": "markdown",
      "source": [
        "The keyword argument `end` can be used to avoid the newline after the output, or end the output with a different string:"
      ],
      "metadata": {
        "id": "seuDAWbQnpzv"
      }
    },
    {
      "cell_type": "code",
      "source": [
        "a, b = 0, 1\n",
        "while b < 1000:\n",
        "    print(b, end=',')\n",
        "    a, b = b, a+b"
      ],
      "outputs": [
        {
          "output_type": "stream",
          "name": "stdout",
          "text": [
            "1,1,2,3,5,8,13,21,34,55,89,144,233,377,610,987,"
          ]
        }
      ],
      "execution_count": null,
      "metadata": {
        "id": "TQAcc7oenpzv",
        "outputId": "d987a81f-52e6-4c26-bbcc-34a014c90ef3"
      }
    },
    {
      "cell_type": "markdown",
      "source": [
        "## Learn more\n",
        "\n",
        "Strings:\n",
        "\n",
        "- [Text Sequence Type - str](https://docs.python.org/3.5/library/stdtypes.html#textseq): Strings are examples of *sequence types*, and support the common operations supported by such types.\n",
        "- [String Methods](https://docs.python.org/3.5/library/stdtypes.html#string-methods): Strings support a large number of methods for basic transformations and searching.\n",
        "- [Format String Syntax](https://docs.python.org/3.5/library/string.html#formatstrings): Information about string formatting with [`str.format()`](https://docs.python.org/3.5/library/string.html#formatstrings).\n",
        "- [`printf`-style String Formatting](https://docs.python.org/3.5/library/stdtypes.html#old-string-formatting): The old formatting operations invoked when strings and Unicode strings are the left operand of the `%` operator.\n",
        "\n",
        "Continue the tutorial on python.org (try pasting the code into a notebook!):\n",
        "\n",
        "- [More Control Flow Tools](https://docs.python.org/3.6/tutorial/controlflow.html)\n",
        "- [Data Structures](Data Structures)\n",
        "- [Modules](https://docs.python.org/3.6/tutorial/modules.html)\n",
        "- [Input and Output](https://docs.python.org/3.6/tutorial/inputoutput.html)"
      ],
      "metadata": {
        "id": "laAy0KxTnpzv"
      }
    },
    {
      "cell_type": "markdown",
      "source": [
        "# Any Feedback?"
      ],
      "metadata": {
        "id": "Fza4WE8aP4Hk"
      }
    },
    {
      "cell_type": "code",
      "source": [],
      "metadata": {
        "id": "01171UfgP6ag"
      },
      "execution_count": null,
      "outputs": []
    }
  ],
  "metadata": {
    "kernelspec": {
      "name": "python3",
      "language": "python",
      "display_name": "Python 3"
    },
    "language_info": {
      "name": "python",
      "version": "3.7.3",
      "mimetype": "text/x-python",
      "codemirror_mode": {
        "name": "ipython",
        "version": 3
      },
      "pygments_lexer": "ipython3",
      "nbconvert_exporter": "python",
      "file_extension": ".py"
    },
    "toc": {
      "toc_position": {},
      "skip_h1_title": false,
      "number_sections": true,
      "title_cell": "Table of Contents",
      "toc_window_display": false,
      "base_numbering": 1,
      "toc_section_display": true,
      "title_sidebar": "Contents",
      "toc_cell": false,
      "nav_menu": {},
      "sideBar": true
    },
    "kernel_info": {
      "name": "python3"
    },
    "nteract": {
      "version": "0.15.0"
    },
    "colab": {
      "provenance": [],
      "toc_visible": true
    }
  },
  "nbformat": 4,
  "nbformat_minor": 0
}
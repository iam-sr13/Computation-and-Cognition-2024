{
  "cells": [
    {
      "cell_type": "markdown",
      "metadata": {
        "id": "NRcQzK-YyPad"
      },
      "source": [
        "#Python for data analysis"
      ]
    },
    {
      "cell_type": "markdown",
      "metadata": {
        "id": "O7FdtbvhyPag"
      },
      "source": [
        "<img src=\"http://imgs.xkcd.com/comics/python.png\" width=\"400\">\n",
        "\n"
      ]
    },
    {
      "cell_type": "markdown",
      "metadata": {
        "id": "yIMPQf0JyPah"
      },
      "source": [
        "---"
      ]
    },
    {
      "cell_type": "markdown",
      "metadata": {
        "id": "9U8yzpVgyPah"
      },
      "source": [
        "## Importing libraries"
      ]
    },
    {
      "cell_type": "markdown",
      "metadata": {
        "id": "XkdkZcGLyPah"
      },
      "source": [
        "Before we start we often need to import some additional python libraries.  This is one of the key features of python because there are really amazing libraries that will let you do almost anything!  Also when you get a bit more advanced you can write your own libraries.  \n",
        "\n",
        "There are several common ways of importing. Let's say we want to import a package `foo` that defines a function `widget`:\n",
        "\n",
        "* `import foo` will import the `foo` package; any reference to modules/classes/functions will need to be prefixed with `foo.`; e.g. `foo.widget()`\n",
        "* `import foo as bar` will import the `foo` package with the alias `bar`; any reference to modules/classes/functions will need to be prefixed with `bar.`; e.g. `bar.widget()` This is the preferred method especially when the name of the package is long.\n",
        "* `from foo import widget` can be used to import a specific module/class/function from `foo` and it will be available as `widget()`\n",
        "* `from foo import *` will import every item in `foo` into the current namespace; this is bad practice, don't do it.\n",
        "\n",
        "As you have seen from past notebooks we often want to import `pandas`, `numpy`, and `seaborn`:"
      ]
    },
    {
      "cell_type": "code",
      "execution_count": null,
      "metadata": {
        "id": "fcGVmAa9yPah"
      },
      "outputs": [],
      "source": [
        "%matplotlib inline\n",
        "\n",
        "import pandas as pd\n",
        "import numpy as np\n",
        "import matplotlib.pyplot as plt"
      ]
    },
    {
      "cell_type": "markdown",
      "metadata": {
        "id": "mkBN_N8myPai"
      },
      "source": [
        "<div class=\"alert alert-success\" role=\"alert\">\n",
        "  <strong>Problem 1</strong> <br>\n",
        "  Ooops I forgot to import our favorite plotting library `seaborn`.  Import it below with the shorthand name `sns` and run the code so that this library is available to you later!\n",
        "</div>"
      ]
    },
    {
      "cell_type": "code",
      "execution_count": null,
      "metadata": {
        "id": "pOYhf05MyPaj"
      },
      "outputs": [],
      "source": [
        "# put your code here"
      ]
    },
    {
      "cell_type": "markdown",
      "metadata": {
        "id": "766fpOgdyPaj"
      },
      "source": [
        "There are many great libraries for python.  How do you learn about them?  Check out [pypi.org](https://pypi.org) which lets you search for different libraries.  Of course not all the libraries are installed on our class JupyterHub but all of the [standard ones are](https://docs.python.org/3/library/).  One example of a standard library is the `math` library.  This library implements a bunch of simple math functions ([full list](https://docs.python.org/3/library/math.html)).  For example, `math.sqrt(x)` will take the square root of `x`.  Try to execute the folowing cell:"
      ]
    },
    {
      "cell_type": "code",
      "execution_count": null,
      "metadata": {
        "id": "qYuD6twUyPaj",
        "colab": {
          "base_uri": "https://localhost:8080/"
        },
        "outputId": "603654c2-12ff-435b-baee-e4884afa50d7"
      },
      "outputs": [
        {
          "output_type": "execute_result",
          "data": {
            "text/plain": [
              "1.4142135623730951"
            ]
          },
          "metadata": {},
          "execution_count": 1
        }
      ],
      "source": [
        "import math\n",
        "\n",
        "math.sqrt(2)"
      ]
    },
    {
      "cell_type": "markdown",
      "metadata": {
        "id": "WtkLMfGvyPaj"
      },
      "source": [
        "<div class=\"alert alert-warning\" role=\"alert\">\n",
        "  <strong>Oops!</strong><br>\n",
        "    Did this not work?  Don't worry that is expected!\n",
        "</div>"
      ]
    },
    {
      "cell_type": "markdown",
      "metadata": {
        "id": "bap6GTgXyPaj"
      },
      "source": [
        "<div class=\"alert alert-success\" role=\"alert\">\n",
        "  <strong>Problem 2</strong> <br>\n",
        "  What is wrong with the previous cell?  Why did it not run?  Write the code necessary so it works.  You can copy the command again below.  Keep in mind the advice above about libraries!\n",
        "</div>"
      ]
    },
    {
      "cell_type": "code",
      "execution_count": null,
      "metadata": {
        "id": "WbBBslxzyPaj"
      },
      "outputs": [],
      "source": [
        "# put your code here"
      ]
    },
    {
      "cell_type": "markdown",
      "metadata": {
        "id": "F3AVM6ymyPaj"
      },
      "source": [
        "## Getting Data, Dealing with Lists and Dictionaries"
      ]
    },
    {
      "cell_type": "markdown",
      "metadata": {
        "id": "V7eiNAPHyPak"
      },
      "source": [
        "As we explored in the labs so far, the most common way to read in data for analysis is from a CSV (comma separate values) file.  This is like a simple version of an excel spreadsheet.  Indeed you can export files from Excel as a CSV and also from Google Sheets.\n",
        "\n",
        "```\n",
        "df = pd.read_csv(\"http://myurl.edu/mydata.csv\")\n",
        "```\n",
        "\n",
        "However there are many ways to get data into Python.  For example, another approach is to use what is known as a data API (or application programming interfaces).  Very simply APIs are ways of getting access to data using code.  Many websites including Twitter, Yelp, Strava, etc.. provide APIs that let you access and process at least parts of the data on their websites.  Often companies release python libraries to make this easier.\n",
        "\n",
        "In the rest of the homework we are going to explore one example of this using the [Petfinder.com](https://petfinder.com) website.  Petfinder is a website that helps people locate pets for adoption.  It maintains a searchable database of pets from many different shelters and makes the data on the pets searchable.  There is also a cool python library call `petpy` which help you to interact with the Petfinder website.\n",
        "\n",
        "To get started let's import the `petpy` library.  Here I am not using the `import X as Y` syntax because petpy is pretty easy to type.  I am also importing a few other libraries for displaying images in the Jupyter notebook and downloading files over the internet."
      ]
    },
    {
      "cell_type": "code",
      "source": [
        "!pip install petpy"
      ],
      "metadata": {
        "id": "C4RT6yWT2-_0",
        "colab": {
          "base_uri": "https://localhost:8080/"
        },
        "outputId": "226c6d6a-1052-41aa-9c2b-7316c0be94d2"
      },
      "execution_count": null,
      "outputs": [
        {
          "output_type": "stream",
          "name": "stdout",
          "text": [
            "Collecting petpy\n",
            "  Downloading petpy-2.3.1-py2.py3-none-any.whl (16 kB)\n",
            "Requirement already satisfied: pandas>=0.22.0 in /usr/local/lib/python3.10/dist-packages (from petpy) (1.5.3)\n",
            "Requirement already satisfied: requests>=2.18.4 in /usr/local/lib/python3.10/dist-packages (from petpy) (2.31.0)\n",
            "Requirement already satisfied: python-dateutil>=2.8.1 in /usr/local/lib/python3.10/dist-packages (from pandas>=0.22.0->petpy) (2.8.2)\n",
            "Requirement already satisfied: pytz>=2020.1 in /usr/local/lib/python3.10/dist-packages (from pandas>=0.22.0->petpy) (2023.4)\n",
            "Requirement already satisfied: numpy>=1.21.0 in /usr/local/lib/python3.10/dist-packages (from pandas>=0.22.0->petpy) (1.23.5)\n",
            "Requirement already satisfied: charset-normalizer<4,>=2 in /usr/local/lib/python3.10/dist-packages (from requests>=2.18.4->petpy) (3.3.2)\n",
            "Requirement already satisfied: idna<4,>=2.5 in /usr/local/lib/python3.10/dist-packages (from requests>=2.18.4->petpy) (3.6)\n",
            "Requirement already satisfied: urllib3<3,>=1.21.1 in /usr/local/lib/python3.10/dist-packages (from requests>=2.18.4->petpy) (2.0.7)\n",
            "Requirement already satisfied: certifi>=2017.4.17 in /usr/local/lib/python3.10/dist-packages (from requests>=2.18.4->petpy) (2023.11.17)\n",
            "Requirement already satisfied: six>=1.5 in /usr/local/lib/python3.10/dist-packages (from python-dateutil>=2.8.1->pandas>=0.22.0->petpy) (1.16.0)\n",
            "Installing collected packages: petpy\n",
            "Successfully installed petpy-2.3.1\n"
          ]
        }
      ]
    },
    {
      "cell_type": "code",
      "execution_count": null,
      "metadata": {
        "id": "D5zOf354yPak"
      },
      "outputs": [],
      "source": [
        "import petpy\n",
        "from IPython.display import Image\n",
        "import requests"
      ]
    },
    {
      "cell_type": "markdown",
      "metadata": {
        "id": "YvpuMbEEyPak"
      },
      "source": [
        "<div class=\"alert alert-danger\" role=\"alert\">\n",
        "  <strong>Warning!</strong><br>\n",
        "    The following code (and the rest of this homework) will not work unless you get the API keys from the class message board (e.g., piazza or edstem) and paste it into your notebook.  Check the website or ask the instructor before continuing!\n",
        "</div>"
      ]
    },
    {
      "cell_type": "code",
      "execution_count": null,
      "metadata": {
        "id": "NqGRzAhdyPak"
      },
      "outputs": [],
      "source": [
        "MYKEY = '7zMk8ta06gjCtP1UrnCGipdlo9QORPh6WdV8YPafWEMJLRRgeJ'\n",
        "MYSECRET = 'KfKTqybddT3uEt6cIsFsJBySIDsszPWvAnQSk7kE'\n",
        "pf = petpy.Petfinder(key=MYKEY, secret=MYSECRET)"
      ]
    },
    {
      "cell_type": "markdown",
      "metadata": {
        "id": "qF-UlF2HyPak"
      },
      "source": [
        "The variable `pf` now contains an API interface to the Petfinder website."
      ]
    },
    {
      "cell_type": "code",
      "execution_count": null,
      "metadata": {
        "id": "ZxtmH-aByPak"
      },
      "outputs": [],
      "source": [
        "animal_types = pf.animal_types()"
      ]
    },
    {
      "cell_type": "markdown",
      "metadata": {
        "id": "mmxmm_QbyPak"
      },
      "source": [
        "The new variable we created must contain something but honestly I have no idea what it is right at first.  So I will put it in a cell by itself so I can see what it contains."
      ]
    },
    {
      "cell_type": "code",
      "execution_count": null,
      "metadata": {
        "id": "jaXqfmekyPak",
        "colab": {
          "base_uri": "https://localhost:8080/"
        },
        "outputId": "753817ec-8173-4e87-c3fb-32a5cdff2ecf"
      },
      "outputs": [
        {
          "output_type": "execute_result",
          "data": {
            "text/plain": [
              "{'types': [{'name': 'Dog',\n",
              "   'coats': ['Hairless', 'Short', 'Medium', 'Long', 'Wire', 'Curly'],\n",
              "   'colors': ['Apricot / Beige',\n",
              "    'Bicolor',\n",
              "    'Black',\n",
              "    'Brindle',\n",
              "    'Brown / Chocolate',\n",
              "    'Golden',\n",
              "    'Gray / Blue / Silver',\n",
              "    'Harlequin',\n",
              "    'Merle (Blue)',\n",
              "    'Merle (Red)',\n",
              "    'Red / Chestnut / Orange',\n",
              "    'Sable',\n",
              "    'Tricolor (Brown, Black, & White)',\n",
              "    'White / Cream',\n",
              "    'Yellow / Tan / Blond / Fawn'],\n",
              "   'genders': ['Male', 'Female'],\n",
              "   '_links': {'self': {'href': '/v2/types/dog'},\n",
              "    'breeds': {'href': '/v2/types/dog/breeds'}}},\n",
              "  {'name': 'Cat',\n",
              "   'coats': ['Hairless', 'Short', 'Medium', 'Long'],\n",
              "   'colors': ['Black',\n",
              "    'Black & White / Tuxedo',\n",
              "    'Blue Cream',\n",
              "    'Blue Point',\n",
              "    'Brown / Chocolate',\n",
              "    'Buff & White',\n",
              "    'Buff / Tan / Fawn',\n",
              "    'Calico',\n",
              "    'Chocolate Point',\n",
              "    'Cream / Ivory',\n",
              "    'Cream Point',\n",
              "    'Dilute Calico',\n",
              "    'Dilute Tortoiseshell',\n",
              "    'Flame Point',\n",
              "    'Gray & White',\n",
              "    'Gray / Blue / Silver',\n",
              "    'Lilac Point',\n",
              "    'Orange & White',\n",
              "    'Orange / Red',\n",
              "    'Seal Point',\n",
              "    'Smoke',\n",
              "    'Tabby (Brown / Chocolate)',\n",
              "    'Tabby (Buff / Tan / Fawn)',\n",
              "    'Tabby (Gray / Blue / Silver)',\n",
              "    'Tabby (Leopard / Spotted)',\n",
              "    'Tabby (Orange / Red)',\n",
              "    'Tabby (Tiger Striped)',\n",
              "    'Torbie',\n",
              "    'Tortoiseshell',\n",
              "    'White'],\n",
              "   'genders': ['Male', 'Female'],\n",
              "   '_links': {'self': {'href': '/v2/types/cat'},\n",
              "    'breeds': {'href': '/v2/types/cat/breeds'}}},\n",
              "  {'name': 'Rabbit',\n",
              "   'coats': ['Short', 'Long'],\n",
              "   'colors': ['Agouti',\n",
              "    'Black',\n",
              "    'Blue / Gray',\n",
              "    'Brown / Chocolate',\n",
              "    'Cream',\n",
              "    'Lilac',\n",
              "    'Orange / Red',\n",
              "    'Sable',\n",
              "    'Silver Marten',\n",
              "    'Tan',\n",
              "    'Tortoiseshell',\n",
              "    'White'],\n",
              "   'genders': ['Male', 'Female'],\n",
              "   '_links': {'self': {'href': '/v2/types/rabbit'},\n",
              "    'breeds': {'href': '/v2/types/rabbit/breeds'}}},\n",
              "  {'name': 'Small & Furry',\n",
              "   'coats': ['Hairless', 'Short', 'Long'],\n",
              "   'colors': ['Agouti',\n",
              "    'Albino',\n",
              "    'Black',\n",
              "    'Black Sable',\n",
              "    'Blue / Gray',\n",
              "    'Brown / Chocolate',\n",
              "    'Calico',\n",
              "    'Champagne',\n",
              "    'Cinnamon',\n",
              "    'Cream',\n",
              "    'Orange / Red',\n",
              "    'Sable',\n",
              "    'Tan',\n",
              "    'Tortoiseshell',\n",
              "    'White',\n",
              "    'White (Dark-Eyed)'],\n",
              "   'genders': ['Male', 'Female'],\n",
              "   '_links': {'self': {'href': '/v2/types/small-furry'},\n",
              "    'breeds': {'href': '/v2/types/small-furry/breeds'}}},\n",
              "  {'name': 'Horse',\n",
              "   'coats': [],\n",
              "   'colors': ['Appaloosa',\n",
              "    'Bay',\n",
              "    'Bay Roan',\n",
              "    'Black',\n",
              "    'Blue Roan',\n",
              "    'Brown',\n",
              "    'Buckskin',\n",
              "    'Champagne',\n",
              "    'Chestnut / Sorrel',\n",
              "    'Cremello',\n",
              "    'Dapple Gray',\n",
              "    'Dun',\n",
              "    'Gray',\n",
              "    'Grullo',\n",
              "    'Liver',\n",
              "    'Paint',\n",
              "    'Palomino',\n",
              "    'Perlino',\n",
              "    'Piebald',\n",
              "    'Pinto',\n",
              "    'Red Roan',\n",
              "    'Silver Bay',\n",
              "    'Silver Buckskin',\n",
              "    'Silver Dapple',\n",
              "    'White'],\n",
              "   'genders': ['Male', 'Female'],\n",
              "   '_links': {'self': {'href': '/v2/types/horse'},\n",
              "    'breeds': {'href': '/v2/types/horse/breeds'}}},\n",
              "  {'name': 'Bird',\n",
              "   'coats': [],\n",
              "   'colors': ['Black',\n",
              "    'Blue',\n",
              "    'Brown',\n",
              "    'Buff',\n",
              "    'Gray',\n",
              "    'Green',\n",
              "    'Olive',\n",
              "    'Orange',\n",
              "    'Pink',\n",
              "    'Purple / Violet',\n",
              "    'Red',\n",
              "    'Rust / Rufous',\n",
              "    'Tan',\n",
              "    'White',\n",
              "    'Yellow'],\n",
              "   'genders': ['Male', 'Female', 'Unknown'],\n",
              "   '_links': {'self': {'href': '/v2/types/bird'},\n",
              "    'breeds': {'href': '/v2/types/bird/breeds'}}},\n",
              "  {'name': 'Scales, Fins & Other',\n",
              "   'coats': [],\n",
              "   'colors': ['Black',\n",
              "    'Blue',\n",
              "    'Brown',\n",
              "    'Gray',\n",
              "    'Green',\n",
              "    'Iridescent',\n",
              "    'Orange',\n",
              "    'Purple',\n",
              "    'Red',\n",
              "    'Tan',\n",
              "    'White',\n",
              "    'Yellow'],\n",
              "   'genders': ['Male', 'Female', 'Unknown'],\n",
              "   '_links': {'self': {'href': '/v2/types/scales-fins-other'},\n",
              "    'breeds': {'href': '/v2/types/scales-fins-other/breeds'}}},\n",
              "  {'name': 'Barnyard',\n",
              "   'coats': ['Short', 'Long'],\n",
              "   'colors': ['Agouti',\n",
              "    'Black',\n",
              "    'Black & White',\n",
              "    'Brindle',\n",
              "    'Brown',\n",
              "    'Gray',\n",
              "    'Pink',\n",
              "    'Red',\n",
              "    'Roan',\n",
              "    'Spotted',\n",
              "    'Tan',\n",
              "    'White'],\n",
              "   'genders': ['Male', 'Female'],\n",
              "   '_links': {'self': {'href': '/v2/types/barnyard'},\n",
              "    'breeds': {'href': '/v2/types/barnyard/breeds'}}}]}"
            ]
          },
          "metadata": {},
          "execution_count": 6
        }
      ],
      "source": [
        "animal_types"
      ]
    },
    {
      "cell_type": "markdown",
      "metadata": {
        "id": "FYLikX_XyPal"
      },
      "source": [
        "A cool, ok so `animal_types` looks like a [python dictionary](https://www.w3schools.com/python/python_dictionaries.asp) which you learned about in a prior lab session.  How do I know this? Well I notice that the entire output of the cell above is wrapped in `{ }` which is how you denote a dictionary in python.  For example:"
      ]
    },
    {
      "cell_type": "code",
      "execution_count": null,
      "metadata": {
        "id": "4KghvGTIyPal"
      },
      "outputs": [],
      "source": [
        "my_dictionary = {\"pasta\": \"a type of italian food\", \"pizza\": \"another type of italian food\"}"
      ]
    },
    {
      "cell_type": "markdown",
      "metadata": {
        "id": "77k3S8qWyPal"
      },
      "source": [
        "In the cell above, I just created a new variable called `my_dictionary` which has two *keys* ('pasta' and 'pizza') and two corresponding values/descriptions.  I can lookup the description of each of the key like this"
      ]
    },
    {
      "cell_type": "code",
      "execution_count": null,
      "metadata": {
        "id": "xRKqfGUlyPal",
        "colab": {
          "base_uri": "https://localhost:8080/"
        },
        "outputId": "bb767a4c-343d-4092-b5d8-34c5a43b973b"
      },
      "outputs": [
        {
          "output_type": "stream",
          "name": "stdout",
          "text": [
            "a type of italian food\n"
          ]
        }
      ],
      "source": [
        "print(my_dictionary['pasta'])"
      ]
    },
    {
      "cell_type": "code",
      "execution_count": null,
      "metadata": {
        "id": "6NHcXzuXyPal",
        "colab": {
          "base_uri": "https://localhost:8080/"
        },
        "outputId": "d0bc02b3-c896-4a02-c6e8-5a174ed07ed5"
      },
      "outputs": [
        {
          "output_type": "stream",
          "name": "stdout",
          "text": [
            "another type of italian food\n"
          ]
        }
      ],
      "source": [
        "print(my_dictionary['pizza'])"
      ]
    },
    {
      "cell_type": "code",
      "execution_count": null,
      "metadata": {
        "id": "i5-ugoDayPal",
        "colab": {
          "base_uri": "https://localhost:8080/",
          "height": 176
        },
        "outputId": "1e85d023-ec97-4024-904b-838f03b7e914"
      },
      "outputs": [
        {
          "output_type": "error",
          "ename": "KeyError",
          "evalue": "'salad'",
          "traceback": [
            "\u001b[0;31m---------------------------------------------------------------------------\u001b[0m",
            "\u001b[0;31mKeyError\u001b[0m                                  Traceback (most recent call last)",
            "\u001b[0;32m<ipython-input-10-58b24ce3392f>\u001b[0m in \u001b[0;36m<cell line: 1>\u001b[0;34m()\u001b[0m\n\u001b[0;32m----> 1\u001b[0;31m \u001b[0mprint\u001b[0m\u001b[0;34m(\u001b[0m\u001b[0mmy_dictionary\u001b[0m\u001b[0;34m[\u001b[0m\u001b[0;34m'salad'\u001b[0m\u001b[0;34m]\u001b[0m\u001b[0;34m)\u001b[0m\u001b[0;34m\u001b[0m\u001b[0;34m\u001b[0m\u001b[0m\n\u001b[0m",
            "\u001b[0;31mKeyError\u001b[0m: 'salad'"
          ]
        }
      ],
      "source": [
        "print(my_dictionary['salad'])"
      ]
    },
    {
      "cell_type": "markdown",
      "metadata": {
        "id": "dwY8TIXoyPal"
      },
      "source": [
        "Oops, that was expected..  'salad' wasn't defined in our original dictionary so it can't be looked up (we got an exception called 'KeyError' because the key 'salad' could not be found in the dictionary.\n",
        "\n",
        "The idea with dictionaries is that you can store stuff and easily look it up by name.\n",
        "\n",
        "Getting back to these pets!  What are the keys of this dictionary?"
      ]
    },
    {
      "cell_type": "code",
      "execution_count": null,
      "metadata": {
        "id": "gA2mz_jayPal",
        "colab": {
          "base_uri": "https://localhost:8080/"
        },
        "outputId": "77c60ab3-f6ed-41d2-cb19-e1125765f400"
      },
      "outputs": [
        {
          "output_type": "execute_result",
          "data": {
            "text/plain": [
              "dict_keys(['types'])"
            ]
          },
          "metadata": {},
          "execution_count": 11
        }
      ],
      "source": [
        "animal_types.keys()"
      ]
    },
    {
      "cell_type": "markdown",
      "metadata": {
        "id": "CKtBgILJyPal"
      },
      "source": [
        "Ok so there is one key, `types`.  This must just mean that the API wraps everything up so lets look inside that key.  "
      ]
    },
    {
      "cell_type": "code",
      "execution_count": null,
      "metadata": {
        "id": "PpcFEEdtyPal",
        "colab": {
          "base_uri": "https://localhost:8080/"
        },
        "outputId": "d0e841f1-08e1-40fa-b6b3-4618f7c18bba"
      },
      "outputs": [
        {
          "output_type": "execute_result",
          "data": {
            "text/plain": [
              "[{'name': 'Dog',\n",
              "  'coats': ['Hairless', 'Short', 'Medium', 'Long', 'Wire', 'Curly'],\n",
              "  'colors': ['Apricot / Beige',\n",
              "   'Bicolor',\n",
              "   'Black',\n",
              "   'Brindle',\n",
              "   'Brown / Chocolate',\n",
              "   'Golden',\n",
              "   'Gray / Blue / Silver',\n",
              "   'Harlequin',\n",
              "   'Merle (Blue)',\n",
              "   'Merle (Red)',\n",
              "   'Red / Chestnut / Orange',\n",
              "   'Sable',\n",
              "   'Tricolor (Brown, Black, & White)',\n",
              "   'White / Cream',\n",
              "   'Yellow / Tan / Blond / Fawn'],\n",
              "  'genders': ['Male', 'Female'],\n",
              "  '_links': {'self': {'href': '/v2/types/dog'},\n",
              "   'breeds': {'href': '/v2/types/dog/breeds'}}},\n",
              " {'name': 'Cat',\n",
              "  'coats': ['Hairless', 'Short', 'Medium', 'Long'],\n",
              "  'colors': ['Black',\n",
              "   'Black & White / Tuxedo',\n",
              "   'Blue Cream',\n",
              "   'Blue Point',\n",
              "   'Brown / Chocolate',\n",
              "   'Buff & White',\n",
              "   'Buff / Tan / Fawn',\n",
              "   'Calico',\n",
              "   'Chocolate Point',\n",
              "   'Cream / Ivory',\n",
              "   'Cream Point',\n",
              "   'Dilute Calico',\n",
              "   'Dilute Tortoiseshell',\n",
              "   'Flame Point',\n",
              "   'Gray & White',\n",
              "   'Gray / Blue / Silver',\n",
              "   'Lilac Point',\n",
              "   'Orange & White',\n",
              "   'Orange / Red',\n",
              "   'Seal Point',\n",
              "   'Smoke',\n",
              "   'Tabby (Brown / Chocolate)',\n",
              "   'Tabby (Buff / Tan / Fawn)',\n",
              "   'Tabby (Gray / Blue / Silver)',\n",
              "   'Tabby (Leopard / Spotted)',\n",
              "   'Tabby (Orange / Red)',\n",
              "   'Tabby (Tiger Striped)',\n",
              "   'Torbie',\n",
              "   'Tortoiseshell',\n",
              "   'White'],\n",
              "  'genders': ['Male', 'Female'],\n",
              "  '_links': {'self': {'href': '/v2/types/cat'},\n",
              "   'breeds': {'href': '/v2/types/cat/breeds'}}},\n",
              " {'name': 'Rabbit',\n",
              "  'coats': ['Short', 'Long'],\n",
              "  'colors': ['Agouti',\n",
              "   'Black',\n",
              "   'Blue / Gray',\n",
              "   'Brown / Chocolate',\n",
              "   'Cream',\n",
              "   'Lilac',\n",
              "   'Orange / Red',\n",
              "   'Sable',\n",
              "   'Silver Marten',\n",
              "   'Tan',\n",
              "   'Tortoiseshell',\n",
              "   'White'],\n",
              "  'genders': ['Male', 'Female'],\n",
              "  '_links': {'self': {'href': '/v2/types/rabbit'},\n",
              "   'breeds': {'href': '/v2/types/rabbit/breeds'}}},\n",
              " {'name': 'Small & Furry',\n",
              "  'coats': ['Hairless', 'Short', 'Long'],\n",
              "  'colors': ['Agouti',\n",
              "   'Albino',\n",
              "   'Black',\n",
              "   'Black Sable',\n",
              "   'Blue / Gray',\n",
              "   'Brown / Chocolate',\n",
              "   'Calico',\n",
              "   'Champagne',\n",
              "   'Cinnamon',\n",
              "   'Cream',\n",
              "   'Orange / Red',\n",
              "   'Sable',\n",
              "   'Tan',\n",
              "   'Tortoiseshell',\n",
              "   'White',\n",
              "   'White (Dark-Eyed)'],\n",
              "  'genders': ['Male', 'Female'],\n",
              "  '_links': {'self': {'href': '/v2/types/small-furry'},\n",
              "   'breeds': {'href': '/v2/types/small-furry/breeds'}}},\n",
              " {'name': 'Horse',\n",
              "  'coats': [],\n",
              "  'colors': ['Appaloosa',\n",
              "   'Bay',\n",
              "   'Bay Roan',\n",
              "   'Black',\n",
              "   'Blue Roan',\n",
              "   'Brown',\n",
              "   'Buckskin',\n",
              "   'Champagne',\n",
              "   'Chestnut / Sorrel',\n",
              "   'Cremello',\n",
              "   'Dapple Gray',\n",
              "   'Dun',\n",
              "   'Gray',\n",
              "   'Grullo',\n",
              "   'Liver',\n",
              "   'Paint',\n",
              "   'Palomino',\n",
              "   'Perlino',\n",
              "   'Piebald',\n",
              "   'Pinto',\n",
              "   'Red Roan',\n",
              "   'Silver Bay',\n",
              "   'Silver Buckskin',\n",
              "   'Silver Dapple',\n",
              "   'White'],\n",
              "  'genders': ['Male', 'Female'],\n",
              "  '_links': {'self': {'href': '/v2/types/horse'},\n",
              "   'breeds': {'href': '/v2/types/horse/breeds'}}},\n",
              " {'name': 'Bird',\n",
              "  'coats': [],\n",
              "  'colors': ['Black',\n",
              "   'Blue',\n",
              "   'Brown',\n",
              "   'Buff',\n",
              "   'Gray',\n",
              "   'Green',\n",
              "   'Olive',\n",
              "   'Orange',\n",
              "   'Pink',\n",
              "   'Purple / Violet',\n",
              "   'Red',\n",
              "   'Rust / Rufous',\n",
              "   'Tan',\n",
              "   'White',\n",
              "   'Yellow'],\n",
              "  'genders': ['Male', 'Female', 'Unknown'],\n",
              "  '_links': {'self': {'href': '/v2/types/bird'},\n",
              "   'breeds': {'href': '/v2/types/bird/breeds'}}},\n",
              " {'name': 'Scales, Fins & Other',\n",
              "  'coats': [],\n",
              "  'colors': ['Black',\n",
              "   'Blue',\n",
              "   'Brown',\n",
              "   'Gray',\n",
              "   'Green',\n",
              "   'Iridescent',\n",
              "   'Orange',\n",
              "   'Purple',\n",
              "   'Red',\n",
              "   'Tan',\n",
              "   'White',\n",
              "   'Yellow'],\n",
              "  'genders': ['Male', 'Female', 'Unknown'],\n",
              "  '_links': {'self': {'href': '/v2/types/scales-fins-other'},\n",
              "   'breeds': {'href': '/v2/types/scales-fins-other/breeds'}}},\n",
              " {'name': 'Barnyard',\n",
              "  'coats': ['Short', 'Long'],\n",
              "  'colors': ['Agouti',\n",
              "   'Black',\n",
              "   'Black & White',\n",
              "   'Brindle',\n",
              "   'Brown',\n",
              "   'Gray',\n",
              "   'Pink',\n",
              "   'Red',\n",
              "   'Roan',\n",
              "   'Spotted',\n",
              "   'Tan',\n",
              "   'White'],\n",
              "  'genders': ['Male', 'Female'],\n",
              "  '_links': {'self': {'href': '/v2/types/barnyard'},\n",
              "   'breeds': {'href': '/v2/types/barnyard/breeds'}}}]"
            ]
          },
          "metadata": {},
          "execution_count": 12
        }
      ],
      "source": [
        "animal_types['types']"
      ]
    },
    {
      "cell_type": "markdown",
      "metadata": {
        "id": "ByFa8iteyPal"
      },
      "source": [
        "Ok this is weird but this contains a [python list]().  How do I know that?  Because it is wrapped in `[ ]`.  How many things are in the list?"
      ]
    },
    {
      "cell_type": "code",
      "execution_count": null,
      "metadata": {
        "id": "sCh9X8CFyPam",
        "colab": {
          "base_uri": "https://localhost:8080/"
        },
        "outputId": "58a7e37a-c00f-4033-b101-a9890047cfd3"
      },
      "outputs": [
        {
          "output_type": "execute_result",
          "data": {
            "text/plain": [
              "8"
            ]
          },
          "metadata": {},
          "execution_count": 13
        }
      ],
      "source": [
        "len(animal_types['types'])"
      ]
    },
    {
      "cell_type": "markdown",
      "metadata": {
        "id": "rt_lmFlzyPam"
      },
      "source": [
        "ok, what is in the first slot or position of the list?"
      ]
    },
    {
      "cell_type": "code",
      "execution_count": null,
      "metadata": {
        "id": "ny2-_3RlyPam",
        "colab": {
          "base_uri": "https://localhost:8080/"
        },
        "outputId": "4bb1712a-8cd7-4395-b32f-af2fef708c50"
      },
      "outputs": [
        {
          "output_type": "execute_result",
          "data": {
            "text/plain": [
              "{'name': 'Dog',\n",
              " 'coats': ['Hairless', 'Short', 'Medium', 'Long', 'Wire', 'Curly'],\n",
              " 'colors': ['Apricot / Beige',\n",
              "  'Bicolor',\n",
              "  'Black',\n",
              "  'Brindle',\n",
              "  'Brown / Chocolate',\n",
              "  'Golden',\n",
              "  'Gray / Blue / Silver',\n",
              "  'Harlequin',\n",
              "  'Merle (Blue)',\n",
              "  'Merle (Red)',\n",
              "  'Red / Chestnut / Orange',\n",
              "  'Sable',\n",
              "  'Tricolor (Brown, Black, & White)',\n",
              "  'White / Cream',\n",
              "  'Yellow / Tan / Blond / Fawn'],\n",
              " 'genders': ['Male', 'Female'],\n",
              " '_links': {'self': {'href': '/v2/types/dog'},\n",
              "  'breeds': {'href': '/v2/types/dog/breeds'}}}"
            ]
          },
          "metadata": {},
          "execution_count": 14
        }
      ],
      "source": [
        "animal_types['types'][0]"
      ]
    },
    {
      "cell_type": "markdown",
      "metadata": {
        "id": "skNiU_8wyPao"
      },
      "source": [
        "Ah! Another dictionary (indicated by the `{ }`).  But now I can kind of understand what is going on.  What are the keys of this dictionary?"
      ]
    },
    {
      "cell_type": "code",
      "execution_count": null,
      "metadata": {
        "id": "SuHIzorLyPap",
        "colab": {
          "base_uri": "https://localhost:8080/"
        },
        "outputId": "7a6a23e5-a391-4f49-9bc9-549a2d41acff"
      },
      "outputs": [
        {
          "output_type": "execute_result",
          "data": {
            "text/plain": [
              "dict_keys(['name', 'coats', 'colors', 'genders', '_links'])"
            ]
          },
          "metadata": {},
          "execution_count": 15
        }
      ],
      "source": [
        "animal_types['types'][0].keys()"
      ]
    },
    {
      "cell_type": "markdown",
      "metadata": {
        "id": "250ossa8yPap"
      },
      "source": [
        "Ok, so the keys are things that are describing a type of pet!  We have a field called `name` and one called `coats` which sounds fascinating, and `colors` and `genders`.  Cool!\n",
        "\n",
        "So what is the first type of animal in this list?"
      ]
    },
    {
      "cell_type": "code",
      "execution_count": null,
      "metadata": {
        "id": "O07GOk0LyPap",
        "colab": {
          "base_uri": "https://localhost:8080/",
          "height": 35
        },
        "outputId": "8181c008-7841-4e05-84f6-b9b75d2d902b"
      },
      "outputs": [
        {
          "output_type": "execute_result",
          "data": {
            "text/plain": [
              "'Dog'"
            ],
            "application/vnd.google.colaboratory.intrinsic+json": {
              "type": "string"
            }
          },
          "metadata": {},
          "execution_count": 16
        }
      ],
      "source": [
        "animal_types['types'][0]['name']"
      ]
    },
    {
      "cell_type": "markdown",
      "metadata": {
        "id": "OngHhrIoyPap"
      },
      "source": [
        "Ok, so it is good-boy pups.  What are the possible colors?"
      ]
    },
    {
      "cell_type": "code",
      "execution_count": null,
      "metadata": {
        "id": "KKZqfrxcyPap",
        "colab": {
          "base_uri": "https://localhost:8080/"
        },
        "outputId": "d1c0d35a-cddb-4c60-b7ff-25fa7dcc8c4a"
      },
      "outputs": [
        {
          "output_type": "execute_result",
          "data": {
            "text/plain": [
              "['Apricot / Beige',\n",
              " 'Bicolor',\n",
              " 'Black',\n",
              " 'Brindle',\n",
              " 'Brown / Chocolate',\n",
              " 'Golden',\n",
              " 'Gray / Blue / Silver',\n",
              " 'Harlequin',\n",
              " 'Merle (Blue)',\n",
              " 'Merle (Red)',\n",
              " 'Red / Chestnut / Orange',\n",
              " 'Sable',\n",
              " 'Tricolor (Brown, Black, & White)',\n",
              " 'White / Cream',\n",
              " 'Yellow / Tan / Blond / Fawn']"
            ]
          },
          "metadata": {},
          "execution_count": 17
        }
      ],
      "source": [
        "animal_types['types'][0]['colors']"
      ]
    },
    {
      "cell_type": "markdown",
      "metadata": {
        "id": "j43W0f7HyPap"
      },
      "source": [
        "Really cool stuff.  I think a Merle color dog might really suit me!  Although I don't know that that is actually.  Let me consult wikipedia really quick!"
      ]
    },
    {
      "cell_type": "code",
      "source": [
        "!pip install wikipedia"
      ],
      "metadata": {
        "id": "6MPmtxlQ92oA",
        "colab": {
          "base_uri": "https://localhost:8080/"
        },
        "outputId": "f9f81199-0801-4627-94f1-af6345ba4ea5"
      },
      "execution_count": null,
      "outputs": [
        {
          "output_type": "stream",
          "name": "stdout",
          "text": [
            "Collecting wikipedia\n",
            "  Downloading wikipedia-1.4.0.tar.gz (27 kB)\n",
            "  Preparing metadata (setup.py) ... \u001b[?25l\u001b[?25hdone\n",
            "Requirement already satisfied: beautifulsoup4 in /usr/local/lib/python3.10/dist-packages (from wikipedia) (4.11.2)\n",
            "Requirement already satisfied: requests<3.0.0,>=2.0.0 in /usr/local/lib/python3.10/dist-packages (from wikipedia) (2.31.0)\n",
            "Requirement already satisfied: charset-normalizer<4,>=2 in /usr/local/lib/python3.10/dist-packages (from requests<3.0.0,>=2.0.0->wikipedia) (3.3.2)\n",
            "Requirement already satisfied: idna<4,>=2.5 in /usr/local/lib/python3.10/dist-packages (from requests<3.0.0,>=2.0.0->wikipedia) (3.6)\n",
            "Requirement already satisfied: urllib3<3,>=1.21.1 in /usr/local/lib/python3.10/dist-packages (from requests<3.0.0,>=2.0.0->wikipedia) (2.0.7)\n",
            "Requirement already satisfied: certifi>=2017.4.17 in /usr/local/lib/python3.10/dist-packages (from requests<3.0.0,>=2.0.0->wikipedia) (2023.11.17)\n",
            "Requirement already satisfied: soupsieve>1.2 in /usr/local/lib/python3.10/dist-packages (from beautifulsoup4->wikipedia) (2.5)\n",
            "Building wheels for collected packages: wikipedia\n",
            "  Building wheel for wikipedia (setup.py) ... \u001b[?25l\u001b[?25hdone\n",
            "  Created wheel for wikipedia: filename=wikipedia-1.4.0-py3-none-any.whl size=11678 sha256=8da6c9787b8910e944f895972b2fc3ea7dfaa86c3962105952b6cf3149bee4c8\n",
            "  Stored in directory: /root/.cache/pip/wheels/5e/b6/c5/93f3dec388ae76edc830cb42901bb0232504dfc0df02fc50de\n",
            "Successfully built wikipedia\n",
            "Installing collected packages: wikipedia\n",
            "Successfully installed wikipedia-1.4.0\n"
          ]
        }
      ]
    },
    {
      "cell_type": "code",
      "execution_count": null,
      "metadata": {
        "id": "tuS3c22GyPap",
        "colab": {
          "base_uri": "https://localhost:8080/",
          "height": 139
        },
        "outputId": "66233bee-e503-4dc3-8b36-fec4f1e35ea6"
      },
      "outputs": [
        {
          "output_type": "execute_result",
          "data": {
            "text/plain": [
              "\"Merle is a genetic pattern in a dog's coat and alleles of the PMEL gene. It results in different colors and patterns and can affect any coats. The allele creates mottled patches of color in a solid or piebald coat, blue or odd-colored eyes, and can affect skin pigment as well. Two types of colored patches generally appear in a merle coat: brown/liver (red merle) and black (blue merle). Associated breeds include Carea Leonés, Australian Shepherds and Catahoula Leopard Dogs. Health issues are more typical and more severe when two merle-patterned dogs are bred together.\\n\\n\""
            ],
            "application/vnd.google.colaboratory.intrinsic+json": {
              "type": "string"
            }
          },
          "metadata": {},
          "execution_count": 19
        }
      ],
      "source": [
        "import wikipedia\n",
        "wikipedia.summary(\"Merle dog\")"
      ]
    },
    {
      "cell_type": "markdown",
      "metadata": {
        "id": "7Q3w7jdnyPap"
      },
      "source": [
        "Isn't python so cool?  You can grab wikipedia entiries with one line just by typing `import wikipedia`.  Now you might start understanding the cartoon at the beginning of the homework!"
      ]
    },
    {
      "cell_type": "markdown",
      "metadata": {
        "id": "wfQQ8rF2yPaq"
      },
      "source": [
        "<div class=\"alert alert-success\" role=\"alert\">\n",
        "  <strong>Problem 3</strong> <br>\n",
        "  What are the colors for the \"small and furry\" animals (mice, gerbils, etc...)?\n",
        "</div>"
      ]
    },
    {
      "cell_type": "markdown",
      "metadata": {
        "id": "ElwLEbsayPaq"
      },
      "source": [
        "## For loops and other ways to repeat things"
      ]
    },
    {
      "cell_type": "markdown",
      "metadata": {
        "id": "Mpa6nmkHyPaq"
      },
      "source": [
        "So far we have kind of been playing with dictionaries and list by accessing individual elements.  However sometimes we want to know more general stuff like what is the name of all the types of animals?  To do this we kind of want to use the methods we developed above to look inside this data frame but to repeat this for each element within the structure.  This brings us to the dreaded `for` loop.  Many students are afraid of for loops because they can get a bit complex.  However, they are also a super critial tool for working with data effectively and open up so many more interesting types of analyses to you."
      ]
    },
    {
      "cell_type": "markdown",
      "metadata": {
        "id": "re6v0MU4yPaq"
      },
      "source": [
        "The most common use for a `for` loop in data analysis is to repeat at step for each record of some data.  For instance you might want to print out the value of each item in a list:"
      ]
    },
    {
      "cell_type": "code",
      "execution_count": null,
      "metadata": {
        "id": "qDauz94tyPaq",
        "colab": {
          "base_uri": "https://localhost:8080/"
        },
        "outputId": "6c769ab4-15fc-43e0-c94f-bc1a9e8072ec"
      },
      "outputs": [
        {
          "output_type": "stream",
          "name": "stdout",
          "text": [
            "a\n",
            "b\n",
            "c\n",
            "d\n"
          ]
        }
      ],
      "source": [
        "my_list = ['a','b','c','d']\n",
        "for item in my_list:\n",
        "    print(item)"
      ]
    },
    {
      "cell_type": "markdown",
      "metadata": {
        "id": "hcpB8SWKyPar"
      },
      "source": [
        "you can use features of list to reverse the printout."
      ]
    },
    {
      "cell_type": "code",
      "execution_count": null,
      "metadata": {
        "id": "q_WvyzhKyPar",
        "colab": {
          "base_uri": "https://localhost:8080/"
        },
        "outputId": "05827ce3-8fed-4e8f-9717-6fd5a046c17e"
      },
      "outputs": [
        {
          "output_type": "stream",
          "name": "stdout",
          "text": [
            "d\n",
            "c\n",
            "b\n",
            "a\n"
          ]
        }
      ],
      "source": [
        "my_list = ['a','b','c','d']\n",
        "for item in my_list[::-1]:\n",
        "    print(item)"
      ]
    },
    {
      "cell_type": "markdown",
      "metadata": {
        "id": "SrNgRoAoyPar"
      },
      "source": [
        "or each item in a dictionary:"
      ]
    },
    {
      "cell_type": "code",
      "execution_count": null,
      "metadata": {
        "id": "ZGClpLtNyPar",
        "colab": {
          "base_uri": "https://localhost:8080/"
        },
        "outputId": "0bbfc16b-8442-4e59-a156-2845df42791e"
      },
      "outputs": [
        {
          "output_type": "stream",
          "name": "stdout",
          "text": [
            "I have a tomahawk!\n",
            "I have a katana!\n",
            "I have a hand of god!\n",
            "\n",
            "---\n",
            "\n",
            "My tomahawk has a strength of 20!\n",
            "My katana has a strength of 60!\n",
            "My hand of god has a strength of 100!\n"
          ]
        }
      ],
      "source": [
        "weapon_strengths = {\n",
        "    'tomahawk': 20,\n",
        "    'katana': 60,\n",
        "    'hand of god': 100,\n",
        "}\n",
        "\n",
        "for weapon in weapon_strengths.keys():\n",
        "    print(f\"I have a {weapon}!\")\n",
        "\n",
        "print(\"\\n---\\n\")\n",
        "\n",
        "for weapon, strength in weapon_strengths.items():\n",
        "    print(f\"My {weapon} has a strength of {strength}!\")"
      ]
    },
    {
      "cell_type": "markdown",
      "metadata": {
        "id": "WxX_dY-dyPar"
      },
      "source": [
        "This second example shows how you can repeat the printing command for each key in the dictionary `weapon_strengths.keys()` or all the items (like a list): `weapon_strengths.items()`."
      ]
    },
    {
      "cell_type": "markdown",
      "metadata": {
        "id": "1OgswMtVyPas"
      },
      "source": [
        "Lets try it out for the animals!  What are the types of animals in the Petfinder system?"
      ]
    },
    {
      "cell_type": "code",
      "execution_count": null,
      "metadata": {
        "id": "jVJ_DBe3yPas",
        "colab": {
          "base_uri": "https://localhost:8080/"
        },
        "outputId": "cd47baf7-d33c-4e32-aa73-85da4f8f5293"
      },
      "outputs": [
        {
          "output_type": "stream",
          "name": "stdout",
          "text": [
            "Dog\n",
            "Cat\n",
            "Rabbit\n",
            "Small & Furry\n",
            "Horse\n",
            "Bird\n",
            "Scales, Fins & Other\n",
            "Barnyard\n"
          ]
        }
      ],
      "source": [
        "for animal in animal_types['types']:\n",
        "    print(animal['name'])"
      ]
    },
    {
      "cell_type": "markdown",
      "metadata": {
        "id": "zxaZS43VyPas"
      },
      "source": [
        "Here I am repeating the same code for each entry in the `animal_types['types']` list.  Each entry in that list is first assigned to the variable `animal` and then I look inside that dictionary and access the `name` key."
      ]
    },
    {
      "cell_type": "markdown",
      "metadata": {
        "id": "-O1X2ePryPas"
      },
      "source": [
        "<div class=\"alert alert-success\" role=\"alert\">\n",
        "  <strong>Problem 4 </strong> <br>\n",
        "  Write a for loop that print out the name of each animal category and the coats they have.  Your output should look like this:\n",
        "<pre>\n",
        "Dog: ['Hairless', 'Short', 'Medium', 'Long', 'Wire', 'Curly']\n",
        "Cat: ['Hairless', 'Short', 'Medium', 'Long']\n",
        "Rabbit: ['Short', 'Long']\n",
        "Small & Furry: ['Hairless', 'Short', 'Long']\n",
        "Horse: []\n",
        "Bird: []\n",
        "Scales, Fins & Other: []\n",
        "Barnyard: ['Short', 'Long']\n",
        "</pre>\n",
        "</div>"
      ]
    },
    {
      "cell_type": "code",
      "execution_count": null,
      "metadata": {
        "id": "uo7oHvOtyPas"
      },
      "outputs": [],
      "source": [
        "# put your code here"
      ]
    },
    {
      "cell_type": "code",
      "source": [],
      "metadata": {
        "id": "jHwXS0-IiWWB"
      },
      "execution_count": null,
      "outputs": []
    },
    {
      "cell_type": "markdown",
      "metadata": {
        "id": "FSOCRGPoyPas"
      },
      "source": [
        "So far we have been exploring repeating loops for each entry in a dataset that we obtained via an API.  However, sometimes we just want to repeat things a few times in order to do other stuff.  For instance, as you will see you can use python and `for` loops to draw simple pictures!\n",
        "\n",
        "In order to use `for` loops in this way we have to *create data*.  One of the easiest ways to create data is the `range()` command which creates a list with a sequence of numbers."
      ]
    },
    {
      "cell_type": "code",
      "execution_count": null,
      "metadata": {
        "id": "t9Vgsp1byPas",
        "colab": {
          "base_uri": "https://localhost:8080/"
        },
        "outputId": "3b2faaec-aed6-45c8-e488-be029a014cad"
      },
      "outputs": [
        {
          "output_type": "execute_result",
          "data": {
            "text/plain": [
              "[0, 1, 2, 3, 4]"
            ]
          },
          "metadata": {},
          "execution_count": 24
        }
      ],
      "source": [
        "list(range(5))"
      ]
    },
    {
      "cell_type": "code",
      "execution_count": null,
      "metadata": {
        "id": "_DfKY48gyPas",
        "colab": {
          "base_uri": "https://localhost:8080/"
        },
        "outputId": "539bb048-ede7-491d-bd96-e665fb4b7a07"
      },
      "outputs": [
        {
          "output_type": "execute_result",
          "data": {
            "text/plain": [
              "[0, 1, 2, 3, 4, 5, 6, 7, 8, 9]"
            ]
          },
          "metadata": {},
          "execution_count": 25
        }
      ],
      "source": [
        "list(range(10))"
      ]
    },
    {
      "cell_type": "markdown",
      "metadata": {
        "id": "PiEitd8ryPas"
      },
      "source": [
        "So if we wanted to repeat the same thing 5 times we could do this:"
      ]
    },
    {
      "cell_type": "code",
      "execution_count": null,
      "metadata": {
        "id": "7jf7p05TyPat",
        "colab": {
          "base_uri": "https://localhost:8080/"
        },
        "outputId": "d712305b-e19d-409f-afd8-ea86ca42b4f2"
      },
      "outputs": [
        {
          "output_type": "stream",
          "name": "stdout",
          "text": [
            "hi\n",
            "hi\n",
            "hi\n",
            "hi\n",
            "hi\n"
          ]
        }
      ],
      "source": [
        "for x in range(5):\n",
        "    print(\"hi\")"
      ]
    },
    {
      "cell_type": "markdown",
      "metadata": {
        "id": "6HMl8ubwyPat"
      },
      "source": [
        "You can also place `for` loops inside another `for` loop if you tab is over appropriately.  If this happens you can repeat things in more complex ways.  For instance you can print out a square like this:"
      ]
    },
    {
      "cell_type": "code",
      "execution_count": null,
      "metadata": {
        "id": "p2mjyCZ3yPat",
        "colab": {
          "base_uri": "https://localhost:8080/"
        },
        "outputId": "250707f4-c741-46ca-ff36-f566355c7384"
      },
      "outputs": [
        {
          "output_type": "stream",
          "name": "stdout",
          "text": [
            "* * * * * \n",
            "\n",
            "* * * * * \n",
            "\n",
            "* * * * * \n",
            "\n",
            "* * * * * \n",
            "\n",
            "* * * * * \n",
            "\n"
          ]
        }
      ],
      "source": [
        "for i in range(5):\n",
        "    for j in range(5):\n",
        "      print(\"*\", end = ' ')\n",
        "    print(\"\\n\")"
      ]
    },
    {
      "cell_type": "markdown",
      "metadata": {
        "id": "0TrP376ByPat"
      },
      "source": [
        "<div class=\"alert alert-success\" role=\"alert\">\n",
        "  <strong>Problem 5 </strong> <br>\n",
        "  Modify the code for the square above to write a nested for loop that prints out a triangle with height 5 and width 5.  Your output should look like this:\n",
        "<pre>\n",
        "*\n",
        "* *\n",
        "* * *\n",
        "* * * *\n",
        "* * * * *\n",
        "</pre>\n",
        "</div>"
      ]
    },
    {
      "cell_type": "code",
      "source": [],
      "metadata": {
        "id": "uL-L3GrNAbrD"
      },
      "execution_count": null,
      "outputs": []
    },
    {
      "cell_type": "markdown",
      "metadata": {
        "id": "qxd7QhE_yPat"
      },
      "source": [
        "`for` loops are really interesting when combined with `if` statement.  This means while you are repeating the loop you can skip thing or do something different.  "
      ]
    },
    {
      "cell_type": "code",
      "execution_count": null,
      "metadata": {
        "id": "WUVcHmRpyPat",
        "colab": {
          "base_uri": "https://localhost:8080/"
        },
        "outputId": "7f259aa2-4593-41ab-c619-07c370a4d874"
      },
      "outputs": [
        {
          "output_type": "stream",
          "name": "stdout",
          "text": [
            "* * * * * * * * * * \n",
            "* * * * * * * * * * \n",
            "                    \n",
            "                    \n",
            "                    \n",
            "                    \n",
            "                    \n",
            "                    \n",
            "* * * * * * * * * * \n",
            "* * * * * * * * * * \n"
          ]
        }
      ],
      "source": [
        "for i in range(10):\n",
        "    for j in range(10):\n",
        "        if i < 2 or i > 7:\n",
        "            print(\"*\", end = ' ')\n",
        "        else:\n",
        "            print(\" \", end = ' ')\n",
        "    print(\"\")"
      ]
    },
    {
      "cell_type": "markdown",
      "metadata": {
        "id": "kWDesibsyPat"
      },
      "source": [
        "For example the code above prints out the stars for each square only if the row (i) is less than 2 or greater than 7 (otherwise it prints a empty space instead due to the `else`).  Think about this one for a bit:"
      ]
    },
    {
      "cell_type": "code",
      "execution_count": null,
      "metadata": {
        "id": "Pz-8YV4uyPat",
        "colab": {
          "base_uri": "https://localhost:8080/"
        },
        "outputId": "950f9df1-054f-4965-8235-f5bcbd039c0f"
      },
      "outputs": [
        {
          "output_type": "stream",
          "name": "stdout",
          "text": [
            "* * * * * * * * * * \n",
            "* * * * * * * * * * \n",
            "* * * * * * * * * * \n",
            "* * *         * * * \n",
            "* * *         * * * \n",
            "* * *         * * * \n",
            "* * *         * * * \n",
            "* * * * * * * * * * \n",
            "* * * * * * * * * * \n",
            "* * * * * * * * * * \n"
          ]
        }
      ],
      "source": [
        "for i in range(10):\n",
        "    for j in range(10):\n",
        "        if (i < 3 or i > 6) or (j < 3 or j > 6):\n",
        "            print(\"*\", end = ' ')\n",
        "        else:\n",
        "            print(\" \", end = ' ')\n",
        "    print(\"\")"
      ]
    },
    {
      "cell_type": "markdown",
      "metadata": {
        "id": "hDCB0fozyPat"
      },
      "source": [
        "<div class=\"alert alert-success\" role=\"alert\">\n",
        "  <strong>Problem 6</strong> <br>\n",
        "  Modify your code for the triangle to write a nested for loop that prints out a diamond with height 7 and width 7.  You'll probably want to combined nested loops with if/else statements.  Your output should look like this:\n",
        "<pre>\n",
        "      *\n",
        "    * * *\n",
        "  * * * * *\n",
        "* * * * * * *\n",
        "  * * * * *\n",
        "    * * *\n",
        "      *\n",
        "</pre>\n",
        "</div>"
      ]
    },
    {
      "cell_type": "markdown",
      "metadata": {
        "id": "XugIhVOjyPau"
      },
      "source": [
        "\n",
        "<div class=\"alert alert-success\" role=\"alert\">\n",
        "    <strong>BONUS Problem 1 \"The Wave\"</strong> <br>\n",
        "    \n",
        "  \n",
        "    \n",
        "Create a list called 'people' which is full of zeros, except the first number is a 1. Then write a simple program that steps through each element of the vector. If the \"person\" to the left is standing (i.e., is set to 1.0) then have this current person stand up too. If the current person is already standing then have them sit back down. On each pass through print the contents of the people list. Bonus points for making the wave go forwards and backwards (i.e., left to right then back right to left).\n",
        "    \n",
        "<pre>\n",
        "people = [1,0,0,0,0,0,0,0,0,0]\n",
        "for each number \"i\"\" in between 0 (the start) and the length of people (minus 1):\n",
        "    if person \"i\" is standing up:\n",
        "        make the person one to the right of person \"i\" stand up\n",
        "        make person \"i\" sit down\n",
        "        print people\n",
        "<pre>\n",
        "also remember,\n",
        "<pre>\n",
        "len(people)   # gives you the length of the \"stadium\" of people        \n",
        "people[0] # this is how  you select individual \"people\"\n",
        "people[1]\n",
        "people[2]\n",
        "</pre>\n",
        "</div>"
      ]
    },
    {
      "cell_type": "markdown",
      "metadata": {
        "id": "uhzeh5HkyPau"
      },
      "source": [
        "  <img src=\"https://media.giphy.com/media/Zl0dYeDrDjmms/giphy.gif\" width=\"550\">"
      ]
    },
    {
      "cell_type": "markdown",
      "metadata": {
        "id": "xUsjreLEyPau"
      },
      "source": [
        "Enough of this programming!  As a reward for completing these tough new problems, we'll look at some cute pets using `for` loops.  The petfinder API has a function which will return the set of pets currently available for adoption.  This takes a number of options but by default will return 20 pet listings."
      ]
    },
    {
      "cell_type": "code",
      "execution_count": null,
      "metadata": {
        "id": "CQBOc-PvyPau"
      },
      "outputs": [],
      "source": [
        "animals = pf.animals(return_df=True)"
      ]
    },
    {
      "cell_type": "markdown",
      "metadata": {
        "id": "7ddDVXC6yPau"
      },
      "source": [
        "This returns a pandas dataframe that contains lots of information about the pet including if it is declawed, house trained, etc..."
      ]
    },
    {
      "cell_type": "code",
      "execution_count": null,
      "metadata": {
        "id": "TDU_9Zr1yPau"
      },
      "outputs": [],
      "source": [
        "animals.columns"
      ]
    },
    {
      "cell_type": "code",
      "execution_count": null,
      "metadata": {
        "id": "R8ym8TMyyPau"
      },
      "outputs": [],
      "source": [
        "animals.head()"
      ]
    },
    {
      "cell_type": "code",
      "execution_count": null,
      "metadata": {
        "id": "y8u3xuxYyPau"
      },
      "outputs": [],
      "source": [
        "from skimage import io\n",
        "\n",
        "def show_animal(animals, number, ax):\n",
        "    record=animals.iloc[number]\n",
        "    if record.photos:\n",
        "        if record.photos[0]:\n",
        "            if 'medium' in record.photos[0]:\n",
        "                photo = record.photos[0]['medium']\n",
        "                img=io.imread(photo)\n",
        "                ax[number].set_axis_off()\n",
        "                ax[number].imshow(img)\n",
        "\n",
        "\n",
        "fig, axes = plt.subplots(4, 5, figsize=(12, 12))\n",
        "ax = axes.ravel()\n",
        "\n",
        "for i in range(20):  # check out my for loop!\n",
        "    show_animal(animals,i, ax)\n",
        "\n",
        "plt.show()"
      ]
    },
    {
      "cell_type": "markdown",
      "metadata": {
        "id": "PMad6ChzyPau"
      },
      "source": [
        "The previous cell requires a bit of [matplotlib](https://matplotlib.org) magic to create a grid of images but the key is that there is a for loop that steps through and displays each image.  Try to understand this code and compare it to the loops described above."
      ]
    },
    {
      "cell_type": "markdown",
      "source": [],
      "metadata": {
        "id": "N2XVmi5dcwmu"
      }
    },
    {
      "cell_type": "code",
      "source": [],
      "metadata": {
        "id": "gXA-ftSCcwHW"
      },
      "execution_count": null,
      "outputs": []
    },
    {
      "cell_type": "markdown",
      "metadata": {
        "id": "M3_8lH9TyPav"
      },
      "source": [
        "## Random numbers"
      ]
    },
    {
      "cell_type": "markdown",
      "metadata": {
        "id": "aLn-0TgAyPav"
      },
      "source": [
        "In many aspects of analysis you need to generate random numbers.  You need this for a few reasons\n",
        "1. to create data from a distibution to check your intuitions about randomness (simulation)\n",
        "2. to create cognitive models that have \"noise\" in them so that their behavior is not deterministic\n",
        "3. to test your code by providing \"fake\" data that looks realistic\n",
        "\n",
        "One of the useful libraries for this is numpy's `random` submodule.  The full list of available functions in this library is [here](https://docs.scipy.org/doc/numpy-1.14.0/reference/routines.random.html) and reading through can give you a good sense of what is possible."
      ]
    },
    {
      "cell_type": "code",
      "execution_count": null,
      "metadata": {
        "id": "8d3zMnkgyPav"
      },
      "outputs": [],
      "source": [
        "import numpy.random as npr"
      ]
    },
    {
      "cell_type": "markdown",
      "metadata": {
        "id": "rSd4IcxeyPav"
      },
      "source": [
        "`randn()` gives you a random number of a standard normal distribution (one with the mean = 0 and standard deviation equal to 1.0:"
      ]
    },
    {
      "cell_type": "code",
      "execution_count": null,
      "metadata": {
        "id": "6l1yINWkyPav"
      },
      "outputs": [],
      "source": [
        "npr.randn()"
      ]
    },
    {
      "cell_type": "markdown",
      "metadata": {
        "id": "4dGr-KiPyPav"
      },
      "source": [
        "you can get more than one like this:"
      ]
    },
    {
      "cell_type": "code",
      "execution_count": null,
      "metadata": {
        "id": "tnqtDQP2yPav"
      },
      "outputs": [],
      "source": [
        "npr.randn(10)"
      ]
    },
    {
      "cell_type": "markdown",
      "metadata": {
        "id": "Az7uThm9yPav"
      },
      "source": [
        "lets get even more (1000) and plot them"
      ]
    },
    {
      "cell_type": "code",
      "source": [
        "import seaborn as sns"
      ],
      "metadata": {
        "id": "j9nDRH3HIm9a"
      },
      "execution_count": null,
      "outputs": []
    },
    {
      "cell_type": "code",
      "execution_count": null,
      "metadata": {
        "id": "wPtUeUveyPav"
      },
      "outputs": [],
      "source": [
        "sns.distplot(npr.randn(1000))"
      ]
    },
    {
      "cell_type": "markdown",
      "metadata": {
        "id": "TfA2I6s0yPav"
      },
      "source": [
        "if you want the numbers to be uniform you can use `rand()` which draws random numbers from 0 to 1 (but not including exactly 1.0)."
      ]
    },
    {
      "cell_type": "code",
      "execution_count": null,
      "metadata": {
        "id": "YquoF5OPyPav"
      },
      "outputs": [],
      "source": [
        "npr.rand()"
      ]
    },
    {
      "cell_type": "code",
      "execution_count": null,
      "metadata": {
        "id": "ESmHVY6qyPaw"
      },
      "outputs": [],
      "source": [
        "npr.rand(1000).max()"
      ]
    },
    {
      "cell_type": "markdown",
      "metadata": {
        "id": "0KEq9z75yPaw"
      },
      "source": [
        "as you can see the maximum value even of 1000 random `rand()` numbers is less than 1.0.  while for `randn()` it can be much higher:"
      ]
    },
    {
      "cell_type": "code",
      "execution_count": null,
      "metadata": {
        "id": "IaN1_Ea0yPaw"
      },
      "outputs": [],
      "source": [
        "npr.randn(1000).max()"
      ]
    },
    {
      "cell_type": "markdown",
      "metadata": {
        "id": "hHweBzBOyPaw"
      },
      "source": [
        "`randint()` will only include the integers between the given range."
      ]
    },
    {
      "cell_type": "code",
      "execution_count": null,
      "metadata": {
        "id": "plV7er4GyPaw"
      },
      "outputs": [],
      "source": [
        "npr.randint(0,10,10)"
      ]
    },
    {
      "cell_type": "code",
      "execution_count": null,
      "metadata": {
        "id": "gRhCFKi9yPaw"
      },
      "outputs": [],
      "source": [
        "npr.randint(0,100,10)"
      ]
    },
    {
      "cell_type": "markdown",
      "metadata": {
        "id": "bwja9CvsyPaw"
      },
      "source": [
        "you can also choose a random element of an array or list so that only certain values can be chosen:"
      ]
    },
    {
      "cell_type": "code",
      "execution_count": null,
      "metadata": {
        "id": "Y2ciorY4yPaw"
      },
      "outputs": [],
      "source": [
        "npr.choice(np.array([3,6,1,4]))"
      ]
    },
    {
      "cell_type": "markdown",
      "metadata": {
        "id": "FFnefYm0yPaw"
      },
      "source": [
        "notice that even in 100 draws you never see 0 or 9 because they are not in the given array."
      ]
    },
    {
      "cell_type": "code",
      "execution_count": null,
      "metadata": {
        "id": "utu0J2utyPaw"
      },
      "outputs": [],
      "source": [
        "npr.choice(np.array([3,6,1,4]),100)"
      ]
    },
    {
      "cell_type": "markdown",
      "metadata": {
        "id": "Q2SZu17vyPax"
      },
      "source": [
        "You can also use random to randomly \"shuffle\" a list (meaning changing the order of things like you would a deck of playing cards)."
      ]
    },
    {
      "cell_type": "code",
      "execution_count": null,
      "metadata": {
        "id": "Ly-nIG_fyPax"
      },
      "outputs": [],
      "source": [
        "cards = np.arange(10)\n",
        "print(cards)\n",
        "npr.shuffle(cards)\n",
        "print(cards)"
      ]
    },
    {
      "cell_type": "markdown",
      "metadata": {
        "id": "s_duNqzjyPax"
      },
      "source": [
        "The second list is the same as the first just randomly shuffled."
      ]
    },
    {
      "cell_type": "markdown",
      "metadata": {
        "id": "yYaAErLEyPax"
      },
      "source": [
        "There are lots of distributions you can draw random numbers from:"
      ]
    },
    {
      "cell_type": "markdown",
      "metadata": {
        "id": "rkpsn5XJyPax"
      },
      "source": [
        "**Chi-square**"
      ]
    },
    {
      "cell_type": "code",
      "execution_count": null,
      "metadata": {
        "id": "SVEdSR0myPax"
      },
      "outputs": [],
      "source": [
        "sns.distplot(npr.chisquare(2,10000))"
      ]
    },
    {
      "cell_type": "markdown",
      "metadata": {
        "id": "uQf6bjtgyPax"
      },
      "source": [
        "**lognormal**"
      ]
    },
    {
      "cell_type": "code",
      "execution_count": null,
      "metadata": {
        "id": "KThrXc4zyPax"
      },
      "outputs": [],
      "source": [
        "sns.distplot(npr.lognormal(0,1,10000))"
      ]
    },
    {
      "cell_type": "markdown",
      "metadata": {
        "id": "1kCwWVx6yPax"
      },
      "source": [
        "**F**   \n",
        "you'll see this again when we get to ANOVA!"
      ]
    },
    {
      "cell_type": "code",
      "execution_count": null,
      "metadata": {
        "id": "HceUaZzwyPax"
      },
      "outputs": [],
      "source": [
        "sns.distplot(npr.f(2,16,10000))"
      ]
    },
    {
      "cell_type": "markdown",
      "metadata": {
        "id": "XaLLcrzjyPax"
      },
      "source": [
        "The `cumsum()` command computes the cumulative sum of a list.  Meaning it is the sum created by adding each entry to the list to the values of all the ones that come before."
      ]
    },
    {
      "cell_type": "code",
      "execution_count": null,
      "metadata": {
        "id": "wIclgBkmyPax"
      },
      "outputs": [],
      "source": [
        "np.array([1,2,3,4]).cumsum()"
      ]
    },
    {
      "cell_type": "markdown",
      "metadata": {
        "id": "0OYxXQ9QyPay"
      },
      "source": [
        "So the result is `array([1, 2+1, 3+2+1, 4+3+2+1])`.  Now we can start adding up random numbers.  For example,"
      ]
    },
    {
      "cell_type": "code",
      "execution_count": null,
      "metadata": {
        "id": "lC1C9imfyPay"
      },
      "outputs": [],
      "source": [
        "npr.randn(20).cumsum()"
      ]
    },
    {
      "cell_type": "markdown",
      "metadata": {
        "id": "uLyoKJwDyPay"
      },
      "source": [
        "This is sometimes called a \"random walk\" because you are taking small steps either up or down each time you add a number (the value from `npr.randn()`) but how far you move depends on the current sum.  You can get a sense of this by plotting the sum as it evolves:"
      ]
    },
    {
      "cell_type": "code",
      "execution_count": null,
      "metadata": {
        "id": "0GAfa0P-yPay"
      },
      "outputs": [],
      "source": [
        "plt.plot(npr.randn(200).cumsum())"
      ]
    },
    {
      "cell_type": "markdown",
      "metadata": {
        "id": "T-bG0VRgyPay"
      },
      "source": [
        "Try running the above cell a few times to get a sense of the range of random walks that are possible.\n",
        "\n",
        "You can also plot a few random walks on the same plot together:"
      ]
    },
    {
      "cell_type": "code",
      "execution_count": null,
      "metadata": {
        "id": "5xWEqt5oyPay"
      },
      "outputs": [],
      "source": [
        "for i in range(5):\n",
        "    plt.plot(npr.randn(200).cumsum(),alpha=0.2)"
      ]
    },
    {
      "cell_type": "markdown",
      "metadata": {
        "id": "ayNf2z5IyPay"
      },
      "source": [
        "Let's change the code to plot even more of these... maybe like 500!"
      ]
    },
    {
      "cell_type": "code",
      "execution_count": null,
      "metadata": {
        "id": "g_HmE9m-yPay"
      },
      "outputs": [],
      "source": [
        "for i in range(500):\n",
        "    plt.plot(npr.randn(200).cumsum(),alpha=0.2)"
      ]
    },
    {
      "cell_type": "markdown",
      "metadata": {
        "id": "_LM48MqfyPay"
      },
      "source": [
        "That's interesting... the sum start at zero (makes sense) and then kind of grows to get bigger as time goes on.  Not all paths get bigger of course but some randomly add up a bunch of positive or negative numbers and tend to drift further and further from the starting point."
      ]
    },
    {
      "cell_type": "markdown",
      "metadata": {
        "id": "3aLkeYkCyPaz"
      },
      "source": [
        "Now instead of computing the sum, let's compute the average at each step.  So for each step we need to divide by the number of things we have added together so far."
      ]
    },
    {
      "cell_type": "code",
      "execution_count": null,
      "metadata": {
        "id": "OYPwG9V3yPaz"
      },
      "outputs": [],
      "source": [
        "npr.randn(50).cumsum()/(np.arange(1,50+1))"
      ]
    },
    {
      "cell_type": "markdown",
      "metadata": {
        "id": "i68rbSTJyPaz"
      },
      "source": [
        "Notice we needed to use `np.arange(1,50+1)` because we want to start with value 1 for the first number (`np.arange(50)` would count from 0 to 49 and we would then be dividing by zero on the first sum.\n",
        "\n",
        "Let's plot a bunch of these random averages:"
      ]
    },
    {
      "cell_type": "code",
      "execution_count": null,
      "metadata": {
        "id": "JQcAxZMRyPaz"
      },
      "outputs": [],
      "source": [
        "for i in range(50):\n",
        "    plt.plot(npr.randn(50).cumsum()/(np.arange(50)+1), alpha=0.2)"
      ]
    },
    {
      "cell_type": "markdown",
      "metadata": {
        "id": "x-p4n7KiyPaz"
      },
      "source": [
        "That's interesting, you can see that early on the average is quite variable but as you add more and more numbers the averages seem to converge around a particular value.  As it turns out you are looking at the sampling distribution of the mean for different values of N.  If you took a slice out of the plot at say 10 sums and made a histogram of the averages you would get a histogram of the sampling distribution of the mean."
      ]
    },
    {
      "cell_type": "code",
      "execution_count": null,
      "metadata": {
        "id": "WO0SONwyyPaz"
      },
      "outputs": [],
      "source": [
        "sns.distplot(npr.randn(10,50).sum(axis=0)/10)"
      ]
    },
    {
      "cell_type": "markdown",
      "metadata": {
        "id": "0gIZfR2qyPaz"
      },
      "source": [
        "Interestingly the \"envelope\" of the sampling distribution of the mean seems to be shrinking according to a particular mathematical relationship which is $1/\\sqrt N$ where $N$ is the number of numbers you have added to the sum.\n",
        "\n",
        "In fact we can plot the sqrt(N) on the same plot to see the relationship"
      ]
    },
    {
      "cell_type": "code",
      "execution_count": null,
      "metadata": {
        "id": "1N28X4PlyPaz"
      },
      "outputs": [],
      "source": [
        "for i in range(50):\n",
        "    plt.plot(npr.randn(50).cumsum()/(np.arange(1,50+1)), alpha=0.2)\n",
        "plt.plot(1.0/np.sqrt(np.arange(1,50+1)),'k-')"
      ]
    },
    {
      "cell_type": "markdown",
      "metadata": {
        "id": "p1K2LjRKyPaz"
      },
      "source": [
        "Here, the thick black line is $1/\\sqrt N$ which is how the variance of the sampling distribution changes as the sample size increases!  (remember the formulat for the standard error fo the mean is the standard devision of the sample divided by the square root of N).  Now you can see why!"
      ]
    },
    {
      "cell_type": "markdown",
      "metadata": {
        "id": "2u0BpyeVyPaz"
      },
      "source": [
        "<div class=\"alert alert-success\" role=\"alert\">\n",
        "  <strong>Problem 7 </strong> <br>\n",
        "  Modify the code above to plot the sampling distribution for number drawn from a random uniform distribution and from the chi-sq distribution (see above, you have all the ingredients you need).  Does the shape of the curves look that same?  Why is that?\n",
        "</div>"
      ]
    },
    {
      "cell_type": "code",
      "execution_count": null,
      "metadata": {
        "id": "_alKTmgByPa0"
      },
      "outputs": [],
      "source": [
        "# your code here"
      ]
    },
    {
      "cell_type": "markdown",
      "metadata": {
        "id": "Xfa0lm9qyPa0"
      },
      "source": [
        "---"
      ]
    },
    {
      "cell_type": "markdown",
      "metadata": {
        "id": "9Wfk8KBVyPa0"
      },
      "source": [
        "<img src=\"https://i.redd.it/u8j4x4jiz1q31.jpg\" width=\"400\">"
      ]
    },
    {
      "cell_type": "markdown",
      "metadata": {
        "id": "__gMKRHUyPa0"
      },
      "source": [
        "## Pandas and Data Frames"
      ]
    },
    {
      "cell_type": "markdown",
      "metadata": {
        "id": "ha8ajxxIyPa0"
      },
      "source": [
        "A DataFrame is like a dictionary where the keys are column names and the values are Series that share the same index and hold the column values. The first \"column\" is actually the shared Series index (there are some exceptions to this where the index can be multi-level and span more than one column but in most cases it is flat)."
      ]
    },
    {
      "cell_type": "code",
      "execution_count": null,
      "metadata": {
        "id": "vX4ArHtJyPa0"
      },
      "outputs": [],
      "source": [
        "names = pd.Series(['Alice', 'Bob', 'Carol'])\n",
        "phones = pd.Series(['555-123-4567', '555-987-6543', '555-245-6789'])\n",
        "dept = pd.Series(['Marketing', 'Accounts', 'HR'])\n",
        "\n",
        "staff = pd.DataFrame({'Name': names, 'Phone': phones, 'Department': dept})  # 'Name', 'Phone', 'Department' are the column names\n",
        "staff"
      ]
    },
    {
      "cell_type": "markdown",
      "metadata": {
        "id": "s_1SkJ_lyPa0"
      },
      "source": [
        "Note above that the first column with values 0, 1, 2 is actually the shared index, and there are three series keyed off the three names \"Department\", \"Name\" and \"Phone\".\n",
        "\n",
        "Like `Series, DataFrame` has an index for rows:"
      ]
    },
    {
      "cell_type": "code",
      "execution_count": null,
      "metadata": {
        "id": "sw3MOSeJyPa0"
      },
      "outputs": [],
      "source": [
        "staff.index"
      ]
    },
    {
      "cell_type": "markdown",
      "metadata": {
        "id": "ZZlp6A66yPa0"
      },
      "source": [
        "`DataFrame` also has an index for columns:"
      ]
    },
    {
      "cell_type": "code",
      "execution_count": null,
      "metadata": {
        "id": "nLaY0PwcyPa0"
      },
      "outputs": [],
      "source": [
        "staff.columns"
      ]
    },
    {
      "cell_type": "code",
      "execution_count": null,
      "metadata": {
        "id": "Ux-HR6vHyPa0"
      },
      "outputs": [],
      "source": [
        "staff.values"
      ]
    },
    {
      "cell_type": "markdown",
      "metadata": {
        "id": "iOREuwDQyPa1"
      },
      "source": [
        "The index operator actually selects a column in the DataFrame, while the .iloc and .loc attributes still select rows (actually, we will see in the next section that they can select a subset of the DataFrame with a row selector and column selector, but the row selector comes first so if you supply a single argument to .loc or .iloc you will select rows):"
      ]
    },
    {
      "cell_type": "code",
      "execution_count": null,
      "metadata": {
        "id": "BTAR7fwWyPa1"
      },
      "outputs": [],
      "source": [
        "staff['Name']  # Acts similar to dictionary; returns a column's Series"
      ]
    },
    {
      "cell_type": "code",
      "execution_count": null,
      "metadata": {
        "id": "EjEjv8yNyPa1"
      },
      "outputs": [],
      "source": [
        "staff.loc[2]"
      ]
    },
    {
      "cell_type": "markdown",
      "metadata": {
        "id": "iNnWqBLQyPa1"
      },
      "source": [
        "You can get a transpose of the DataFrame with the .T attribute:"
      ]
    },
    {
      "cell_type": "code",
      "execution_count": null,
      "metadata": {
        "id": "_Zlk1WIryPa1"
      },
      "outputs": [],
      "source": [
        "staff.T"
      ]
    },
    {
      "cell_type": "markdown",
      "metadata": {
        "id": "NNvYsMG6yPa1"
      },
      "source": [
        "You can also access columns like this, with dot-notation. Occasionally this breaks if there is a conflict with a UFunc name, like 'count':"
      ]
    },
    {
      "cell_type": "code",
      "execution_count": null,
      "metadata": {
        "id": "-0-mcPhvyPa1"
      },
      "outputs": [],
      "source": [
        "staff.Name"
      ]
    },
    {
      "cell_type": "markdown",
      "metadata": {
        "id": "06Jn6nACyPa1"
      },
      "source": [
        "You can add new columns. Later we'll see how to do this as a function of existing columns:"
      ]
    },
    {
      "cell_type": "code",
      "execution_count": null,
      "metadata": {
        "id": "TuOd0NzfyPa1"
      },
      "outputs": [],
      "source": [
        "staff['Fulltime'] = True\n",
        "staff.head()"
      ]
    },
    {
      "cell_type": "markdown",
      "metadata": {
        "id": "op9viA8tyPa1"
      },
      "source": [
        "Use `.describe()` to get summary statistics:"
      ]
    },
    {
      "cell_type": "code",
      "execution_count": null,
      "metadata": {
        "id": "CKEvwfYlyPa1"
      },
      "outputs": [],
      "source": [
        "staff.describe()"
      ]
    },
    {
      "cell_type": "markdown",
      "metadata": {
        "id": "Wj4JmI6-yPa1"
      },
      "source": [
        "Use `.quantile()` to get quantiles:"
      ]
    },
    {
      "cell_type": "code",
      "execution_count": null,
      "metadata": {
        "id": "phs4LBh4yPa2"
      },
      "outputs": [],
      "source": [
        "df = pd.DataFrame([2, 3, 1, 4, 3, 5, 2, 6, 3])\n",
        "df.quantile(q=[0.25, 0.75])"
      ]
    },
    {
      "cell_type": "markdown",
      "metadata": {
        "id": "LaOy1BdWyPa2"
      },
      "source": [
        "Use `.drop()` to remove rows. This will return a copy with the modifications and leave the original untouched unless you include the argument `inplace=True`."
      ]
    },
    {
      "cell_type": "code",
      "execution_count": null,
      "metadata": {
        "id": "dtmokcJnyPa2"
      },
      "outputs": [],
      "source": [
        "staff.drop([1])"
      ]
    },
    {
      "cell_type": "code",
      "execution_count": null,
      "metadata": {
        "id": "vrUlG4_7yPa2"
      },
      "outputs": [],
      "source": [
        "# Note that because we didn't say inplace=True,\n",
        "# the original is unchanged\n",
        "staff"
      ]
    },
    {
      "cell_type": "markdown",
      "metadata": {
        "id": "G789LOxxyPa2"
      },
      "source": [
        "There are many ways to construct a DataFrame. For example, from a Series or dictionary of Series, from a list of Python dicts, or from a 2-D NumPy array. There are also utility functions to read data from disk into a DataFrame, e.g. from a .csv file or an Excel spreadsheet. We'll cover some of these later.\n",
        "\n",
        "Many DataFrame operations take an axis argument which defaults to zero. This specifies whether we want to apply the operation by rows (axis=0) or by columns (axis=1).\n",
        "\n",
        "You can drop columns if you specify `axis=1`:"
      ]
    },
    {
      "cell_type": "code",
      "execution_count": null,
      "metadata": {
        "id": "EYq80IN_yPa2"
      },
      "outputs": [],
      "source": [
        "staff.drop([\"Fulltime\"], axis=1)"
      ]
    },
    {
      "cell_type": "markdown",
      "metadata": {
        "id": "RGVSOudJyPa2"
      },
      "source": [
        "Another way to remove a column in-place is to use `del`:"
      ]
    },
    {
      "cell_type": "code",
      "execution_count": null,
      "metadata": {
        "id": "1xzLRsfFyPa2"
      },
      "outputs": [],
      "source": [
        "del staff[\"Department\"]\n",
        "staff"
      ]
    },
    {
      "cell_type": "markdown",
      "metadata": {
        "id": "m4Eku6XwyPa3"
      },
      "source": [
        "You can change the index to be some other column. If you want to save the existing index, then first add it as a new column:"
      ]
    },
    {
      "cell_type": "code",
      "execution_count": null,
      "metadata": {
        "id": "gVlDV_AdyPa3"
      },
      "outputs": [],
      "source": [
        "staff['Number'] = staff.index\n",
        "staff"
      ]
    },
    {
      "cell_type": "code",
      "execution_count": null,
      "metadata": {
        "id": "W5SKOnbQyPa3"
      },
      "outputs": [],
      "source": [
        "# Now we can set the new index. This is a destructive\n",
        "# operation that discards the old index, which is\n",
        "# why we saved it as a new column first.\n",
        "staff = staff.set_index('Name')\n",
        "staff"
      ]
    },
    {
      "cell_type": "markdown",
      "metadata": {
        "id": "gR7Uc6eeyPa3"
      },
      "source": [
        "Alternatively you can promote the index to a column and go back to a numeric index with `reset_index()`:"
      ]
    },
    {
      "cell_type": "code",
      "execution_count": null,
      "metadata": {
        "id": "06sX9ySqyPa3"
      },
      "outputs": [],
      "source": [
        "staff = staff.reset_index()\n",
        "staff"
      ]
    },
    {
      "cell_type": "markdown",
      "metadata": {
        "id": "zgyS_99eyPa3"
      },
      "source": [
        "<div class=\"alert alert-success\" role=\"alert\">\n",
        "  <strong>Problem 8</strong> <br>\n",
        "  Create a data frame from the disctionary called `example_data` below.  Then generate a summary of the data.  Calculate the sum of all the visits (i.e., the total number of visits).\n",
        "</div>"
      ]
    },
    {
      "cell_type": "code",
      "execution_count": null,
      "metadata": {
        "id": "q5pS6beqyPa3"
      },
      "outputs": [],
      "source": [
        "example_data = {'animal': ['cat', 'cat', 'snake', 'dog', 'dog', 'cat', 'snake', 'cat', 'dog', 'dog'],\n",
        "           'age': [2.5, 3, 0.5, np.nan, 5, 2, 4.5, np.nan, 7, 3],\n",
        "           'visits': [1, 3, 2, 3, 2, 3, 1, 1, 2, 1],\n",
        "           'priority': ['yes', 'yes', 'no', 'yes', 'no', 'no', 'no', 'yes', 'no', 'no']}"
      ]
    },
    {
      "cell_type": "code",
      "execution_count": null,
      "metadata": {
        "id": "Jp2O9KT_yPa3"
      },
      "outputs": [],
      "source": [
        "# Put your code to create the DataFrame here\n",
        "# Generate a summary of the data\n",
        "# Calculate the sum of all the visits (the total number of visits)"
      ]
    },
    {
      "cell_type": "markdown",
      "source": [
        "Clue for solution for problem 6: (This only works for odd number) (Try to Solve for both even and odd)"
      ],
      "metadata": {
        "id": "sqGq5Z1Hcz2A"
      }
    },
    {
      "cell_type": "code",
      "source": [
        "def Diamond(rows):\n",
        "    n = 1\n",
        "    for i in range(1, rows, 2):\n",
        "        # loop to print spaces\n",
        "        for j in range (1, (rows - i) + 1):\n",
        "            print(end = \" \")\n",
        "\n",
        "        # loop to print star\n",
        "        while n != (i+1):\n",
        "            print(\"*\", end = \" \")\n",
        "            n = n + 1\n",
        "        n = 1\n",
        "\n",
        "        # line break\n",
        "        print()\n",
        "\n",
        "    k = 0\n",
        "    n = 0\n",
        "    for i in range(1, rows+1, 2):\n",
        "        # loop to print spaces\n",
        "        for j in range (1, k + 1):\n",
        "            print(end = \" \")\n",
        "        k = k + 2\n",
        "\n",
        "        # loop to print star\n",
        "        while n <= (rows - i):\n",
        "            print(\"*\", end = \" \")\n",
        "            n = n + 1\n",
        "        n = 0\n",
        "        print()\n",
        "\n",
        "rows = 7\n",
        "Diamond(rows)"
      ],
      "metadata": {
        "colab": {
          "base_uri": "https://localhost:8080/"
        },
        "id": "rYxtbPfAc183",
        "outputId": "849fc056-4db8-4e21-a641-49c2ede1246b"
      },
      "execution_count": null,
      "outputs": [
        {
          "output_type": "stream",
          "name": "stdout",
          "text": [
            "      * \n",
            "    * * * \n",
            "  * * * * * \n",
            "* * * * * * * \n",
            "  * * * * * \n",
            "    * * * \n",
            "      * \n"
          ]
        }
      ]
    },
    {
      "cell_type": "markdown",
      "metadata": {
        "id": "5ik0pfNVyPa3"
      },
      "source": [
        "## Course feedback"
      ]
    },
    {
      "cell_type": "markdown",
      "metadata": {
        "id": "TQ5twT5xyPa3"
      },
      "source": [
        "**Your thoughts here please**"
      ]
    }
  ],
  "metadata": {
    "kernelspec": {
      "display_name": "Python 3",
      "language": "python",
      "name": "python3"
    },
    "language_info": {
      "codemirror_mode": {
        "name": "ipython",
        "version": 3
      },
      "file_extension": ".py",
      "mimetype": "text/x-python",
      "name": "python",
      "nbconvert_exporter": "python",
      "pygments_lexer": "ipython3",
      "version": "3.7.3"
    },
    "toc": {
      "base_numbering": 1,
      "nav_menu": {},
      "number_sections": true,
      "sideBar": true,
      "skip_h1_title": false,
      "title_cell": "Table of Contents",
      "title_sidebar": "Contents",
      "toc_cell": false,
      "toc_position": {},
      "toc_section_display": true,
      "toc_window_display": false
    },
    "colab": {
      "provenance": []
    }
  },
  "nbformat": 4,
  "nbformat_minor": 0
}